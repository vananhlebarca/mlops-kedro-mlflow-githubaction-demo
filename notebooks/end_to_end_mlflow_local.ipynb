{
 "cells": [
  {
   "cell_type": "markdown",
   "source": [
    "# Loading project context"
   ],
   "metadata": {}
  },
  {
   "cell_type": "code",
   "execution_count": 1,
   "source": [
    "from kedro.framework.startup import _add_src_to_path\r\n",
    "from pathlib import Path\r\n",
    "\r\n",
    "_add_src_to_path(source_dir=Path.cwd().parent/'mlflow_project/kedro_project/src', \r\n",
    "                 project_path=Path.cwd().parent/'mlflow_project/kedro_project')"
   ],
   "outputs": [],
   "metadata": {}
  },
  {
   "cell_type": "code",
   "execution_count": 2,
   "source": [
    "from kedro.framework.session import KedroSession\r\n",
    "#session = KedroSession.create('leads', project_path=Path.cwd()/'kedro_project', env='base')\r\n",
    "session = KedroSession.create('leads', project_path=Path.cwd().parent/'mlflow_project/kedro_project')\r\n",
    "project_context = session.load_context() \r\n",
    "\r\n",
    "parameters = project_context.params"
   ],
   "outputs": [],
   "metadata": {}
  },
  {
   "cell_type": "markdown",
   "source": [],
   "metadata": {}
  },
  {
   "cell_type": "markdown",
   "source": [
    "# 1. Set MLflow tracking URI"
   ],
   "metadata": {}
  },
  {
   "cell_type": "code",
   "execution_count": 3,
   "source": [
    "import mlflow\r\n",
    "\r\n",
    "# check the node mlflow_track_rf to use mlflow_local parameters\r\n",
    "#---------update this according to tracking server\r\n",
    "\r\n",
    "mlflow_params = parameters['mlflow_local']  \r\n",
    "mlflow.set_tracking_uri(mlflow_params['tracking_uri'])\r\n",
    "\r\n",
    "try:\r\n",
    "    mlflow.create_experiment(name=mlflow_params['experiment_name'])\r\n",
    "    print(\"Create A new experiment! Experiment uri: {}.\".format(mlflow.get_tracking_uri()))\r\n",
    "\r\n",
    "except Exception as inst:\r\n",
    "    if 'RESOURCE_ALREADY_EXISTS' in inst.error_code:\r\n",
    "        print('This experiment does exit! Continue set experiment and track!')\r\n",
    "    else:\r\n",
    "        print('Experiment can not be created because of ', inst.error_code)\r\n",
    "\r\n",
    "mlflow.set_experiment(mlflow_params['experiment_name'])"
   ],
   "outputs": [
    {
     "output_type": "stream",
     "name": "stderr",
     "text": [
      "C:\\Users\\anle\\Anaconda3\\envs\\demo_kedro_mlflow\\lib\\site-packages\\azureml\\data\\dataset_type_definitions.py:69: DeprecationWarning: FileType Enum is Deprecated in > 1.0.39. Use strings instead.\n",
      "  category=DeprecationWarning)\n",
      "C:\\Users\\anle\\Anaconda3\\envs\\demo_kedro_mlflow\\lib\\site-packages\\pkg_resources\\__init__.py:1131: DeprecationWarning: Use of .. or absolute path in a resource path is not allowed and will raise exceptions in a future release.\n",
      "  self, resource_name\n",
      "C:\\Users\\anle\\Anaconda3\\envs\\demo_kedro_mlflow\\lib\\site-packages\\mlflow\\types\\schema.py:49: DeprecationWarning: `np.object` is a deprecated alias for the builtin `object`. To silence this warning, use `object` by itself. Doing this will not modify any behavior and is safe. \n",
      "Deprecated in NumPy 1.20; for more details and guidance: https://numpy.org/devdocs/release/1.20.0-notes.html#deprecations\n",
      "  binary = (7, np.dtype(\"bytes\"), \"BinaryType\", np.object)\n"
     ]
    },
    {
     "output_type": "stream",
     "name": "stdout",
     "text": [
      "This experiment does exit! Continue set experiment and track!\n"
     ]
    }
   ],
   "metadata": {}
  },
  {
   "cell_type": "markdown",
   "source": [
    "# 2. Execute Training pipeline"
   ],
   "metadata": {}
  },
  {
   "cell_type": "code",
   "execution_count": 4,
   "source": [
    "# --------run  pipeline------------\r\n",
    "#project_context.run(pipeline_name=\"de\")\r\n",
    "project_context.run()"
   ],
   "outputs": [
    {
     "output_type": "stream",
     "name": "stdout",
     "text": [
      "2021-07-13 08:17:10,043 - root - INFO - ** Kedro project kedro_project\n"
     ]
    },
    {
     "output_type": "stream",
     "name": "stderr",
     "text": [
      "C:\\Users\\anle\\Anaconda3\\envs\\demo_kedro_mlflow\\lib\\site-packages\\kedro\\framework\\context\\context.py:595: DeprecationWarning: `kedro.framework.context.KedroContext.run` is now deprecated in favour of `KedroSession.run` and will be removed in Kedro 0.18.0.\n",
      "  DeprecationWarning,\n",
      "C:\\Users\\anle\\Anaconda3\\envs\\demo_kedro_mlflow\\lib\\site-packages\\kedro\\versioning\\journal.py:58: DeprecationWarning: `Journal` is now deprecated and will be removed in Kedro 0.18.0.For more information, please visit https://github.com/quantumblacklabs/kedro/blob/master/RELEASE.md\n",
      "  DeprecationWarning,\n"
     ]
    },
    {
     "output_type": "stream",
     "name": "stdout",
     "text": [
      "2021-07-13 08:17:12,806 - kedro.versioning.journal - WARNING - Unable to git describe C:\\Users\\anle\\Desktop\\github\\mlops-kedro-mlflow-githubaction-demo\\mlflow_project\\kedro_project\n"
     ]
    },
    {
     "output_type": "stream",
     "name": "stderr",
     "text": [
      "C:\\Users\\anle\\Anaconda3\\envs\\demo_kedro_mlflow\\lib\\site-packages\\fsspec\\__init__.py:43: DeprecationWarning: SelectableGroups dict interface is deprecated. Use select.\n",
      "  for spec in entry_points.get(\"fsspec.specs\", []):\n"
     ]
    },
    {
     "output_type": "stream",
     "name": "stdout",
     "text": [
      "2021-07-13 08:17:14,062 - kedro.io.data_catalog - INFO - Loading data from `leads_dataset` (CSVDataSet)...\n",
      "2021-07-13 08:17:14,472 - kedro.io.data_catalog - INFO - Loading data from `params:leads_categorical_columns` (MemoryDataSet)...\n",
      "2021-07-13 08:17:14,478 - kedro.pipeline.node - INFO - Running node: lower_columns: lower_columns([leads_dataset,params:leads_categorical_columns]) -> [leads_dataset_clean]\n",
      "2021-07-13 08:17:14,876 - kedro.io.data_catalog - INFO - Saving data to `leads_dataset_clean` (CSVDataSet)...\n",
      "2021-07-13 08:17:15,701 - kedro.runner.sequential_runner - INFO - Completed 1 out of 12 tasks\n",
      "2021-07-13 08:17:15,727 - kedro.io.data_catalog - INFO - Loading data from `leads_daily` (ParquetDataSet)...\n",
      "2021-07-13 08:17:16,454 - kedro.io.data_catalog - INFO - Loading data from `params:leads_categorical_columns` (MemoryDataSet)...\n",
      "2021-07-13 08:17:16,457 - kedro.pipeline.node - INFO - Running node: daily_lower_columns: lower_columns([leads_daily,params:leads_categorical_columns]) -> [leads_daily_clean]\n",
      "2021-07-13 08:17:16,485 - kedro.io.data_catalog - INFO - Saving data to `leads_daily_clean` (MemoryDataSet)...\n",
      "2021-07-13 08:17:16,489 - kedro.runner.sequential_runner - INFO - Completed 2 out of 12 tasks\n",
      "2021-07-13 08:17:16,491 - kedro.io.data_catalog - INFO - Loading data from `leads_dataset_clean` (CSVDataSet)...\n",
      "2021-07-13 08:17:16,717 - kedro.io.data_catalog - INFO - Loading data from `params:leads_categorical_columns` (MemoryDataSet)...\n",
      "2021-07-13 08:17:16,721 - kedro.pipeline.node - INFO - Running node: onehotencoder_fit: onehotencoder_fit([leads_dataset_clean,params:leads_categorical_columns]) -> [onehotencoder]\n",
      "2021-07-13 08:17:16,735 - kedro.io.data_catalog - INFO - Saving data to `onehotencoder` (PickleDataSet)...\n",
      "2021-07-13 08:17:16,744 - kedro.runner.sequential_runner - INFO - Completed 3 out of 12 tasks\n",
      "2021-07-13 08:17:16,750 - kedro.io.data_catalog - INFO - Loading data from `leads_dataset_clean` (CSVDataSet)...\n",
      "2021-07-13 08:17:16,975 - kedro.io.data_catalog - INFO - Loading data from `params:leads_response_column` (MemoryDataSet)...\n",
      "2021-07-13 08:17:16,986 - kedro.io.data_catalog - INFO - Loading data from `params:split_ratio` (MemoryDataSet)...\n",
      "2021-07-13 08:17:16,988 - kedro.pipeline.node - INFO - Running node: split_data: split_data([leads_dataset_clean,params:leads_response_column,params:split_ratio]) -> [test_x,test_y,train_x,train_y]\n",
      "2021-07-13 08:17:17,014 - kedro.io.data_catalog - INFO - Saving data to `train_x` (CSVDataSet)...\n",
      "2021-07-13 08:17:17,303 - kedro.io.data_catalog - INFO - Saving data to `train_y` (CSVDataSet)...\n",
      "2021-07-13 08:17:17,342 - kedro.io.data_catalog - INFO - Saving data to `test_x` (CSVDataSet)...\n",
      "2021-07-13 08:17:17,465 - kedro.io.data_catalog - INFO - Saving data to `test_y` (CSVDataSet)...\n",
      "2021-07-13 08:17:17,500 - kedro.runner.sequential_runner - INFO - Completed 4 out of 12 tasks\n",
      "2021-07-13 08:17:17,503 - kedro.io.data_catalog - INFO - Loading data from `train_x` (CSVDataSet)...\n",
      "2021-07-13 08:17:17,656 - kedro.io.data_catalog - INFO - Loading data from `params:leads_numeric_columns` (MemoryDataSet)...\n",
      "2021-07-13 08:17:17,659 - kedro.pipeline.node - INFO - Running node: scaler_fit: scaler_fit([params:leads_numeric_columns,train_x]) -> [scaler]\n",
      "2021-07-13 08:17:17,667 - kedro.io.data_catalog - INFO - Saving data to `scaler` (PickleDataSet)...\n",
      "2021-07-13 08:17:17,698 - kedro.runner.sequential_runner - INFO - Completed 5 out of 12 tasks\n",
      "2021-07-13 08:17:17,701 - kedro.io.data_catalog - INFO - Loading data from `onehotencoder` (PickleDataSet)...\n",
      "2021-07-13 08:17:17,705 - kedro.io.data_catalog - INFO - Loading data from `scaler` (PickleDataSet)...\n",
      "2021-07-13 08:17:17,715 - kedro.io.data_catalog - INFO - Loading data from `train_x` (CSVDataSet)...\n",
      "2021-07-13 08:17:17,834 - kedro.io.data_catalog - INFO - Loading data from `params:leads_numeric_columns` (MemoryDataSet)...\n",
      "2021-07-13 08:17:17,836 - kedro.io.data_catalog - INFO - Loading data from `params:leads_categorical_columns` (MemoryDataSet)...\n",
      "2021-07-13 08:17:17,839 - kedro.pipeline.node - INFO - Running node: process_train_set: pre_process_leads_data([onehotencoder,params:leads_categorical_columns,params:leads_numeric_columns,scaler,train_x]) -> [train_x_clean]\n",
      "2021-07-13 08:17:17,935 - kedro.io.data_catalog - INFO - Saving data to `train_x_clean` (CSVDataSet)...\n",
      "2021-07-13 08:17:18,786 - kedro.runner.sequential_runner - INFO - Completed 6 out of 12 tasks\n",
      "2021-07-13 08:17:18,788 - kedro.io.data_catalog - INFO - Loading data from `onehotencoder` (PickleDataSet)...\n",
      "2021-07-13 08:17:18,796 - kedro.io.data_catalog - INFO - Loading data from `scaler` (PickleDataSet)...\n",
      "2021-07-13 08:17:18,800 - kedro.io.data_catalog - INFO - Loading data from `test_x` (CSVDataSet)...\n",
      "2021-07-13 08:17:18,863 - kedro.io.data_catalog - INFO - Loading data from `params:leads_numeric_columns` (MemoryDataSet)...\n",
      "2021-07-13 08:17:18,865 - kedro.io.data_catalog - INFO - Loading data from `params:leads_categorical_columns` (MemoryDataSet)...\n",
      "2021-07-13 08:17:18,866 - kedro.pipeline.node - INFO - Running node: process_test_set: pre_process_leads_data([onehotencoder,params:leads_categorical_columns,params:leads_numeric_columns,scaler,test_x]) -> [test_x_clean]\n",
      "2021-07-13 08:17:18,904 - kedro.io.data_catalog - INFO - Saving data to `test_x_clean` (CSVDataSet)...\n",
      "2021-07-13 08:17:19,295 - kedro.runner.sequential_runner - INFO - Completed 7 out of 12 tasks\n",
      "2021-07-13 08:17:19,297 - kedro.io.data_catalog - INFO - Loading data from `onehotencoder` (PickleDataSet)...\n",
      "2021-07-13 08:17:19,301 - kedro.io.data_catalog - INFO - Loading data from `scaler` (PickleDataSet)...\n",
      "2021-07-13 08:17:19,305 - kedro.io.data_catalog - INFO - Loading data from `leads_daily_clean` (MemoryDataSet)...\n",
      "2021-07-13 08:17:19,312 - kedro.io.data_catalog - INFO - Loading data from `params:leads_numeric_columns` (MemoryDataSet)...\n",
      "2021-07-13 08:17:19,314 - kedro.io.data_catalog - INFO - Loading data from `params:leads_categorical_columns` (MemoryDataSet)...\n",
      "2021-07-13 08:17:19,317 - kedro.pipeline.node - INFO - Running node: process_daily_set: pre_process_leads_data([leads_daily_clean,onehotencoder,params:leads_categorical_columns,params:leads_numeric_columns,scaler]) -> [leads_daily_clean_processed]\n",
      "2021-07-13 08:17:19,355 - kedro.io.data_catalog - INFO - Saving data to `leads_daily_clean_processed` (MemoryDataSet)...\n",
      "2021-07-13 08:17:19,360 - kedro.runner.sequential_runner - INFO - Completed 8 out of 12 tasks\n",
      "2021-07-13 08:17:19,363 - kedro.io.data_catalog - INFO - Loading data from `train_x_clean` (CSVDataSet)...\n",
      "2021-07-13 08:17:19,680 - kedro.io.data_catalog - INFO - Loading data from `train_y` (CSVDataSet)...\n",
      "2021-07-13 08:17:19,689 - kedro.io.data_catalog - INFO - Loading data from `parameters` (MemoryDataSet)...\n",
      "2021-07-13 08:17:19,692 - kedro.pipeline.node - INFO - Running node: train_rf: train_model_rf([parameters,train_x_clean,train_y]) -> [rf_model]\n",
      "2021-07-13 08:17:19,852 - kedro.io.data_catalog - INFO - Saving data to `rf_model` (PickleDataSet)...\n",
      "2021-07-13 08:17:19,865 - kedro.runner.sequential_runner - INFO - Completed 9 out of 12 tasks\n",
      "2021-07-13 08:17:19,867 - kedro.io.data_catalog - INFO - Loading data from `rf_model` (PickleDataSet)...\n",
      "2021-07-13 08:17:19,872 - kedro.io.data_catalog - INFO - Loading data from `test_x_clean` (CSVDataSet)...\n"
     ]
    },
    {
     "output_type": "stream",
     "name": "stderr",
     "text": [
      "c:\\Users\\anle\\Desktop\\github\\mlops-kedro-mlflow-githubaction-demo\\mlflow_project\\kedro_project\\src\\leads\\pipelines\\data_science\\nodes.py:56: DataConversionWarning: A column-vector y was passed when a 1d array was expected. Please change the shape of y to (n_samples,), for example using ravel().\n",
      "  model.fit(x, y)\n"
     ]
    },
    {
     "output_type": "stream",
     "name": "stdout",
     "text": [
      "2021-07-13 08:17:20,000 - kedro.io.data_catalog - INFO - Loading data from `test_y` (CSVDataSet)...\n",
      "2021-07-13 08:17:20,012 - kedro.io.data_catalog - INFO - Loading data from `parameters` (MemoryDataSet)...\n",
      "2021-07-13 08:17:20,014 - kedro.io.data_catalog - INFO - Loading data from `params:mlflow_aml` (MemoryDataSet)...\n",
      "2021-07-13 08:17:20,016 - kedro.pipeline.node - INFO - Running node: mlflow_track_rf: mlflow_metrics_tracking([parameters,params:mlflow_aml,rf_model,test_x_clean,test_y]) -> [mlflow_latest_run]\n",
      "Run ID:  a9b058df9ffd47ceb1a84b0076f99b25\n",
      "model_uri:  runs:/a9b058df9ffd47ceb1a84b0076f99b25/model\n",
      "2021-07-13 08:17:22,250 - kedro.io.data_catalog - INFO - Saving data to `mlflow_latest_run` (YAMLDataSet)...\n",
      "2021-07-13 08:17:22,262 - kedro.runner.sequential_runner - INFO - Completed 10 out of 12 tasks\n",
      "2021-07-13 08:17:22,265 - kedro.io.data_catalog - INFO - Loading data from `rf_model` (PickleDataSet)...\n",
      "2021-07-13 08:17:22,271 - kedro.io.data_catalog - INFO - Loading data from `leads_daily_clean_processed` (MemoryDataSet)...\n",
      "2021-07-13 08:17:22,276 - kedro.pipeline.node - INFO - Running node: prediction: predict_model_rf([leads_daily_clean_processed,rf_model]) -> [predictions]\n",
      "2021-07-13 08:17:22,292 - kedro.io.data_catalog - INFO - Saving data to `predictions` (MemoryDataSet)...\n",
      "2021-07-13 08:17:22,295 - kedro.runner.sequential_runner - INFO - Completed 11 out of 12 tasks\n",
      "2021-07-13 08:17:22,299 - kedro.io.data_catalog - INFO - Loading data from `leads_daily` (ParquetDataSet)...\n",
      "2021-07-13 08:17:22,320 - kedro.io.data_catalog - INFO - Loading data from `predictions` (MemoryDataSet)...\n",
      "2021-07-13 08:17:22,327 - kedro.io.data_catalog - INFO - Loading data from `params:leads_response_column` (MemoryDataSet)...\n",
      "2021-07-13 08:17:22,331 - kedro.pipeline.node - INFO - Running node: daily_prediction: append_prediction([leads_daily,params:leads_response_column,predictions]) -> [leads_daily_predicted]\n",
      "2021-07-13 08:17:22,336 - kedro.io.data_catalog - INFO - Saving data to `leads_daily_predicted` (CSVDataSet)...\n",
      "2021-07-13 08:17:22,399 - kedro.runner.sequential_runner - INFO - Completed 12 out of 12 tasks\n",
      "2021-07-13 08:17:22,402 - kedro.runner.sequential_runner - INFO - Pipeline execution completed successfully.\n"
     ]
    },
    {
     "output_type": "execute_result",
     "data": {
      "text/plain": [
       "{}"
      ]
     },
     "metadata": {},
     "execution_count": 4
    }
   ],
   "metadata": {}
  },
  {
   "cell_type": "markdown",
   "source": [
    "# 3. Register the model in AML"
   ],
   "metadata": {}
  },
  {
   "cell_type": "code",
   "execution_count": 5,
   "source": [
    "from azureml.core import Workspace\r\n",
    "from azureml.core.authentication import InteractiveLoginAuthentication\r\n",
    "#forced_interactive_auth = InteractiveLoginAuthentication(tenant_id=\"aaaa\", force=True)\r\n",
    "\r\n",
    "# ws = Workspace(subscription_id=\"aaaa\",\r\n",
    "#                resource_group=\"bbb\",\r\n",
    "#                workspace_name=\"ccc\")\r\n",
    "\r\n",
    "ws = Workspace.from_config()"
   ],
   "outputs": [
    {
     "output_type": "stream",
     "name": "stdout",
     "text": [
      "2021-07-12 21:02:04,017 - azureml.core.workspace - INFO - Found the config file in: c:\\Users\\anle\\Desktop\\github\\mlops-kedro-mlflow-githubaction-demo\\.azureml\\config.json\n",
      "2021-07-12 21:02:05,148 - adal-python - INFO - 858a5a3a-8e85-4739-ae4d-a34560bf50db - CacheDriver:Cached token is expired at 2021-07-12 20:59:30.634776.  Refreshing\n",
      "2021-07-12 21:02:05,151 - adal-python - INFO - 858a5a3a-8e85-4739-ae4d-a34560bf50db - TokenRequest:Getting a new token from a refresh token\n",
      "2021-07-12 21:02:05,966 - adal-python - INFO - 858a5a3a-8e85-4739-ae4d-a34560bf50db - CacheDriver:Returning token refreshed after expiry.\n"
     ]
    },
    {
     "output_type": "stream",
     "name": "stderr",
     "text": [
      "C:\\Users\\anle\\Anaconda3\\envs\\demo_kedro_mlflow\\lib\\site-packages\\urllib3\\util\\retry.py:440: DeprecationWarning: Using 'method_whitelist' with Retry is deprecated and will be removed in v2.0. Use 'allowed_methods' instead\n",
      "  DeprecationWarning,\n"
     ]
    }
   ],
   "metadata": {}
  },
  {
   "cell_type": "code",
   "execution_count": 7,
   "source": [
    "import mlflow.azureml\r\n",
    "\r\n",
    "run_info = project_context.catalog.load('mlflow_latest_run')\r\n",
    "\r\n",
    "model_image, azure_model = mlflow.azureml.build_image(model_uri=run_info['model_uri'], \r\n",
    "                                                      workspace=ws,\r\n",
    "                                                      model_name=\"model\",\r\n",
    "                                                      image_name=\"model\",\r\n",
    "                                                      description=\"Sklearn image for scoring leads\",\r\n",
    "                                                      synchronous=False)\r\n",
    "model_image.wait_for_creation(show_output=True)"
   ],
   "outputs": [
    {
     "output_type": "stream",
     "name": "stdout",
     "text": [
      "2021-07-12 17:31:27,419 - kedro.io.data_catalog - INFO - Loading data from `mlflow_latest_run` (YAMLDataSet)...\n"
     ]
    },
    {
     "output_type": "stream",
     "name": "stderr",
     "text": [
      "C:\\Users\\anle\\Anaconda3\\envs\\demo_kedro_mlflow\\lib\\site-packages\\kedro\\config\\config.py:324: UserWarning: Duplicate environment detected! Skipping re-loading from configuration path: C:\\Users\\anle\\Desktop\\journal_club\\kedro_project\\conf\\base\n",
      "  f\"Duplicate environment detected! \"\n",
      "C:\\Users\\anle\\Anaconda3\\envs\\demo_kedro_mlflow\\lib\\site-packages\\kedro\\framework\\context\\context.py:497: UserWarning: Credentials not found in your Kedro project config.\n",
      "No files found in ['C:\\\\Users\\\\anle\\\\Desktop\\\\journal_club\\\\kedro_project\\\\conf\\\\base'] matching the glob pattern(s): ['credentials*', 'credentials*/**', '**/credentials*']\n",
      "  warn(f\"Credentials not found in your Kedro project config.\\n{str(exc)}\")\n"
     ]
    },
    {
     "output_type": "stream",
     "name": "stdout",
     "text": [
      "2021-07-12 17:31:27,854 - azureml._restclient.clientbase - INFO - Created a worker pool for first use\n",
      "Registering model model\n"
     ]
    },
    {
     "output_type": "stream",
     "name": "stderr",
     "text": [
      "2021/07/12 17:31:31 INFO mlflow.azureml: Registered an Azure Model with name: `model` and version: `7`\n",
      "C:\\Users\\anle\\Anaconda3\\envs\\demo_kedro_mlflow\\lib\\site-packages\\mlflow\\azureml\\__init__.py:222: DeprecationWarning: ContainerImage class has been deprecated and will be removed in a future release. Please migrate to using Environments. https://docs.microsoft.com/en-us/azure/machine-learning/how-to-use-environments\n",
      "  tags=tags,\n",
      "C:\\Users\\anle\\Anaconda3\\envs\\demo_kedro_mlflow\\lib\\site-packages\\azureml\\core\\image\\container.py:161: DeprecationWarning: ContainerImageConfig class has been deprecated and will be removed in a future release. Please migrate to using Environments. https://docs.microsoft.com/en-us/azure/machine-learning/how-to-use-environments\n",
      "  base_image, base_image_registry, cuda_version=cuda_version)\n",
      "C:\\Users\\anle\\Anaconda3\\envs\\demo_kedro_mlflow\\lib\\site-packages\\mlflow\\azureml\\__init__.py:228: DeprecationWarning: Image class has been deprecated and will be removed in a future release. Please migrate to using Environments. https://docs.microsoft.com/en-us/azure/machine-learning/how-to-use-environments\n",
      "  models=[registered_model],\n"
     ]
    },
    {
     "output_type": "stream",
     "name": "stdout",
     "text": [
      "Creating image\n"
     ]
    },
    {
     "output_type": "stream",
     "name": "stderr",
     "text": [
      "C:\\Users\\anle\\Anaconda3\\envs\\demo_kedro_mlflow\\lib\\site-packages\\azureml\\core\\image\\image.py:407: DeprecationWarning: Image class has been deprecated and will be removed in a future release. Please migrate to using Environments. https://docs.microsoft.com/en-us/azure/machine-learning/how-to-use-environments\n",
      "  image = Image(workspace, id=image_id)\n",
      "2021/07/12 17:31:36 INFO mlflow.azureml: Building an Azure Container Image with name: `model` and version: `7`\n"
     ]
    },
    {
     "output_type": "stream",
     "name": "stdout",
     "text": [
      "Running............................................................\n",
      "Succeeded\n"
     ]
    },
    {
     "output_type": "stream",
     "name": "stderr",
     "text": [
      "C:\\Users\\anle\\Anaconda3\\envs\\demo_kedro_mlflow\\lib\\site-packages\\azureml\\core\\image\\image.py:507: DeprecationWarning: Image class has been deprecated and will be removed in a future release. Please migrate to using Environments. https://docs.microsoft.com/en-us/azure/machine-learning/how-to-use-environments\n",
      "  image = Image(self.workspace, id=self.id)\n"
     ]
    },
    {
     "output_type": "stream",
     "name": "stdout",
     "text": [
      "Image creation operation finished for image model:7, operation \"Succeeded\"\n"
     ]
    }
   ],
   "metadata": {}
  },
  {
   "cell_type": "markdown",
   "source": [
    "# 4. Deploy model "
   ],
   "metadata": {}
  },
  {
   "cell_type": "code",
   "execution_count": 8,
   "source": [
    "from azureml.core.webservice import AciWebservice, Webservice\r\n",
    "\r\n",
    "dev_webservice_name = \"leads-aci\"\r\n",
    "dev_webservice_deployment_config = AciWebservice.deploy_configuration()\r\n",
    "\r\n",
    "try:\r\n",
    "    dev_existing_webservice_delete = Webservice(workspace=ws, name=dev_webservice_name).delete()\r\n",
    "except Exception:\r\n",
    "    pass\r\n",
    "    \r\n",
    "dev_webservice = Webservice.deploy_from_image(name=dev_webservice_name, image=model_image,deployment_config=dev_webservice_deployment_config,workspace=ws)\r\n",
    "dev_webservice.wait_for_deployment()"
   ],
   "outputs": [
    {
     "output_type": "stream",
     "name": "stderr",
     "text": [
      "C:\\Users\\anle\\Anaconda3\\envs\\demo_kedro_mlflow\\lib\\site-packages\\azureml\\core\\image\\image.py:821: DeprecationWarning: Image class has been deprecated and will be removed in a future release. Please migrate to using Environments. https://docs.microsoft.com/en-us/azure/machine-learning/how-to-use-environments\n",
      "  image = cls(None)\n",
      "C:\\Users\\anle\\Anaconda3\\envs\\demo_kedro_mlflow\\lib\\site-packages\\ipykernel_launcher.py:11: DeprecationWarning: deploy_from_image has been deprecated and will be removed in a future release. Please migrate to using Environments. https://docs.microsoft.com/en-us/azure/machine-learning/how-to-use-environments\n",
      "  # This is added back by InteractiveShellApp.init_path()\n"
     ]
    },
    {
     "output_type": "stream",
     "name": "stdout",
     "text": [
      "ACI service creation operation finished, operation \"Succeeded\"\n"
     ]
    }
   ],
   "metadata": {}
  },
  {
   "cell_type": "code",
   "execution_count": null,
   "source": [],
   "outputs": [],
   "metadata": {}
  }
 ],
 "metadata": {
  "kernelspec": {
   "display_name": "Python 3",
   "language": "python",
   "name": "python3"
  },
  "language_info": {
   "codemirror_mode": {
    "name": "ipython",
    "version": 3
   },
   "file_extension": ".py",
   "mimetype": "text/x-python",
   "name": "python",
   "nbconvert_exporter": "python",
   "pygments_lexer": "ipython3",
   "version": "3.7.10"
  }
 },
 "nbformat": 4,
 "nbformat_minor": 5
}