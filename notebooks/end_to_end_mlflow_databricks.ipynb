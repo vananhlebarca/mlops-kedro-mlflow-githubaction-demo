{
 "cells": [
  {
   "cell_type": "markdown",
   "source": [
    "# Loading project context"
   ],
   "metadata": {}
  },
  {
   "cell_type": "code",
   "execution_count": 1,
   "source": [
    "from kedro.framework.startup import _add_src_to_path\r\n",
    "from pathlib import Path\r\n",
    "\r\n",
    "_add_src_to_path(source_dir=Path.cwd()/'mlflow_project/kedro_project/src', \r\n",
    "                 project_path=Path.cwd()/'mlflow_project/kedro_project')"
   ],
   "outputs": [],
   "metadata": {}
  },
  {
   "cell_type": "code",
   "execution_count": 2,
   "source": [
    "from kedro.framework.session import KedroSession\r\n",
    "\r\n",
    "session = KedroSession.create('leads', project_path=Path.cwd()/'mlflow_project/kedro_project', env='base')\r\n",
    "project_context = session.load_context() \r\n",
    "\r\n",
    "parameters = project_context.params"
   ],
   "outputs": [
    {
     "output_type": "stream",
     "name": "stderr",
     "text": [
      "C:\\Users\\anle\\Anaconda3\\envs\\demo_kedro_mlflow\\lib\\site-packages\\kedro\\config\\config.py:324: UserWarning: Duplicate environment detected! Skipping re-loading from configuration path: C:\\Users\\anle\\Desktop\\github\\mlops-kedro-mlflow-githubaction-demo\\mlflow_project\\kedro_project\\conf\\base\n",
      "  f\"Duplicate environment detected! \"\n"
     ]
    }
   ],
   "metadata": {}
  },
  {
   "cell_type": "markdown",
   "source": [],
   "metadata": {}
  },
  {
   "cell_type": "markdown",
   "source": [
    "# 1. Set MLflow tracking URI"
   ],
   "metadata": {}
  },
  {
   "cell_type": "code",
   "execution_count": 3,
   "source": [
    "import mlflow\r\n",
    "\r\n",
    "# check the node mlflow_track_rf to use mlflow_databricks parameters\r\n",
    "#---------update this according to tracking server\r\n",
    "mlflow_params = parameters['mlflow_databricks'] \r\n",
    "mlflow.set_tracking_uri(mlflow_params['tracking_uri'])\r\n",
    "\r\n",
    "try:\r\n",
    "    mlflow.create_experiment(name=mlflow_params['experiment_name'])\r\n",
    "    print(\"Create A new experiment! Experiment uri: {}.\".format(mlflow.get_tracking_uri()))\r\n",
    "\r\n",
    "except Exception as inst:\r\n",
    "    if 'RESOURCE_ALREADY_EXISTS' in inst.error_code:\r\n",
    "        print('This experiment does exit! Continue set experiment and track!')\r\n",
    "    else:\r\n",
    "        print('Experiment can not be created because of ', inst.error_code)\r\n",
    "\r\n",
    "mlflow.set_experiment(mlflow_params['experiment_name'])"
   ],
   "outputs": [
    {
     "output_type": "stream",
     "name": "stderr",
     "text": [
      "C:\\Users\\anle\\Anaconda3\\envs\\demo_kedro_mlflow\\lib\\site-packages\\azureml\\data\\dataset_type_definitions.py:69: DeprecationWarning: FileType Enum is Deprecated in > 1.0.39. Use strings instead.\n",
      "  category=DeprecationWarning)\n",
      "C:\\Users\\anle\\Anaconda3\\envs\\demo_kedro_mlflow\\lib\\site-packages\\pkg_resources\\__init__.py:1131: DeprecationWarning: Use of .. or absolute path in a resource path is not allowed and will raise exceptions in a future release.\n",
      "  self, resource_name\n",
      "C:\\Users\\anle\\Anaconda3\\envs\\demo_kedro_mlflow\\lib\\site-packages\\mlflow\\types\\schema.py:49: DeprecationWarning: `np.object` is a deprecated alias for the builtin `object`. To silence this warning, use `object` by itself. Doing this will not modify any behavior and is safe. \n",
      "Deprecated in NumPy 1.20; for more details and guidance: https://numpy.org/devdocs/release/1.20.0-notes.html#deprecations\n",
      "  binary = (7, np.dtype(\"bytes\"), \"BinaryType\", np.object)\n"
     ]
    },
    {
     "output_type": "stream",
     "name": "stdout",
     "text": [
      "This experiment does exit! Continue set experiment and track!\n"
     ]
    }
   ],
   "metadata": {}
  },
  {
   "cell_type": "markdown",
   "source": [
    "# 2. Execute Training pipeline"
   ],
   "metadata": {}
  },
  {
   "cell_type": "code",
   "execution_count": 4,
   "source": [
    "# --------run  pipeline------------\r\n",
    "#project_context.run(pipeline_name=\"de\")\r\n",
    "project_context.run()"
   ],
   "outputs": [
    {
     "output_type": "stream",
     "name": "stdout",
     "text": [
      "2021-07-13 07:38:27,229 - root - INFO - ** Kedro project kedro_project\n"
     ]
    },
    {
     "output_type": "stream",
     "name": "stderr",
     "text": [
      "C:\\Users\\anle\\Anaconda3\\envs\\demo_kedro_mlflow\\lib\\site-packages\\kedro\\framework\\context\\context.py:595: DeprecationWarning: `kedro.framework.context.KedroContext.run` is now deprecated in favour of `KedroSession.run` and will be removed in Kedro 0.18.0.\n",
      "  DeprecationWarning,\n",
      "C:\\Users\\anle\\Anaconda3\\envs\\demo_kedro_mlflow\\lib\\site-packages\\kedro\\versioning\\journal.py:58: DeprecationWarning: `Journal` is now deprecated and will be removed in Kedro 0.18.0.For more information, please visit https://github.com/quantumblacklabs/kedro/blob/master/RELEASE.md\n",
      "  DeprecationWarning,\n"
     ]
    },
    {
     "output_type": "stream",
     "name": "stdout",
     "text": [
      "2021-07-13 07:38:33,445 - kedro.versioning.journal - WARNING - Unable to git describe C:\\Users\\anle\\Desktop\\github\\mlops-kedro-mlflow-githubaction-demo\\mlflow_project\\kedro_project\n"
     ]
    },
    {
     "output_type": "stream",
     "name": "stderr",
     "text": [
      "C:\\Users\\anle\\Anaconda3\\envs\\demo_kedro_mlflow\\lib\\site-packages\\kedro\\config\\config.py:324: UserWarning: Duplicate environment detected! Skipping re-loading from configuration path: C:\\Users\\anle\\Desktop\\github\\mlops-kedro-mlflow-githubaction-demo\\mlflow_project\\kedro_project\\conf\\base\n",
      "  f\"Duplicate environment detected! \"\n",
      "C:\\Users\\anle\\Anaconda3\\envs\\demo_kedro_mlflow\\lib\\site-packages\\kedro\\framework\\context\\context.py:497: UserWarning: Credentials not found in your Kedro project config.\n",
      "No files found in ['C:\\\\Users\\\\anle\\\\Desktop\\\\github\\\\mlops-kedro-mlflow-githubaction-demo\\\\mlflow_project\\\\kedro_project\\\\conf\\\\base'] matching the glob pattern(s): ['credentials*', 'credentials*/**', '**/credentials*']\n",
      "  warn(f\"Credentials not found in your Kedro project config.\\n{str(exc)}\")\n",
      "C:\\Users\\anle\\Anaconda3\\envs\\demo_kedro_mlflow\\lib\\site-packages\\fsspec\\__init__.py:43: DeprecationWarning: SelectableGroups dict interface is deprecated. Use select.\n",
      "  for spec in entry_points.get(\"fsspec.specs\", []):\n"
     ]
    },
    {
     "output_type": "stream",
     "name": "stdout",
     "text": [
      "2021-07-13 07:38:34,873 - kedro.io.data_catalog - INFO - Loading data from `leads_daily` (ParquetDataSet)...\n"
     ]
    },
    {
     "output_type": "stream",
     "name": "stderr",
     "text": [
      "C:\\Users\\anle\\Anaconda3\\envs\\demo_kedro_mlflow\\lib\\site-packages\\kedro\\config\\config.py:324: UserWarning: Duplicate environment detected! Skipping re-loading from configuration path: C:\\Users\\anle\\Desktop\\github\\mlops-kedro-mlflow-githubaction-demo\\mlflow_project\\kedro_project\\conf\\base\n",
      "  f\"Duplicate environment detected! \"\n"
     ]
    },
    {
     "output_type": "stream",
     "name": "stdout",
     "text": [
      "2021-07-13 07:38:35,774 - kedro.io.data_catalog - INFO - Loading data from `params:leads_categorical_columns` (MemoryDataSet)...\n",
      "2021-07-13 07:38:35,778 - kedro.pipeline.node - INFO - Running node: daily_lower_columns: lower_columns([leads_daily,params:leads_categorical_columns]) -> [leads_daily_clean]\n",
      "2021-07-13 07:38:35,864 - kedro.io.data_catalog - INFO - Saving data to `leads_daily_clean` (MemoryDataSet)...\n",
      "2021-07-13 07:38:35,872 - kedro.runner.sequential_runner - INFO - Completed 1 out of 12 tasks\n",
      "2021-07-13 07:38:35,874 - kedro.io.data_catalog - INFO - Loading data from `leads_dataset` (CSVDataSet)...\n",
      "2021-07-13 07:38:36,625 - kedro.io.data_catalog - INFO - Loading data from `params:leads_categorical_columns` (MemoryDataSet)...\n",
      "2021-07-13 07:38:36,653 - kedro.pipeline.node - INFO - Running node: lower_columns: lower_columns([leads_dataset,params:leads_categorical_columns]) -> [leads_dataset_clean]\n",
      "2021-07-13 07:38:36,770 - kedro.io.data_catalog - INFO - Saving data to `leads_dataset_clean` (CSVDataSet)...\n",
      "2021-07-13 07:38:37,709 - kedro.runner.sequential_runner - INFO - Completed 2 out of 12 tasks\n",
      "2021-07-13 07:38:37,714 - kedro.io.data_catalog - INFO - Loading data from `leads_dataset_clean` (CSVDataSet)...\n",
      "2021-07-13 07:38:38,196 - kedro.io.data_catalog - INFO - Loading data from `params:leads_response_column` (MemoryDataSet)...\n",
      "2021-07-13 07:38:38,200 - kedro.io.data_catalog - INFO - Loading data from `params:split_ratio` (MemoryDataSet)...\n",
      "2021-07-13 07:38:38,203 - kedro.pipeline.node - INFO - Running node: split_data: split_data([leads_dataset_clean,params:leads_response_column,params:split_ratio]) -> [test_x,test_y,train_x,train_y]\n",
      "2021-07-13 07:38:38,268 - kedro.io.data_catalog - INFO - Saving data to `train_x` (CSVDataSet)...\n",
      "2021-07-13 07:38:38,895 - kedro.io.data_catalog - INFO - Saving data to `train_y` (CSVDataSet)...\n",
      "2021-07-13 07:38:38,979 - kedro.io.data_catalog - INFO - Saving data to `test_x` (CSVDataSet)...\n",
      "2021-07-13 07:38:39,205 - kedro.io.data_catalog - INFO - Saving data to `test_y` (CSVDataSet)...\n",
      "2021-07-13 07:38:39,237 - kedro.runner.sequential_runner - INFO - Completed 3 out of 12 tasks\n",
      "2021-07-13 07:38:39,242 - kedro.io.data_catalog - INFO - Loading data from `leads_dataset_clean` (CSVDataSet)...\n",
      "2021-07-13 07:38:39,548 - kedro.io.data_catalog - INFO - Loading data from `params:leads_categorical_columns` (MemoryDataSet)...\n",
      "2021-07-13 07:38:39,551 - kedro.pipeline.node - INFO - Running node: onehotencoder_fit: onehotencoder_fit([leads_dataset_clean,params:leads_categorical_columns]) -> [onehotencoder]\n",
      "2021-07-13 07:38:39,569 - kedro.io.data_catalog - INFO - Saving data to `onehotencoder` (PickleDataSet)...\n",
      "2021-07-13 07:38:39,579 - kedro.runner.sequential_runner - INFO - Completed 4 out of 12 tasks\n",
      "2021-07-13 07:38:39,582 - kedro.io.data_catalog - INFO - Loading data from `train_x` (CSVDataSet)...\n",
      "2021-07-13 07:38:39,817 - kedro.io.data_catalog - INFO - Loading data from `params:leads_numeric_columns` (MemoryDataSet)...\n",
      "2021-07-13 07:38:39,820 - kedro.pipeline.node - INFO - Running node: scaler_fit: scaler_fit([params:leads_numeric_columns,train_x]) -> [scaler]\n",
      "2021-07-13 07:38:39,830 - kedro.io.data_catalog - INFO - Saving data to `scaler` (PickleDataSet)...\n",
      "2021-07-13 07:38:39,837 - kedro.runner.sequential_runner - INFO - Completed 5 out of 12 tasks\n",
      "2021-07-13 07:38:39,840 - kedro.io.data_catalog - INFO - Loading data from `onehotencoder` (PickleDataSet)...\n",
      "2021-07-13 07:38:39,846 - kedro.io.data_catalog - INFO - Loading data from `scaler` (PickleDataSet)...\n",
      "2021-07-13 07:38:39,850 - kedro.io.data_catalog - INFO - Loading data from `leads_daily_clean` (MemoryDataSet)...\n",
      "2021-07-13 07:38:39,852 - kedro.io.data_catalog - INFO - Loading data from `params:leads_numeric_columns` (MemoryDataSet)...\n",
      "2021-07-13 07:38:39,866 - kedro.io.data_catalog - INFO - Loading data from `params:leads_categorical_columns` (MemoryDataSet)...\n",
      "2021-07-13 07:38:39,869 - kedro.pipeline.node - INFO - Running node: process_daily_set: pre_process_leads_data([leads_daily_clean,onehotencoder,params:leads_categorical_columns,params:leads_numeric_columns,scaler]) -> [leads_daily_clean_processed]\n",
      "2021-07-13 07:38:39,943 - kedro.io.data_catalog - INFO - Saving data to `leads_daily_clean_processed` (MemoryDataSet)...\n",
      "2021-07-13 07:38:39,947 - kedro.runner.sequential_runner - INFO - Completed 6 out of 12 tasks\n",
      "2021-07-13 07:38:39,950 - kedro.io.data_catalog - INFO - Loading data from `onehotencoder` (PickleDataSet)...\n",
      "2021-07-13 07:38:39,955 - kedro.io.data_catalog - INFO - Loading data from `scaler` (PickleDataSet)...\n",
      "2021-07-13 07:38:39,961 - kedro.io.data_catalog - INFO - Loading data from `train_x` (CSVDataSet)...\n",
      "2021-07-13 07:38:40,190 - kedro.io.data_catalog - INFO - Loading data from `params:leads_numeric_columns` (MemoryDataSet)...\n",
      "2021-07-13 07:38:40,196 - kedro.io.data_catalog - INFO - Loading data from `params:leads_categorical_columns` (MemoryDataSet)...\n",
      "2021-07-13 07:38:40,202 - kedro.pipeline.node - INFO - Running node: process_train_set: pre_process_leads_data([onehotencoder,params:leads_categorical_columns,params:leads_numeric_columns,scaler,train_x]) -> [train_x_clean]\n",
      "2021-07-13 07:38:40,391 - kedro.io.data_catalog - INFO - Saving data to `train_x_clean` (CSVDataSet)...\n",
      "2021-07-13 07:38:42,200 - kedro.runner.sequential_runner - INFO - Completed 7 out of 12 tasks\n",
      "2021-07-13 07:38:42,217 - kedro.io.data_catalog - INFO - Loading data from `onehotencoder` (PickleDataSet)...\n",
      "2021-07-13 07:38:42,226 - kedro.io.data_catalog - INFO - Loading data from `scaler` (PickleDataSet)...\n",
      "2021-07-13 07:38:42,231 - kedro.io.data_catalog - INFO - Loading data from `test_x` (CSVDataSet)...\n",
      "2021-07-13 07:38:42,342 - kedro.io.data_catalog - INFO - Loading data from `params:leads_numeric_columns` (MemoryDataSet)...\n",
      "2021-07-13 07:38:42,345 - kedro.io.data_catalog - INFO - Loading data from `params:leads_categorical_columns` (MemoryDataSet)...\n",
      "2021-07-13 07:38:42,347 - kedro.pipeline.node - INFO - Running node: process_test_set: pre_process_leads_data([onehotencoder,params:leads_categorical_columns,params:leads_numeric_columns,scaler,test_x]) -> [test_x_clean]\n",
      "2021-07-13 07:38:42,419 - kedro.io.data_catalog - INFO - Saving data to `test_x_clean` (CSVDataSet)...\n",
      "2021-07-13 07:38:43,099 - kedro.runner.sequential_runner - INFO - Completed 8 out of 12 tasks\n",
      "2021-07-13 07:38:43,102 - kedro.io.data_catalog - INFO - Loading data from `train_x_clean` (CSVDataSet)...\n",
      "2021-07-13 07:38:43,530 - kedro.io.data_catalog - INFO - Loading data from `train_y` (CSVDataSet)...\n",
      "2021-07-13 07:38:43,551 - kedro.io.data_catalog - INFO - Loading data from `parameters` (MemoryDataSet)...\n",
      "2021-07-13 07:38:43,554 - kedro.pipeline.node - INFO - Running node: train_rf: train_model_rf([parameters,train_x_clean,train_y]) -> [rf_model]\n"
     ]
    },
    {
     "output_type": "stream",
     "name": "stderr",
     "text": [
      "c:\\Users\\anle\\Desktop\\github\\mlops-kedro-mlflow-githubaction-demo\\mlflow_project\\kedro_project\\src\\leads\\pipelines\\data_science\\nodes.py:56: DataConversionWarning: A column-vector y was passed when a 1d array was expected. Please change the shape of y to (n_samples,), for example using ravel().\n",
      "  model.fit(x, y)\n"
     ]
    },
    {
     "output_type": "stream",
     "name": "stdout",
     "text": [
      "2021-07-13 07:38:43,830 - kedro.io.data_catalog - INFO - Saving data to `rf_model` (PickleDataSet)...\n",
      "2021-07-13 07:38:43,842 - kedro.runner.sequential_runner - INFO - Completed 9 out of 12 tasks\n",
      "2021-07-13 07:38:43,844 - kedro.io.data_catalog - INFO - Loading data from `rf_model` (PickleDataSet)...\n",
      "2021-07-13 07:38:43,851 - kedro.io.data_catalog - INFO - Loading data from `test_x_clean` (CSVDataSet)...\n",
      "2021-07-13 07:38:44,092 - kedro.io.data_catalog - INFO - Loading data from `test_y` (CSVDataSet)...\n",
      "2021-07-13 07:38:44,099 - kedro.io.data_catalog - INFO - Loading data from `parameters` (MemoryDataSet)...\n",
      "2021-07-13 07:38:44,102 - kedro.io.data_catalog - INFO - Loading data from `params:mlflow_databricks` (MemoryDataSet)...\n",
      "2021-07-13 07:38:44,111 - kedro.pipeline.node - INFO - Running node: mlflow_track_rf: mlflow_metrics_tracking([parameters,params:mlflow_databricks,rf_model,test_x_clean,test_y]) -> [mlflow_latest_run]\n",
      "Run ID:  dc4694db5f5e4542b60c34add6995d8c\n",
      "model_uri:  runs:/dc4694db5f5e4542b60c34add6995d8c/model\n",
      "2021-07-13 07:38:51,210 - kedro.io.data_catalog - INFO - Saving data to `mlflow_latest_run` (YAMLDataSet)...\n",
      "2021-07-13 07:38:51,225 - kedro.runner.sequential_runner - INFO - Completed 10 out of 12 tasks\n",
      "2021-07-13 07:38:51,227 - kedro.io.data_catalog - INFO - Loading data from `rf_model` (PickleDataSet)...\n",
      "2021-07-13 07:38:51,237 - kedro.io.data_catalog - INFO - Loading data from `leads_daily_clean_processed` (MemoryDataSet)...\n",
      "2021-07-13 07:38:51,240 - kedro.pipeline.node - INFO - Running node: prediction: predict_model_rf([leads_daily_clean_processed,rf_model]) -> [predictions]\n",
      "2021-07-13 07:38:51,258 - kedro.io.data_catalog - INFO - Saving data to `predictions` (MemoryDataSet)...\n",
      "2021-07-13 07:38:51,266 - kedro.runner.sequential_runner - INFO - Completed 11 out of 12 tasks\n",
      "2021-07-13 07:38:51,271 - kedro.io.data_catalog - INFO - Loading data from `leads_daily` (ParquetDataSet)...\n",
      "2021-07-13 07:38:51,301 - kedro.io.data_catalog - INFO - Loading data from `predictions` (MemoryDataSet)...\n",
      "2021-07-13 07:38:51,303 - kedro.io.data_catalog - INFO - Loading data from `params:leads_response_column` (MemoryDataSet)...\n",
      "2021-07-13 07:38:51,307 - kedro.pipeline.node - INFO - Running node: daily_prediction: append_prediction([leads_daily,params:leads_response_column,predictions]) -> [leads_daily_predicted]\n",
      "2021-07-13 07:38:51,322 - kedro.io.data_catalog - INFO - Saving data to `leads_daily_predicted` (CSVDataSet)...\n",
      "2021-07-13 07:38:51,400 - kedro.runner.sequential_runner - INFO - Completed 12 out of 12 tasks\n",
      "2021-07-13 07:38:51,402 - kedro.runner.sequential_runner - INFO - Pipeline execution completed successfully.\n"
     ]
    },
    {
     "output_type": "execute_result",
     "data": {
      "text/plain": [
       "{}"
      ]
     },
     "metadata": {},
     "execution_count": 4
    }
   ],
   "metadata": {}
  },
  {
   "cell_type": "markdown",
   "source": [
    "# 3. Model Registry"
   ],
   "metadata": {}
  },
  {
   "cell_type": "markdown",
   "source": [
    "# 3.1 MLflow Model Registry API Workflow\r\n",
    "#### By registering this model in the Model Registry, you can easily reference the model from anywhere within Databricks."
   ],
   "metadata": {}
  },
  {
   "cell_type": "markdown",
   "source": [
    "## Query past runs"
   ],
   "metadata": {}
  },
  {
   "cell_type": "code",
   "execution_count": 12,
   "source": [
    "# from mlflow.tracking import MlflowClient\r\n",
    "# from mlflow.entities import ViewType\r\n",
    "\r\n",
    "# client = MlflowClient()\r\n",
    "# client.list_experiments(view_type=ViewType.ACTIVE_ONLY, max_results=3)"
   ],
   "outputs": [
    {
     "output_type": "execute_result",
     "data": {
      "text/plain": [
       "[<Experiment: artifact_location='dbfs:/databricks/mlflow-tracking/2168733171004691', experiment_id='2168733171004691', lifecycle_stage='active', name='/Users/anle@suncor.com/MLflow_experiments/leads', tags={'mlflow.experimentType': 'MLFLOW_EXPERIMENT',\n",
       "  'mlflow.ownerEmail': 'anle@suncor.com',\n",
       "  'mlflow.ownerId': '2909214259798153'}>,\n",
       " <Experiment: artifact_location='dbfs:/databricks/mlflow/1090525953555101', experiment_id='1090525953555101', lifecycle_stage='active', name='/Users/ktang@suncor.com/SentimentMLFlow', tags={'mlflow.experimentType': 'MLFLOW_EXPERIMENT',\n",
       "  'mlflow.ownerEmail': 'ktang@suncor.com',\n",
       "  'mlflow.ownerId': '2303386906076339'}>,\n",
       " <Experiment: artifact_location='dbfs:/databricks/mlflow/1513647678970980', experiment_id='1513647678970980', lifecycle_stage='active', name='/Users/ktang@suncor.com/Sentiment v2', tags={'mlflow.experimentType': 'NOTEBOOK'}>]"
      ]
     },
     "metadata": {},
     "execution_count": 12
    }
   ],
   "metadata": {}
  },
  {
   "cell_type": "code",
   "execution_count": null,
   "source": [],
   "outputs": [],
   "metadata": {}
  },
  {
   "cell_type": "markdown",
   "source": [
    "## Search_runs to find all runs for a given experiment."
   ],
   "metadata": {}
  },
  {
   "cell_type": "code",
   "execution_count": 77,
   "source": [
    "experimentid = mlflow.get_experiment_by_name(mlflow_params['experiment_name']).experiment_id\r\n",
    "\r\n",
    "runs_df = mlflow.search_runs(experiment_ids=experimentid)\r\n",
    "display(runs_df.head(5))"
   ],
   "outputs": [
    {
     "output_type": "display_data",
     "data": {
      "text/plain": [
       "                             run_id     experiment_id    status  \\\n",
       "0  19adec4b9fb6481492b01bb6ade32f92  2168733171004691  FINISHED   \n",
       "1  ba0c3301816d484bb16bda8eba5e8c4b  2168733171004691  FINISHED   \n",
       "2  cecdfd9688364c929cd68854758f42dc  2168733171004691  FINISHED   \n",
       "3  545c54d4863b491f8698f29525cea632  2168733171004691  FINISHED   \n",
       "4  2821f4eac44d4839a18bbc76c1957652  2168733171004691  FINISHED   \n",
       "\n",
       "                                        artifact_uri  \\\n",
       "0  dbfs:/databricks/mlflow-tracking/2168733171004...   \n",
       "1  dbfs:/databricks/mlflow-tracking/2168733171004...   \n",
       "2  dbfs:/databricks/mlflow-tracking/2168733171004...   \n",
       "3  dbfs:/databricks/mlflow-tracking/2168733171004...   \n",
       "4  dbfs:/databricks/mlflow-tracking/2168733171004...   \n",
       "\n",
       "                        start_time                         end_time  \\\n",
       "0 2021-07-12 21:12:22.646000+00:00 2021-07-12 21:12:30.050000+00:00   \n",
       "1 2021-07-12 15:00:15.272000+00:00 2021-07-12 15:00:19.548000+00:00   \n",
       "2 2021-07-12 14:47:12.512000+00:00 2021-07-12 14:47:16.645000+00:00   \n",
       "3 2021-07-10 18:45:50.163000+00:00 2021-07-10 18:45:53.289000+00:00   \n",
       "4 2021-07-10 18:42:00.835000+00:00 2021-07-10 18:42:04.386000+00:00   \n",
       "\n",
       "   metrics.auc  metrics.accuracy params.random_state params.max_depth  \\\n",
       "0     0.868471          0.771575                2021                3   \n",
       "1     0.863132          0.738524                2021                3   \n",
       "2     0.863640          0.766801                2021                3   \n",
       "3     0.863132          0.738524                2021                3   \n",
       "4     0.863640          0.766801                2021                3   \n",
       "\n",
       "  params.n_estimators tags.mlflow.user  \\\n",
       "0                  20  anle@suncor.com   \n",
       "1                  20  anle@suncor.com   \n",
       "2                  20  anle@suncor.com   \n",
       "3                  20  anle@suncor.com   \n",
       "4                  20  anle@suncor.com   \n",
       "\n",
       "                       tags.mlflow.log-model.history  \\\n",
       "0  [{\"run_id\":\"19adec4b9fb6481492b01bb6ade32f92\",...   \n",
       "1  [{\"run_id\":\"ba0c3301816d484bb16bda8eba5e8c4b\",...   \n",
       "2  [{\"run_id\":\"cecdfd9688364c929cd68854758f42dc\",...   \n",
       "3  [{\"run_id\":\"545c54d4863b491f8698f29525cea632\",...   \n",
       "4  [{\"run_id\":\"2821f4eac44d4839a18bbc76c1957652\",...   \n",
       "\n",
       "                             tags.mlflow.source.name tags.mlflow.source.type  \\\n",
       "0  C:\\Users\\anle\\Anaconda3\\envs\\demo_kedro_mlflow...                   LOCAL   \n",
       "1  C:\\Users\\anle\\Anaconda3\\envs\\demo_kedro_mlflow...                   LOCAL   \n",
       "2  C:\\Users\\anle\\Anaconda3\\envs\\demo_kedro_mlflow...                   LOCAL   \n",
       "3                                            main.py                   LOCAL   \n",
       "4                                            main.py                   LOCAL   \n",
       "\n",
       "   tags.mlflow.runName  \n",
       "0  20210712_1512_leads  \n",
       "1  20210712_0900_leads  \n",
       "2  20210712_0847_leads  \n",
       "3  20210710_1245_leads  \n",
       "4  20210710_1242_leads  "
      ],
      "text/html": [
       "<div>\n",
       "<style scoped>\n",
       "    .dataframe tbody tr th:only-of-type {\n",
       "        vertical-align: middle;\n",
       "    }\n",
       "\n",
       "    .dataframe tbody tr th {\n",
       "        vertical-align: top;\n",
       "    }\n",
       "\n",
       "    .dataframe thead th {\n",
       "        text-align: right;\n",
       "    }\n",
       "</style>\n",
       "<table border=\"1\" class=\"dataframe\">\n",
       "  <thead>\n",
       "    <tr style=\"text-align: right;\">\n",
       "      <th></th>\n",
       "      <th>run_id</th>\n",
       "      <th>experiment_id</th>\n",
       "      <th>status</th>\n",
       "      <th>artifact_uri</th>\n",
       "      <th>start_time</th>\n",
       "      <th>end_time</th>\n",
       "      <th>metrics.auc</th>\n",
       "      <th>metrics.accuracy</th>\n",
       "      <th>params.random_state</th>\n",
       "      <th>params.max_depth</th>\n",
       "      <th>params.n_estimators</th>\n",
       "      <th>tags.mlflow.user</th>\n",
       "      <th>tags.mlflow.log-model.history</th>\n",
       "      <th>tags.mlflow.source.name</th>\n",
       "      <th>tags.mlflow.source.type</th>\n",
       "      <th>tags.mlflow.runName</th>\n",
       "    </tr>\n",
       "  </thead>\n",
       "  <tbody>\n",
       "    <tr>\n",
       "      <th>0</th>\n",
       "      <td>19adec4b9fb6481492b01bb6ade32f92</td>\n",
       "      <td>2168733171004691</td>\n",
       "      <td>FINISHED</td>\n",
       "      <td>dbfs:/databricks/mlflow-tracking/2168733171004...</td>\n",
       "      <td>2021-07-12 21:12:22.646000+00:00</td>\n",
       "      <td>2021-07-12 21:12:30.050000+00:00</td>\n",
       "      <td>0.868471</td>\n",
       "      <td>0.771575</td>\n",
       "      <td>2021</td>\n",
       "      <td>3</td>\n",
       "      <td>20</td>\n",
       "      <td>anle@suncor.com</td>\n",
       "      <td>[{\"run_id\":\"19adec4b9fb6481492b01bb6ade32f92\",...</td>\n",
       "      <td>C:\\Users\\anle\\Anaconda3\\envs\\demo_kedro_mlflow...</td>\n",
       "      <td>LOCAL</td>\n",
       "      <td>20210712_1512_leads</td>\n",
       "    </tr>\n",
       "    <tr>\n",
       "      <th>1</th>\n",
       "      <td>ba0c3301816d484bb16bda8eba5e8c4b</td>\n",
       "      <td>2168733171004691</td>\n",
       "      <td>FINISHED</td>\n",
       "      <td>dbfs:/databricks/mlflow-tracking/2168733171004...</td>\n",
       "      <td>2021-07-12 15:00:15.272000+00:00</td>\n",
       "      <td>2021-07-12 15:00:19.548000+00:00</td>\n",
       "      <td>0.863132</td>\n",
       "      <td>0.738524</td>\n",
       "      <td>2021</td>\n",
       "      <td>3</td>\n",
       "      <td>20</td>\n",
       "      <td>anle@suncor.com</td>\n",
       "      <td>[{\"run_id\":\"ba0c3301816d484bb16bda8eba5e8c4b\",...</td>\n",
       "      <td>C:\\Users\\anle\\Anaconda3\\envs\\demo_kedro_mlflow...</td>\n",
       "      <td>LOCAL</td>\n",
       "      <td>20210712_0900_leads</td>\n",
       "    </tr>\n",
       "    <tr>\n",
       "      <th>2</th>\n",
       "      <td>cecdfd9688364c929cd68854758f42dc</td>\n",
       "      <td>2168733171004691</td>\n",
       "      <td>FINISHED</td>\n",
       "      <td>dbfs:/databricks/mlflow-tracking/2168733171004...</td>\n",
       "      <td>2021-07-12 14:47:12.512000+00:00</td>\n",
       "      <td>2021-07-12 14:47:16.645000+00:00</td>\n",
       "      <td>0.863640</td>\n",
       "      <td>0.766801</td>\n",
       "      <td>2021</td>\n",
       "      <td>3</td>\n",
       "      <td>20</td>\n",
       "      <td>anle@suncor.com</td>\n",
       "      <td>[{\"run_id\":\"cecdfd9688364c929cd68854758f42dc\",...</td>\n",
       "      <td>C:\\Users\\anle\\Anaconda3\\envs\\demo_kedro_mlflow...</td>\n",
       "      <td>LOCAL</td>\n",
       "      <td>20210712_0847_leads</td>\n",
       "    </tr>\n",
       "    <tr>\n",
       "      <th>3</th>\n",
       "      <td>545c54d4863b491f8698f29525cea632</td>\n",
       "      <td>2168733171004691</td>\n",
       "      <td>FINISHED</td>\n",
       "      <td>dbfs:/databricks/mlflow-tracking/2168733171004...</td>\n",
       "      <td>2021-07-10 18:45:50.163000+00:00</td>\n",
       "      <td>2021-07-10 18:45:53.289000+00:00</td>\n",
       "      <td>0.863132</td>\n",
       "      <td>0.738524</td>\n",
       "      <td>2021</td>\n",
       "      <td>3</td>\n",
       "      <td>20</td>\n",
       "      <td>anle@suncor.com</td>\n",
       "      <td>[{\"run_id\":\"545c54d4863b491f8698f29525cea632\",...</td>\n",
       "      <td>main.py</td>\n",
       "      <td>LOCAL</td>\n",
       "      <td>20210710_1245_leads</td>\n",
       "    </tr>\n",
       "    <tr>\n",
       "      <th>4</th>\n",
       "      <td>2821f4eac44d4839a18bbc76c1957652</td>\n",
       "      <td>2168733171004691</td>\n",
       "      <td>FINISHED</td>\n",
       "      <td>dbfs:/databricks/mlflow-tracking/2168733171004...</td>\n",
       "      <td>2021-07-10 18:42:00.835000+00:00</td>\n",
       "      <td>2021-07-10 18:42:04.386000+00:00</td>\n",
       "      <td>0.863640</td>\n",
       "      <td>0.766801</td>\n",
       "      <td>2021</td>\n",
       "      <td>3</td>\n",
       "      <td>20</td>\n",
       "      <td>anle@suncor.com</td>\n",
       "      <td>[{\"run_id\":\"2821f4eac44d4839a18bbc76c1957652\",...</td>\n",
       "      <td>main.py</td>\n",
       "      <td>LOCAL</td>\n",
       "      <td>20210710_1242_leads</td>\n",
       "    </tr>\n",
       "  </tbody>\n",
       "</table>\n",
       "</div>"
      ]
     },
     "metadata": {}
    }
   ],
   "metadata": {}
  },
  {
   "cell_type": "markdown",
   "source": [
    "## Pull the run with best metrics."
   ],
   "metadata": {}
  },
  {
   "cell_type": "code",
   "execution_count": 78,
   "source": [
    "best_run = mlflow.search_runs(experiment_ids=experimentid, order_by=[\"metrics.auc DESC\"]).iloc[0]\r\n",
    "print('run_id: ', best_run['run_id'], ' AUC: ', best_run['metrics.auc'])"
   ],
   "outputs": [
    {
     "output_type": "stream",
     "name": "stdout",
     "text": [
      "run_id:  19adec4b9fb6481492b01bb6ade32f92  AUC:  0.8684709882636833\n"
     ]
    }
   ],
   "metadata": {}
  },
  {
   "cell_type": "markdown",
   "source": [
    "## Register the model in MLflow"
   ],
   "metadata": {}
  },
  {
   "cell_type": "code",
   "execution_count": 71,
   "source": [
    "model_name = 'leads_model'\r\n",
    "new_model_version = mlflow.register_model(f\"runs:/{best_run.run_id}/model\", model_name)"
   ],
   "outputs": [
    {
     "output_type": "stream",
     "name": "stderr",
     "text": [
      "Registered model 'leads_model' already exists. Creating a new version of this model...\n",
      "2021/07/12 16:18:20 INFO mlflow.tracking._model_registry.client: Waiting up to 300 seconds for model version to finish creation.                     Model name: leads_model, version 4\n",
      "Created version '4' of model 'leads_model'.\n"
     ]
    }
   ],
   "metadata": {}
  },
  {
   "cell_type": "markdown",
   "source": [
    "## Promotes the version to production."
   ],
   "metadata": {}
  },
  {
   "cell_type": "code",
   "execution_count": 72,
   "source": [
    "client.transition_model_version_stage(name=model_name,\r\n",
    "                                      version=new_model_version.version,\r\n",
    "                                      stage=\"Staging\")"
   ],
   "outputs": [
    {
     "output_type": "execute_result",
     "data": {
      "text/plain": [
       "<ModelVersion: creation_timestamp=1626128300658, current_stage='Staging', description='', last_updated_timestamp=1626128311128, name='leads_model', run_id='19adec4b9fb6481492b01bb6ade32f92', run_link='', source='dbfs:/databricks/mlflow-tracking/2168733171004691/19adec4b9fb6481492b01bb6ade32f92/artifacts/model', status='READY', status_message='', tags={}, user_id='2909214259798153', version='4'>"
      ]
     },
     "metadata": {},
     "execution_count": 72
    }
   ],
   "metadata": {}
  },
  {
   "cell_type": "code",
   "execution_count": 75,
   "source": [
    "# Achive the old model version\r\n",
    "\r\n",
    "client.transition_model_version_stage(\r\n",
    "  name=model_name,\r\n",
    "  version=3,\r\n",
    "  stage=\"Archived\",\r\n",
    ")\r\n",
    "\r\n",
    "# Promote the new model version to Production\r\n",
    "client.transition_model_version_stage(\r\n",
    "  name=model_name,\r\n",
    "  version=new_model_version.version,\r\n",
    "  stage=\"Production\",\r\n",
    ")"
   ],
   "outputs": [],
   "metadata": {}
  },
  {
   "cell_type": "markdown",
   "source": [
    "## Loading the model according to the state"
   ],
   "metadata": {}
  },
  {
   "cell_type": "code",
   "execution_count": 76,
   "source": [
    "model = mlflow.pyfunc.load_model(f\"models:/{model_name}/production\")"
   ],
   "outputs": [],
   "metadata": {}
  },
  {
   "cell_type": "markdown",
   "source": [
    "# 3.2. Register the model in AML"
   ],
   "metadata": {}
  },
  {
   "cell_type": "code",
   "execution_count": 79,
   "source": [
    "from azureml.core import Workspace\r\n",
    "#from azureml.core.authentication import InteractiveLoginAuthentication\r\n",
    "#forced_interactive_auth = InteractiveLoginAuthentication(tenant_id=\"1aa51068-11a6-4bd2-8646-1fff31a30ffc\", force=True)\r\n",
    "# ws = Workspace(subscription_id=\"aaa\",\r\n",
    "#                resource_group=\"aaa\",\r\n",
    "#                workspace_name=\"aaa\")\r\n",
    "\r\n",
    "ws = Workspace.from_config()"
   ],
   "outputs": [
    {
     "output_type": "stream",
     "name": "stdout",
     "text": [
      "2021-07-12 16:48:34,693 - azureml.core.workspace - INFO - Found the config file in: c:\\Users\\anle\\Desktop\\journal_club\\.azureml\\config.json\n"
     ]
    },
    {
     "output_type": "stream",
     "name": "stderr",
     "text": [
      "C:\\Users\\anle\\Anaconda3\\envs\\demo_kedro_mlflow\\lib\\site-packages\\urllib3\\util\\retry.py:440: DeprecationWarning: Using 'method_whitelist' with Retry is deprecated and will be removed in v2.0. Use 'allowed_methods' instead\n",
      "  DeprecationWarning,\n"
     ]
    }
   ],
   "metadata": {}
  },
  {
   "cell_type": "code",
   "execution_count": 6,
   "source": [
    "import mlflow.azureml\r\n",
    "\r\n",
    "run_info = project_context.catalog.load('mlflow_latest_run')\r\n",
    "\r\n",
    "model_image, azure_model = mlflow.azureml.build_image(model_uri=run_info['model_uri'], \r\n",
    "                                                      workspace=ws,\r\n",
    "                                                      model_name=\"model\",\r\n",
    "                                                      image_name=\"model\",\r\n",
    "                                                      description=\"Sklearn image for scoring leads\",\r\n",
    "                                                      synchronous=False)\r\n",
    "model_image.wait_for_creation(show_output=True)"
   ],
   "outputs": [
    {
     "output_type": "stream",
     "name": "stdout",
     "text": [
      "2021-07-12 09:02:25,957 - kedro.io.data_catalog - INFO - Loading data from `mlflow_latest_run` (YAMLDataSet)...\n"
     ]
    },
    {
     "output_type": "stream",
     "name": "stderr",
     "text": [
      "C:\\Users\\anle\\Anaconda3\\envs\\demo_kedro_mlflow\\lib\\site-packages\\kedro\\config\\config.py:324: UserWarning: Duplicate environment detected! Skipping re-loading from configuration path: C:\\Users\\anle\\Desktop\\journal_club\\mlflow_project\\demo_kedro_mlflow\\conf\\base\n",
      "  f\"Duplicate environment detected! \"\n",
      "C:\\Users\\anle\\Anaconda3\\envs\\demo_kedro_mlflow\\lib\\site-packages\\kedro\\framework\\context\\context.py:497: UserWarning: Credentials not found in your Kedro project config.\n",
      "No files found in ['C:\\\\Users\\\\anle\\\\Desktop\\\\journal_club\\\\mlflow_project\\\\demo_kedro_mlflow\\\\conf\\\\base'] matching the glob pattern(s): ['credentials*', 'credentials*/**', '**/credentials*']\n",
      "  warn(f\"Credentials not found in your Kedro project config.\\n{str(exc)}\")\n"
     ]
    },
    {
     "output_type": "stream",
     "name": "stdout",
     "text": [
      "2021-07-12 09:02:30,176 - azureml._restclient.clientbase - INFO - Created a worker pool for first use\n",
      "Registering model model\n"
     ]
    },
    {
     "output_type": "stream",
     "name": "stderr",
     "text": [
      "2021/07/12 09:02:33 INFO mlflow.azureml: Registered an Azure Model with name: `model` and version: `5`\n",
      "C:\\Users\\anle\\Anaconda3\\envs\\demo_kedro_mlflow\\lib\\site-packages\\mlflow\\azureml\\__init__.py:222: DeprecationWarning: ContainerImage class has been deprecated and will be removed in a future release. Please migrate to using Environments. https://docs.microsoft.com/en-us/azure/machine-learning/how-to-use-environments\n",
      "  tags=tags,\n",
      "C:\\Users\\anle\\Anaconda3\\envs\\demo_kedro_mlflow\\lib\\site-packages\\azureml\\core\\image\\container.py:161: DeprecationWarning: ContainerImageConfig class has been deprecated and will be removed in a future release. Please migrate to using Environments. https://docs.microsoft.com/en-us/azure/machine-learning/how-to-use-environments\n",
      "  base_image, base_image_registry, cuda_version=cuda_version)\n",
      "C:\\Users\\anle\\Anaconda3\\envs\\demo_kedro_mlflow\\lib\\site-packages\\mlflow\\azureml\\__init__.py:228: DeprecationWarning: Image class has been deprecated and will be removed in a future release. Please migrate to using Environments. https://docs.microsoft.com/en-us/azure/machine-learning/how-to-use-environments\n",
      "  models=[registered_model],\n"
     ]
    },
    {
     "output_type": "stream",
     "name": "stdout",
     "text": [
      "Creating image\n"
     ]
    },
    {
     "output_type": "stream",
     "name": "stderr",
     "text": [
      "C:\\Users\\anle\\Anaconda3\\envs\\demo_kedro_mlflow\\lib\\site-packages\\azureml\\core\\image\\image.py:407: DeprecationWarning: Image class has been deprecated and will be removed in a future release. Please migrate to using Environments. https://docs.microsoft.com/en-us/azure/machine-learning/how-to-use-environments\n",
      "  image = Image(workspace, id=image_id)\n",
      "2021/07/12 09:02:38 INFO mlflow.azureml: Building an Azure Container Image with name: `model` and version: `5`\n"
     ]
    },
    {
     "output_type": "stream",
     "name": "stdout",
     "text": [
      "Running......................................................\n",
      "Succeeded\n"
     ]
    },
    {
     "output_type": "stream",
     "name": "stderr",
     "text": [
      "C:\\Users\\anle\\Anaconda3\\envs\\demo_kedro_mlflow\\lib\\site-packages\\azureml\\core\\image\\image.py:507: DeprecationWarning: Image class has been deprecated and will be removed in a future release. Please migrate to using Environments. https://docs.microsoft.com/en-us/azure/machine-learning/how-to-use-environments\n",
      "  image = Image(self.workspace, id=self.id)\n"
     ]
    },
    {
     "output_type": "stream",
     "name": "stdout",
     "text": [
      "Image creation operation finished for image model:5, operation \"Succeeded\"\n"
     ]
    }
   ],
   "metadata": {}
  },
  {
   "cell_type": "markdown",
   "source": [
    "# 4. Deploy model "
   ],
   "metadata": {}
  },
  {
   "cell_type": "code",
   "execution_count": 7,
   "source": [
    "from azureml.core.webservice import AciWebservice, Webservice\r\n",
    "\r\n",
    "dev_webservice_name = \"leads-aci\"\r\n",
    "dev_webservice_deployment_config = AciWebservice.deploy_configuration()\r\n",
    "\r\n",
    "try:\r\n",
    "    dev_existing_webservice_delete = Webservice(workspace=ws, name=dev_webservice_name).delete()\r\n",
    "except Exception:\r\n",
    "    pass\r\n",
    "    \r\n",
    "dev_webservice = Webservice.deploy_from_image(name=dev_webservice_name, image=model_image,deployment_config=dev_webservice_deployment_config,workspace=ws)\r\n",
    "dev_webservice.wait_for_deployment()"
   ],
   "outputs": [
    {
     "output_type": "stream",
     "name": "stderr",
     "text": [
      "C:\\Users\\anle\\Anaconda3\\envs\\demo_kedro_mlflow\\lib\\site-packages\\ipykernel_launcher.py:5: DeprecationWarning: deploy_from_image has been deprecated and will be removed in a future release. Please migrate to using Environments. https://docs.microsoft.com/en-us/azure/machine-learning/how-to-use-environments\n",
      "  \"\"\"\n",
      "C:\\Users\\anle\\Anaconda3\\envs\\demo_kedro_mlflow\\lib\\site-packages\\azureml\\core\\image\\image.py:821: DeprecationWarning: Image class has been deprecated and will be removed in a future release. Please migrate to using Environments. https://docs.microsoft.com/en-us/azure/machine-learning/how-to-use-environments\n",
      "  image = cls(None)\n"
     ]
    },
    {
     "output_type": "stream",
     "name": "stdout",
     "text": [
      "ACI service creation operation finished, operation \"Succeeded\"\n"
     ]
    }
   ],
   "metadata": {}
  },
  {
   "cell_type": "code",
   "execution_count": null,
   "source": [],
   "outputs": [],
   "metadata": {}
  }
 ],
 "metadata": {
  "kernelspec": {
   "display_name": "Python 3",
   "language": "python",
   "name": "python3"
  },
  "language_info": {
   "codemirror_mode": {
    "name": "ipython",
    "version": 3
   },
   "file_extension": ".py",
   "mimetype": "text/x-python",
   "name": "python",
   "nbconvert_exporter": "python",
   "pygments_lexer": "ipython3",
   "version": "3.7.10"
  }
 },
 "nbformat": 4,
 "nbformat_minor": 5
}