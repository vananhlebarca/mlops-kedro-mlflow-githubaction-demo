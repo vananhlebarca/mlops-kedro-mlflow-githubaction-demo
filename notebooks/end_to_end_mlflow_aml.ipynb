{
 "cells": [
  {
   "cell_type": "markdown",
   "source": [
    "# Loading Kedro project context"
   ],
   "metadata": {}
  },
  {
   "cell_type": "code",
   "execution_count": 1,
   "source": [
    "from kedro.framework.startup import _add_src_to_path\r\n",
    "from pathlib import Path\r\n",
    "\r\n",
    "_add_src_to_path(source_dir=Path.cwd().parent/'mlflow_project/kedro_project/src', \r\n",
    "                 project_path=Path.cwd().parent/'mlflow_project/kedro_project')"
   ],
   "outputs": [],
   "metadata": {}
  },
  {
   "cell_type": "code",
   "execution_count": 2,
   "source": [
    "from kedro.framework.session import KedroSession\r\n",
    "session = KedroSession.create('leads', project_path=Path.cwd().parent/'mlflow_project/kedro_project', env='base')\r\n",
    "project_context = session.load_context() \r\n",
    "\r\n",
    "parameters = project_context.params"
   ],
   "outputs": [
    {
     "output_type": "stream",
     "name": "stderr",
     "text": [
      "C:\\Users\\anle\\Anaconda3\\envs\\demo_kedro_mlflow\\lib\\site-packages\\kedro\\config\\config.py:324: UserWarning: Duplicate environment detected! Skipping re-loading from configuration path: C:\\Users\\anle\\Desktop\\github\\mlops-kedro-mlflow-githubaction-demo\\mlflow_project\\kedro_project\\conf\\base\n",
      "  f\"Duplicate environment detected! \"\n"
     ]
    }
   ],
   "metadata": {}
  },
  {
   "cell_type": "markdown",
   "source": [],
   "metadata": {}
  },
  {
   "cell_type": "markdown",
   "source": [
    "# 1. Set MLflow tracking server"
   ],
   "metadata": {}
  },
  {
   "cell_type": "code",
   "execution_count": 3,
   "source": [
    "from azureml.core import Workspace\r\n",
    "import mlflow\r\n",
    "from azureml.core.authentication import InteractiveLoginAuthentication\r\n",
    "#forced_interactive_auth = InteractiveLoginAuthentication(tenant_id=\"1aa51068-11a6-4bd2-8646-1fff31a30ffc\", force=True)\r\n",
    "\r\n",
    "# check the node mlflow_track_rf to use mlflow_aml parameters\r\n",
    "#---------update this according to tracking server\r\n",
    "mlflow_params = parameters['mlflow_aml']  \r\n",
    "\r\n",
    "# ws = Workspace(subscription_id=\"2f71beb8-0da7-42ec-9bb7-678bf7867567\",\r\n",
    "#                resource_group=\"edadevarmrgp010\",\r\n",
    "#                workspace_name=\"eaadevarmmlnuw2002\",\r\n",
    "#                auth=forced_interactive_auth)\r\n",
    "\r\n",
    "ws = Workspace.from_config()\r\n",
    "\r\n",
    "mlflow.set_tracking_uri(ws.get_mlflow_tracking_uri())\r\n",
    "\r\n",
    "try:\r\n",
    "    mlflow.create_experiment(name=mlflow_params['experiment_name'])\r\n",
    "    print(\"Create A new experiment! Experiment uri: {}.\".format(mlflow.get_tracking_uri()))\r\n",
    "\r\n",
    "except Exception as inst:\r\n",
    "    if 'RESOURCE_ALREADY_EXISTS' in inst.error_code:\r\n",
    "        print('This experiment does exit! Continue set experiment and track!')\r\n",
    "    else:\r\n",
    "        print('Experiment can not be created because of ', inst.error_code)\r\n",
    "\r\n",
    "mlflow.set_experiment(mlflow_params['experiment_name'])"
   ],
   "outputs": [
    {
     "output_type": "stream",
     "name": "stderr",
     "text": [
      "C:\\Users\\anle\\Anaconda3\\envs\\demo_kedro_mlflow\\lib\\site-packages\\azureml\\data\\dataset_type_definitions.py:69: DeprecationWarning: FileType Enum is Deprecated in > 1.0.39. Use strings instead.\n",
      "  category=DeprecationWarning)\n",
      "C:\\Users\\anle\\Anaconda3\\envs\\demo_kedro_mlflow\\lib\\site-packages\\pkg_resources\\__init__.py:1131: DeprecationWarning: Use of .. or absolute path in a resource path is not allowed and will raise exceptions in a future release.\n",
      "  self, resource_name\n",
      "C:\\Users\\anle\\Anaconda3\\envs\\demo_kedro_mlflow\\lib\\site-packages\\mlflow\\types\\schema.py:49: DeprecationWarning: `np.object` is a deprecated alias for the builtin `object`. To silence this warning, use `object` by itself. Doing this will not modify any behavior and is safe. \n",
      "Deprecated in NumPy 1.20; for more details and guidance: https://numpy.org/devdocs/release/1.20.0-notes.html#deprecations\n",
      "  binary = (7, np.dtype(\"bytes\"), \"BinaryType\", np.object)\n"
     ]
    },
    {
     "output_type": "stream",
     "name": "stdout",
     "text": [
      "2021-07-13 08:15:40,404 - azureml.core.workspace - INFO - Found the config file in: c:\\Users\\anle\\Desktop\\github\\mlops-kedro-mlflow-githubaction-demo\\notebooks\\.azureml\\config.json\n",
      "2021-07-13 08:15:41,634 - azureml._restclient.clientbase - INFO - Created a worker pool for first use\n"
     ]
    },
    {
     "output_type": "stream",
     "name": "stderr",
     "text": [
      "C:\\Users\\anle\\Anaconda3\\envs\\demo_kedro_mlflow\\lib\\site-packages\\urllib3\\util\\retry.py:440: DeprecationWarning: Using 'method_whitelist' with Retry is deprecated and will be removed in v2.0. Use 'allowed_methods' instead\n",
      "  DeprecationWarning,\n"
     ]
    },
    {
     "output_type": "stream",
     "name": "stdout",
     "text": [
      "This experiment does exit! Continue set experiment and track!\n"
     ]
    }
   ],
   "metadata": {}
  },
  {
   "cell_type": "markdown",
   "source": [
    "# 2. Execute Training pipeline"
   ],
   "metadata": {}
  },
  {
   "cell_type": "code",
   "execution_count": 4,
   "source": [
    "# --------run  pipeline------------\r\n",
    "#project_context.run(pipeline_name=\"de\")\r\n",
    "project_context.run(pipeline_name='training')"
   ],
   "outputs": [
    {
     "output_type": "stream",
     "name": "stdout",
     "text": [
      "2021-07-13 08:15:46,118 - root - INFO - ** Kedro project kedro_project\n"
     ]
    },
    {
     "output_type": "stream",
     "name": "stderr",
     "text": [
      "C:\\Users\\anle\\Anaconda3\\envs\\demo_kedro_mlflow\\lib\\site-packages\\kedro\\framework\\context\\context.py:595: DeprecationWarning: `kedro.framework.context.KedroContext.run` is now deprecated in favour of `KedroSession.run` and will be removed in Kedro 0.18.0.\n",
      "  DeprecationWarning,\n"
     ]
    },
    {
     "output_type": "stream",
     "name": "stdout",
     "text": [
      "2021-07-13 08:15:48,241 - kedro.versioning.journal - WARNING - Unable to git describe C:\\Users\\anle\\Desktop\\github\\mlops-kedro-mlflow-githubaction-demo\\mlflow_project\\kedro_project\n"
     ]
    },
    {
     "output_type": "stream",
     "name": "stderr",
     "text": [
      "C:\\Users\\anle\\Anaconda3\\envs\\demo_kedro_mlflow\\lib\\site-packages\\kedro\\versioning\\journal.py:58: DeprecationWarning: `Journal` is now deprecated and will be removed in Kedro 0.18.0.For more information, please visit https://github.com/quantumblacklabs/kedro/blob/master/RELEASE.md\n",
      "  DeprecationWarning,\n",
      "C:\\Users\\anle\\Anaconda3\\envs\\demo_kedro_mlflow\\lib\\site-packages\\kedro\\config\\config.py:324: UserWarning: Duplicate environment detected! Skipping re-loading from configuration path: C:\\Users\\anle\\Desktop\\github\\mlops-kedro-mlflow-githubaction-demo\\mlflow_project\\kedro_project\\conf\\base\n",
      "  f\"Duplicate environment detected! \"\n",
      "C:\\Users\\anle\\Anaconda3\\envs\\demo_kedro_mlflow\\lib\\site-packages\\kedro\\framework\\context\\context.py:497: UserWarning: Credentials not found in your Kedro project config.\n",
      "No files found in ['C:\\\\Users\\\\anle\\\\Desktop\\\\github\\\\mlops-kedro-mlflow-githubaction-demo\\\\mlflow_project\\\\kedro_project\\\\conf\\\\base'] matching the glob pattern(s): ['credentials*', 'credentials*/**', '**/credentials*']\n",
      "  warn(f\"Credentials not found in your Kedro project config.\\n{str(exc)}\")\n",
      "C:\\Users\\anle\\Anaconda3\\envs\\demo_kedro_mlflow\\lib\\site-packages\\fsspec\\__init__.py:43: DeprecationWarning: SelectableGroups dict interface is deprecated. Use select.\n",
      "  for spec in entry_points.get(\"fsspec.specs\", []):\n"
     ]
    },
    {
     "output_type": "stream",
     "name": "stdout",
     "text": [
      "2021-07-13 08:15:48,954 - kedro.io.data_catalog - INFO - Loading data from `leads_dataset` (CSVDataSet)...\n",
      "2021-07-13 08:15:49,087 - kedro.io.data_catalog - INFO - Loading data from `params:leads_categorical_columns` (MemoryDataSet)...\n",
      "2021-07-13 08:15:49,090 - kedro.pipeline.node - INFO - Running node: lower_columns: lower_columns([leads_dataset,params:leads_categorical_columns]) -> [leads_dataset_clean]\n"
     ]
    },
    {
     "output_type": "stream",
     "name": "stderr",
     "text": [
      "C:\\Users\\anle\\Anaconda3\\envs\\demo_kedro_mlflow\\lib\\site-packages\\kedro\\config\\config.py:324: UserWarning: Duplicate environment detected! Skipping re-loading from configuration path: C:\\Users\\anle\\Desktop\\github\\mlops-kedro-mlflow-githubaction-demo\\mlflow_project\\kedro_project\\conf\\base\n",
      "  f\"Duplicate environment detected! \"\n"
     ]
    },
    {
     "output_type": "stream",
     "name": "stdout",
     "text": [
      "2021-07-13 08:15:49,171 - kedro.io.data_catalog - INFO - Saving data to `leads_dataset_clean` (CSVDataSet)...\n",
      "2021-07-13 08:15:49,531 - kedro.runner.sequential_runner - INFO - Completed 1 out of 8 tasks\n",
      "2021-07-13 08:15:49,533 - kedro.io.data_catalog - INFO - Loading data from `leads_dataset_clean` (CSVDataSet)...\n",
      "2021-07-13 08:15:49,657 - kedro.io.data_catalog - INFO - Loading data from `params:leads_categorical_columns` (MemoryDataSet)...\n",
      "2021-07-13 08:15:49,660 - kedro.pipeline.node - INFO - Running node: onehotencoder_fit: onehotencoder_fit([leads_dataset_clean,params:leads_categorical_columns]) -> [onehotencoder]\n",
      "2021-07-13 08:15:49,669 - kedro.io.data_catalog - INFO - Saving data to `onehotencoder` (PickleDataSet)...\n",
      "2021-07-13 08:15:49,679 - kedro.runner.sequential_runner - INFO - Completed 2 out of 8 tasks\n",
      "2021-07-13 08:15:49,682 - kedro.io.data_catalog - INFO - Loading data from `leads_dataset_clean` (CSVDataSet)...\n",
      "2021-07-13 08:15:49,823 - kedro.io.data_catalog - INFO - Loading data from `params:leads_response_column` (MemoryDataSet)...\n",
      "2021-07-13 08:15:49,826 - kedro.io.data_catalog - INFO - Loading data from `params:split_ratio` (MemoryDataSet)...\n",
      "2021-07-13 08:15:49,827 - kedro.pipeline.node - INFO - Running node: split_data: split_data([leads_dataset_clean,params:leads_response_column,params:split_ratio]) -> [test_x,test_y,train_x,train_y]\n",
      "2021-07-13 08:15:49,849 - kedro.io.data_catalog - INFO - Saving data to `train_x` (CSVDataSet)...\n",
      "2021-07-13 08:15:50,090 - kedro.io.data_catalog - INFO - Saving data to `train_y` (CSVDataSet)...\n",
      "2021-07-13 08:15:50,131 - kedro.io.data_catalog - INFO - Saving data to `test_x` (CSVDataSet)...\n",
      "2021-07-13 08:15:50,278 - kedro.io.data_catalog - INFO - Saving data to `test_y` (CSVDataSet)...\n",
      "2021-07-13 08:15:50,308 - kedro.runner.sequential_runner - INFO - Completed 3 out of 8 tasks\n",
      "2021-07-13 08:15:50,313 - kedro.io.data_catalog - INFO - Loading data from `train_x` (CSVDataSet)...\n",
      "2021-07-13 08:15:50,456 - kedro.io.data_catalog - INFO - Loading data from `params:leads_numeric_columns` (MemoryDataSet)...\n",
      "2021-07-13 08:15:50,458 - kedro.pipeline.node - INFO - Running node: scaler_fit: scaler_fit([params:leads_numeric_columns,train_x]) -> [scaler]\n",
      "2021-07-13 08:15:50,475 - kedro.io.data_catalog - INFO - Saving data to `scaler` (PickleDataSet)...\n",
      "2021-07-13 08:15:50,496 - kedro.runner.sequential_runner - INFO - Completed 4 out of 8 tasks\n",
      "2021-07-13 08:15:50,498 - kedro.io.data_catalog - INFO - Loading data from `onehotencoder` (PickleDataSet)...\n",
      "2021-07-13 08:15:50,503 - kedro.io.data_catalog - INFO - Loading data from `scaler` (PickleDataSet)...\n",
      "2021-07-13 08:15:50,509 - kedro.io.data_catalog - INFO - Loading data from `test_x` (CSVDataSet)...\n",
      "2021-07-13 08:15:50,584 - kedro.io.data_catalog - INFO - Loading data from `params:leads_numeric_columns` (MemoryDataSet)...\n",
      "2021-07-13 08:15:50,588 - kedro.io.data_catalog - INFO - Loading data from `params:leads_categorical_columns` (MemoryDataSet)...\n",
      "2021-07-13 08:15:50,591 - kedro.pipeline.node - INFO - Running node: process_test_set: pre_process_leads_data([onehotencoder,params:leads_categorical_columns,params:leads_numeric_columns,scaler,test_x]) -> [test_x_clean]\n",
      "2021-07-13 08:15:50,650 - kedro.io.data_catalog - INFO - Saving data to `test_x_clean` (CSVDataSet)...\n",
      "2021-07-13 08:15:51,100 - kedro.runner.sequential_runner - INFO - Completed 5 out of 8 tasks\n",
      "2021-07-13 08:15:51,108 - kedro.io.data_catalog - INFO - Loading data from `onehotencoder` (PickleDataSet)...\n",
      "2021-07-13 08:15:51,112 - kedro.io.data_catalog - INFO - Loading data from `scaler` (PickleDataSet)...\n",
      "2021-07-13 08:15:51,117 - kedro.io.data_catalog - INFO - Loading data from `train_x` (CSVDataSet)...\n",
      "2021-07-13 08:15:51,255 - kedro.io.data_catalog - INFO - Loading data from `params:leads_numeric_columns` (MemoryDataSet)...\n",
      "2021-07-13 08:15:51,258 - kedro.io.data_catalog - INFO - Loading data from `params:leads_categorical_columns` (MemoryDataSet)...\n",
      "2021-07-13 08:15:51,260 - kedro.pipeline.node - INFO - Running node: process_train_set: pre_process_leads_data([onehotencoder,params:leads_categorical_columns,params:leads_numeric_columns,scaler,train_x]) -> [train_x_clean]\n",
      "2021-07-13 08:15:51,346 - kedro.io.data_catalog - INFO - Saving data to `train_x_clean` (CSVDataSet)...\n",
      "2021-07-13 08:15:52,829 - kedro.runner.sequential_runner - INFO - Completed 6 out of 8 tasks\n",
      "2021-07-13 08:15:52,832 - kedro.io.data_catalog - INFO - Loading data from `train_x_clean` (CSVDataSet)...\n",
      "2021-07-13 08:15:53,277 - kedro.io.data_catalog - INFO - Loading data from `train_y` (CSVDataSet)...\n",
      "2021-07-13 08:15:53,290 - kedro.io.data_catalog - INFO - Loading data from `parameters` (MemoryDataSet)...\n",
      "2021-07-13 08:15:53,292 - kedro.pipeline.node - INFO - Running node: train_rf: train_model_rf([parameters,train_x_clean,train_y]) -> [rf_model]\n"
     ]
    },
    {
     "output_type": "stream",
     "name": "stderr",
     "text": [
      "c:\\Users\\anle\\Desktop\\github\\mlops-kedro-mlflow-githubaction-demo\\mlflow_project\\kedro_project\\src\\leads\\pipelines\\data_science\\nodes.py:56: DataConversionWarning: A column-vector y was passed when a 1d array was expected. Please change the shape of y to (n_samples,), for example using ravel().\n",
      "  model.fit(x, y)\n"
     ]
    },
    {
     "output_type": "stream",
     "name": "stdout",
     "text": [
      "2021-07-13 08:15:53,513 - kedro.io.data_catalog - INFO - Saving data to `rf_model` (PickleDataSet)...\n",
      "2021-07-13 08:15:53,529 - kedro.runner.sequential_runner - INFO - Completed 7 out of 8 tasks\n",
      "2021-07-13 08:15:53,531 - kedro.io.data_catalog - INFO - Loading data from `rf_model` (PickleDataSet)...\n",
      "2021-07-13 08:15:53,540 - kedro.io.data_catalog - INFO - Loading data from `test_x_clean` (CSVDataSet)...\n",
      "2021-07-13 08:15:53,704 - kedro.io.data_catalog - INFO - Loading data from `test_y` (CSVDataSet)...\n",
      "2021-07-13 08:15:53,713 - kedro.io.data_catalog - INFO - Loading data from `parameters` (MemoryDataSet)...\n",
      "2021-07-13 08:15:53,714 - kedro.io.data_catalog - INFO - Loading data from `params:mlflow_aml` (MemoryDataSet)...\n",
      "2021-07-13 08:15:53,718 - kedro.pipeline.node - INFO - Running node: mlflow_track_rf: mlflow_metrics_tracking([parameters,params:mlflow_aml,rf_model,test_x_clean,test_y]) -> [mlflow_latest_run]\n",
      "2021-07-13 08:15:57,447 - azureml.mlflow._internal.utils - INFO - Parsing artifact uri azureml://experiments/leads/runs/f10de1f8-76f4-40fe-a6db-380629e7e9c3/artifacts\n",
      "2021-07-13 08:15:57,450 - azureml.mlflow._internal.utils - INFO - Artifact uri azureml://experiments/leads/runs/f10de1f8-76f4-40fe-a6db-380629e7e9c3/artifacts info: {'experiment': 'leads', 'runid': 'f10de1f8-76f4-40fe-a6db-380629e7e9c3'}\n"
     ]
    },
    {
     "output_type": "stream",
     "name": "stderr",
     "text": [
      "C:\\Users\\anle\\Anaconda3\\envs\\demo_kedro_mlflow\\lib\\site-packages\\urllib3\\util\\retry.py:440: DeprecationWarning: Using 'method_whitelist' with Retry is deprecated and will be removed in v2.0. Use 'allowed_methods' instead\n",
      "  DeprecationWarning,\n"
     ]
    },
    {
     "output_type": "stream",
     "name": "stdout",
     "text": [
      "Run ID:  f10de1f8-76f4-40fe-a6db-380629e7e9c3\n",
      "model_uri:  runs:/f10de1f8-76f4-40fe-a6db-380629e7e9c3/model\n",
      "2021-07-13 08:15:59,957 - kedro.io.data_catalog - INFO - Saving data to `mlflow_latest_run` (YAMLDataSet)...\n",
      "2021-07-13 08:15:59,965 - kedro.runner.sequential_runner - INFO - Completed 8 out of 8 tasks\n",
      "2021-07-13 08:15:59,967 - kedro.runner.sequential_runner - INFO - Pipeline execution completed successfully.\n"
     ]
    },
    {
     "output_type": "execute_result",
     "data": {
      "text/plain": [
       "{}"
      ]
     },
     "metadata": {},
     "execution_count": 4
    }
   ],
   "metadata": {}
  },
  {
   "cell_type": "markdown",
   "source": [
    "# 3. Register the model in AML"
   ],
   "metadata": {}
  },
  {
   "cell_type": "code",
   "execution_count": null,
   "source": [
    "from azureml.core import Workspace\r\n",
    "from azureml.core.authentication import InteractiveLoginAuthentication\r\n",
    "#forced_interactive_auth = InteractiveLoginAuthentication(tenant_id=\"1aa51068-11a6-4bd2-8646-1fff31a30ffc\", force=True)\r\n",
    "\r\n",
    "# ws = Workspace(subscription_id=\"dsfsfs\",\r\n",
    "#                resource_group=\"sfsfs\",\r\n",
    "#                workspace_name=\"sfsfsf\")\r\n",
    "\r\n",
    "ws = Workspace.from_config()"
   ],
   "outputs": [],
   "metadata": {}
  },
  {
   "cell_type": "code",
   "execution_count": null,
   "source": [
    "from azureml.core.webservice import AciWebservice, Webservice\r\n",
    "\r\n",
    "dev_webservice_name = \"leads-aci\"\r\n",
    "dev_webservice_deployment_config = AciWebservice.deploy_configuration()\r\n",
    "\r\n",
    "try:\r\n",
    "    dev_existing_webservice_delete = Webservice(workspace=ws, name=dev_webservice_name).delete()\r\n",
    "except Exception:\r\n",
    "    pass\r\n",
    "    \r\n",
    "dev_webservice = Webservice.deploy_from_image(name=dev_webservice_name, image=model_image,deployment_config=dev_webservice_deployment_config,workspace=ws)\r\n",
    "dev_webservice.wait_for_deployment()"
   ],
   "outputs": [],
   "metadata": {}
  },
  {
   "cell_type": "markdown",
   "source": [
    "# 4. Deploy model "
   ],
   "metadata": {}
  },
  {
   "cell_type": "code",
   "execution_count": null,
   "source": [
    "from azureml.core.webservice import AciWebservice, Webservice\r\n",
    "\r\n",
    "dev_webservice_name = \"leads-aci\"\r\n",
    "dev_webservice_deployment_config = AciWebservice.deploy_configuration()\r\n",
    "dev_webservice = Webservice.deploy_from_image(name=dev_webservice_name, image=model_image, \r\n",
    "                                             deployment_config=dev_webservice_deployment_config, workspace=ws)\r\n",
    "dev_webservice.wait_for_deployment()"
   ],
   "outputs": [],
   "metadata": {}
  },
  {
   "cell_type": "code",
   "execution_count": null,
   "source": [],
   "outputs": [],
   "metadata": {}
  },
  {
   "cell_type": "code",
   "execution_count": null,
   "source": [],
   "outputs": [],
   "metadata": {}
  }
 ],
 "metadata": {
  "kernelspec": {
   "display_name": "Python 3",
   "language": "python",
   "name": "python3"
  },
  "language_info": {
   "codemirror_mode": {
    "name": "ipython",
    "version": 3
   },
   "file_extension": ".py",
   "mimetype": "text/x-python",
   "name": "python",
   "nbconvert_exporter": "python",
   "pygments_lexer": "ipython3",
   "version": "3.7.10"
  }
 },
 "nbformat": 4,
 "nbformat_minor": 5
}