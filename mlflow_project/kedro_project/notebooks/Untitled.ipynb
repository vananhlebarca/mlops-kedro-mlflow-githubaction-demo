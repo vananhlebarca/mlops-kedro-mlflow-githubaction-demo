{
 "cells": [
  {
   "cell_type": "code",
   "execution_count": 1,
   "id": "8acf1038",
   "metadata": {},
   "outputs": [
    {
     "name": "stderr",
     "output_type": "stream",
     "text": [
      "c:\\users\\anle\\anaconda3\\envs\\demo_kedro_mlflow\\lib\\site-packages\\kedro\\framework\\context\\context.py:61: DeprecationWarning: Accessing io via the context will be deprecated in Kedro 0.18.0.\n",
      "  DeprecationWarning,\n"
     ]
    },
    {
     "data": {
      "text/plain": [
       "['example_iris_data',\n",
       " 'example_train_x',\n",
       " 'example_train_y',\n",
       " 'example_test_x',\n",
       " 'example_test_y',\n",
       " 'example_model',\n",
       " 'rf_model',\n",
       " 'parameters',\n",
       " 'params:example_test_data_ratio',\n",
       " 'params:example_num_train_iter',\n",
       " 'params:example_learning_rate',\n",
       " 'params:random_forest',\n",
       " 'params:random_forest.max_depth',\n",
       " 'params:random_forest.n_estimators',\n",
       " 'params:random_forest.random_state',\n",
       " 'params:mlflow',\n",
       " 'params:mlflow.mlflow_uri',\n",
       " 'params:mlflow.experiment_name',\n",
       " 'params:mlflow.remote_server_uri']"
      ]
     },
     "execution_count": 1,
     "metadata": {},
     "output_type": "execute_result"
    }
   ],
   "source": [
    "context.io.list() "
   ]
  },
  {
   "cell_type": "code",
   "execution_count": 2,
   "id": "d34b19a1",
   "metadata": {},
   "outputs": [
    {
     "name": "stdout",
     "output_type": "stream",
     "text": [
      "2021-07-08 20:36:09,552 - kedro.io.data_catalog - INFO - Loading data from `example_iris_data` (CSVDataSet)...\n"
     ]
    },
    {
     "data": {
      "text/html": [
       "<div>\n",
       "<style scoped>\n",
       "    .dataframe tbody tr th:only-of-type {\n",
       "        vertical-align: middle;\n",
       "    }\n",
       "\n",
       "    .dataframe tbody tr th {\n",
       "        vertical-align: top;\n",
       "    }\n",
       "\n",
       "    .dataframe thead th {\n",
       "        text-align: right;\n",
       "    }\n",
       "</style>\n",
       "<table border=\"1\" class=\"dataframe\">\n",
       "  <thead>\n",
       "    <tr style=\"text-align: right;\">\n",
       "      <th></th>\n",
       "      <th>sepal_length</th>\n",
       "      <th>sepal_width</th>\n",
       "      <th>petal_length</th>\n",
       "      <th>petal_width</th>\n",
       "      <th>species</th>\n",
       "    </tr>\n",
       "  </thead>\n",
       "  <tbody>\n",
       "    <tr>\n",
       "      <th>0</th>\n",
       "      <td>5.1</td>\n",
       "      <td>3.5</td>\n",
       "      <td>1.4</td>\n",
       "      <td>0.2</td>\n",
       "      <td>setosa</td>\n",
       "    </tr>\n",
       "    <tr>\n",
       "      <th>1</th>\n",
       "      <td>4.9</td>\n",
       "      <td>3.0</td>\n",
       "      <td>1.4</td>\n",
       "      <td>0.2</td>\n",
       "      <td>setosa</td>\n",
       "    </tr>\n",
       "    <tr>\n",
       "      <th>2</th>\n",
       "      <td>4.7</td>\n",
       "      <td>3.2</td>\n",
       "      <td>1.3</td>\n",
       "      <td>0.2</td>\n",
       "      <td>setosa</td>\n",
       "    </tr>\n",
       "    <tr>\n",
       "      <th>3</th>\n",
       "      <td>4.6</td>\n",
       "      <td>3.1</td>\n",
       "      <td>1.5</td>\n",
       "      <td>0.2</td>\n",
       "      <td>setosa</td>\n",
       "    </tr>\n",
       "    <tr>\n",
       "      <th>4</th>\n",
       "      <td>5.0</td>\n",
       "      <td>3.6</td>\n",
       "      <td>1.4</td>\n",
       "      <td>0.2</td>\n",
       "      <td>setosa</td>\n",
       "    </tr>\n",
       "  </tbody>\n",
       "</table>\n",
       "</div>"
      ],
      "text/plain": [
       "   sepal_length  sepal_width  petal_length  petal_width species\n",
       "0           5.1          3.5           1.4          0.2  setosa\n",
       "1           4.9          3.0           1.4          0.2  setosa\n",
       "2           4.7          3.2           1.3          0.2  setosa\n",
       "3           4.6          3.1           1.5          0.2  setosa\n",
       "4           5.0          3.6           1.4          0.2  setosa"
      ]
     },
     "execution_count": 2,
     "metadata": {},
     "output_type": "execute_result"
    }
   ],
   "source": [
    "catalog.load(\"example_iris_data\").head()"
   ]
  },
  {
   "cell_type": "code",
   "execution_count": 3,
   "id": "e140354a",
   "metadata": {},
   "outputs": [
    {
     "name": "stdout",
     "output_type": "stream",
     "text": [
      "2021-07-07 09:58:20,411 - kedro.framework.session.store - INFO - `read()` not implemented for `BaseSessionStore`. Assuming empty store.\n",
      "2021-07-07 09:58:21,207 - kedro.framework.session.session - WARNING - Unable to git describe C:\\Users\\anle\\OneDrive - Suncor Energy Inc\\Desktop\\Training\\journalclub\\MLOPs-journal-club-demo\\demo_kedro_mlflow\n",
      "2021-07-07 09:58:21,289 - root - INFO - ** Kedro project iris\n",
      "2021-07-07 09:58:21,295 - root - INFO - Defined global variable `context`, `session` and `catalog`\n"
     ]
    }
   ],
   "source": [
    "%reload_kedro"
   ]
  },
  {
   "cell_type": "markdown",
   "id": "fd408c49",
   "metadata": {},
   "source": [
    "### Kedro session"
   ]
  },
  {
   "cell_type": "code",
   "execution_count": 3,
   "id": "ea119734",
   "metadata": {},
   "outputs": [],
   "source": [
    "from kedro.framework.session import KedroSession\n",
    "\n",
    "from pathlib import Path\n",
    "\n",
    "project_root_path =  \"C://Users//anle//Desktop//demo//leads//\"\n",
    "\n",
    "package_name = Path.cwd().resolve().parent.name\n"
   ]
  },
  {
   "cell_type": "code",
   "execution_count": 4,
   "id": "6c5e0051",
   "metadata": {},
   "outputs": [
    {
     "data": {
      "text/plain": [
       "'leads'"
      ]
     },
     "execution_count": 4,
     "metadata": {},
     "output_type": "execute_result"
    }
   ],
   "source": [
    "package_name"
   ]
  },
  {
   "cell_type": "code",
   "execution_count": 11,
   "id": "98ecb26f",
   "metadata": {},
   "outputs": [
    {
     "data": {
      "text/plain": [
       "WindowsPath('C:/Users/anle/Desktop/demo/leads')"
      ]
     },
     "execution_count": 11,
     "metadata": {},
     "output_type": "execute_result"
    }
   ],
   "source": [
    "\n",
    "Path(project_root_path)"
   ]
  },
  {
   "cell_type": "code",
   "execution_count": 5,
   "id": "98f3592a",
   "metadata": {},
   "outputs": [
    {
     "ename": "ModuleNotFoundError",
     "evalue": "No module named 'leads'",
     "output_type": "error",
     "traceback": [
      "\u001b[1;31m---------------------------------------------------------------------------\u001b[0m",
      "\u001b[1;31mModuleNotFoundError\u001b[0m                       Traceback (most recent call last)",
      "\u001b[1;32m<ipython-input-5-569bada77b8e>\u001b[0m in \u001b[0;36m<module>\u001b[1;34m\u001b[0m\n\u001b[1;32m----> 1\u001b[1;33m \u001b[0msession\u001b[0m \u001b[1;33m=\u001b[0m \u001b[0mKedroSession\u001b[0m\u001b[1;33m.\u001b[0m\u001b[0mcreate\u001b[0m\u001b[1;33m(\u001b[0m\u001b[0mpackage_name\u001b[0m\u001b[1;33m,\u001b[0m\u001b[0mproject_path\u001b[0m\u001b[1;33m=\u001b[0m\u001b[0mproject_root_path\u001b[0m\u001b[1;33m,\u001b[0m \u001b[0menv\u001b[0m\u001b[1;33m=\u001b[0m\u001b[1;34m'base'\u001b[0m\u001b[1;33m)\u001b[0m\u001b[1;33m\u001b[0m\u001b[1;33m\u001b[0m\u001b[0m\n\u001b[0m\u001b[0;32m      2\u001b[0m \u001b[0mproject_context\u001b[0m \u001b[1;33m=\u001b[0m \u001b[0msession\u001b[0m\u001b[1;33m.\u001b[0m\u001b[0mload_context\u001b[0m\u001b[1;33m(\u001b[0m\u001b[1;33m)\u001b[0m\u001b[1;33m\u001b[0m\u001b[1;33m\u001b[0m\u001b[0m\n",
      "\u001b[1;32mc:\\users\\anle\\anaconda3\\envs\\demo_kedro_mlflow\\lib\\site-packages\\kedro\\framework\\session\\session.py\u001b[0m in \u001b[0;36mcreate\u001b[1;34m(cls, package_name, project_path, save_on_close, env, extra_params)\u001b[0m\n\u001b[0;32m    183\u001b[0m         \u001b[1;31m# and should be removed in 0.18.\u001b[0m\u001b[1;33m\u001b[0m\u001b[1;33m\u001b[0m\u001b[1;33m\u001b[0m\u001b[0m\n\u001b[0;32m    184\u001b[0m         \u001b[1;32mif\u001b[0m \u001b[0mpackage_name\u001b[0m \u001b[1;32mis\u001b[0m \u001b[1;32mnot\u001b[0m \u001b[1;32mNone\u001b[0m\u001b[1;33m:\u001b[0m\u001b[1;33m\u001b[0m\u001b[1;33m\u001b[0m\u001b[0m\n\u001b[1;32m--> 185\u001b[1;33m             \u001b[0mconfigure_project\u001b[0m\u001b[1;33m(\u001b[0m\u001b[0mpackage_name\u001b[0m\u001b[1;33m)\u001b[0m\u001b[1;33m\u001b[0m\u001b[1;33m\u001b[0m\u001b[0m\n\u001b[0m\u001b[0;32m    186\u001b[0m \u001b[1;33m\u001b[0m\u001b[0m\n\u001b[0;32m    187\u001b[0m         session = cls(\n",
      "\u001b[1;32mc:\\users\\anle\\anaconda3\\envs\\demo_kedro_mlflow\\lib\\site-packages\\kedro\\framework\\project\\__init__.py\u001b[0m in \u001b[0;36mconfigure_project\u001b[1;34m(package_name)\u001b[0m\n\u001b[0;32m    216\u001b[0m     \"\"\"\n\u001b[0;32m    217\u001b[0m     \u001b[0msettings_module\u001b[0m \u001b[1;33m=\u001b[0m \u001b[1;34mf\"{package_name}.settings\"\u001b[0m\u001b[1;33m\u001b[0m\u001b[1;33m\u001b[0m\u001b[0m\n\u001b[1;32m--> 218\u001b[1;33m     \u001b[0m_validate_module\u001b[0m\u001b[1;33m(\u001b[0m\u001b[0msettings_module\u001b[0m\u001b[1;33m)\u001b[0m\u001b[1;33m\u001b[0m\u001b[1;33m\u001b[0m\u001b[0m\n\u001b[0m\u001b[0;32m    219\u001b[0m     \u001b[0msettings\u001b[0m\u001b[1;33m.\u001b[0m\u001b[0mconfigure\u001b[0m\u001b[1;33m(\u001b[0m\u001b[0msettings_module\u001b[0m\u001b[1;33m)\u001b[0m\u001b[1;33m\u001b[0m\u001b[1;33m\u001b[0m\u001b[0m\n\u001b[0;32m    220\u001b[0m \u001b[1;33m\u001b[0m\u001b[0m\n",
      "\u001b[1;32mc:\\users\\anle\\anaconda3\\envs\\demo_kedro_mlflow\\lib\\site-packages\\kedro\\framework\\project\\__init__.py\u001b[0m in \u001b[0;36m_validate_module\u001b[1;34m(settings_module)\u001b[0m\n\u001b[0;32m    208\u001b[0m     \u001b[0mcorrect\u001b[0m \u001b[0mso\u001b[0m \u001b[0mthat\u001b[0m \u001b[0many\u001b[0m \u001b[1;32mimport\u001b[0m \u001b[0merrors\u001b[0m \u001b[0mare\u001b[0m \u001b[0msurfaced\u001b[0m \u001b[0mearly\u001b[0m\u001b[1;33m.\u001b[0m\u001b[1;33m\u001b[0m\u001b[1;33m\u001b[0m\u001b[0m\n\u001b[0;32m    209\u001b[0m     \"\"\"\n\u001b[1;32m--> 210\u001b[1;33m     \u001b[0mimportlib\u001b[0m\u001b[1;33m.\u001b[0m\u001b[0mimport_module\u001b[0m\u001b[1;33m(\u001b[0m\u001b[0msettings_module\u001b[0m\u001b[1;33m)\u001b[0m\u001b[1;33m\u001b[0m\u001b[1;33m\u001b[0m\u001b[0m\n\u001b[0m\u001b[0;32m    211\u001b[0m \u001b[1;33m\u001b[0m\u001b[0m\n\u001b[0;32m    212\u001b[0m \u001b[1;33m\u001b[0m\u001b[0m\n",
      "\u001b[1;32mc:\\users\\anle\\anaconda3\\envs\\demo_kedro_mlflow\\lib\\importlib\\__init__.py\u001b[0m in \u001b[0;36mimport_module\u001b[1;34m(name, package)\u001b[0m\n\u001b[0;32m    125\u001b[0m                 \u001b[1;32mbreak\u001b[0m\u001b[1;33m\u001b[0m\u001b[1;33m\u001b[0m\u001b[0m\n\u001b[0;32m    126\u001b[0m             \u001b[0mlevel\u001b[0m \u001b[1;33m+=\u001b[0m \u001b[1;36m1\u001b[0m\u001b[1;33m\u001b[0m\u001b[1;33m\u001b[0m\u001b[0m\n\u001b[1;32m--> 127\u001b[1;33m     \u001b[1;32mreturn\u001b[0m \u001b[0m_bootstrap\u001b[0m\u001b[1;33m.\u001b[0m\u001b[0m_gcd_import\u001b[0m\u001b[1;33m(\u001b[0m\u001b[0mname\u001b[0m\u001b[1;33m[\u001b[0m\u001b[0mlevel\u001b[0m\u001b[1;33m:\u001b[0m\u001b[1;33m]\u001b[0m\u001b[1;33m,\u001b[0m \u001b[0mpackage\u001b[0m\u001b[1;33m,\u001b[0m \u001b[0mlevel\u001b[0m\u001b[1;33m)\u001b[0m\u001b[1;33m\u001b[0m\u001b[1;33m\u001b[0m\u001b[0m\n\u001b[0m\u001b[0;32m    128\u001b[0m \u001b[1;33m\u001b[0m\u001b[0m\n\u001b[0;32m    129\u001b[0m \u001b[1;33m\u001b[0m\u001b[0m\n",
      "\u001b[1;32mc:\\users\\anle\\anaconda3\\envs\\demo_kedro_mlflow\\lib\\importlib\\_bootstrap.py\u001b[0m in \u001b[0;36m_gcd_import\u001b[1;34m(name, package, level)\u001b[0m\n",
      "\u001b[1;32mc:\\users\\anle\\anaconda3\\envs\\demo_kedro_mlflow\\lib\\importlib\\_bootstrap.py\u001b[0m in \u001b[0;36m_find_and_load\u001b[1;34m(name, import_)\u001b[0m\n",
      "\u001b[1;32mc:\\users\\anle\\anaconda3\\envs\\demo_kedro_mlflow\\lib\\importlib\\_bootstrap.py\u001b[0m in \u001b[0;36m_find_and_load_unlocked\u001b[1;34m(name, import_)\u001b[0m\n",
      "\u001b[1;32mc:\\users\\anle\\anaconda3\\envs\\demo_kedro_mlflow\\lib\\importlib\\_bootstrap.py\u001b[0m in \u001b[0;36m_call_with_frames_removed\u001b[1;34m(f, *args, **kwds)\u001b[0m\n",
      "\u001b[1;32mc:\\users\\anle\\anaconda3\\envs\\demo_kedro_mlflow\\lib\\importlib\\_bootstrap.py\u001b[0m in \u001b[0;36m_gcd_import\u001b[1;34m(name, package, level)\u001b[0m\n",
      "\u001b[1;32mc:\\users\\anle\\anaconda3\\envs\\demo_kedro_mlflow\\lib\\importlib\\_bootstrap.py\u001b[0m in \u001b[0;36m_find_and_load\u001b[1;34m(name, import_)\u001b[0m\n",
      "\u001b[1;32mc:\\users\\anle\\anaconda3\\envs\\demo_kedro_mlflow\\lib\\importlib\\_bootstrap.py\u001b[0m in \u001b[0;36m_find_and_load_unlocked\u001b[1;34m(name, import_)\u001b[0m\n",
      "\u001b[1;31mModuleNotFoundError\u001b[0m: No module named 'leads'"
     ]
    }
   ],
   "source": [
    "session = KedroSession.create(package_name,project_path=project_root_path, env='base')\n",
    "project_context = session.load_context() "
   ]
  },
  {
   "cell_type": "code",
   "execution_count": 15,
   "id": "d4a3347d",
   "metadata": {},
   "outputs": [
    {
     "data": {
      "text/plain": [
       "WindowsPath('c:/Users/anle/Desktop/demo/leads')"
      ]
     },
     "execution_count": 15,
     "metadata": {},
     "output_type": "execute_result"
    }
   ],
   "source": [
    "Path.cwd().parent"
   ]
  },
  {
   "cell_type": "code",
   "execution_count": 18,
   "id": "ccadf0d4",
   "metadata": {},
   "outputs": [
    {
     "name": "stderr",
     "output_type": "stream",
     "text": [
      "C:\\Users\\anle\\Anaconda3\\envs\\demo_kedro_mlflow\\lib\\site-packages\\kedro\\framework\\cli\\utils.py:397: FutureWarning: kedro.framework.utils._add_src_to_path is deprecated. Please import from new location kedro.framework.startup or use `bootstrap_project()` instead for setting up the Kedro project.\n",
      "  warnings.warn(msg, FutureWarning)\n"
     ]
    },
    {
     "ename": "ValueError",
     "evalue": "Source path 'c:\\Users\\anle\\Desktop\\demo\\leads\\src' has to be relative to your project root 'c:\\Users\\anle\\Desktop\\demo\\leads\\notebooks'.",
     "output_type": "error",
     "traceback": [
      "\u001b[1;31m---------------------------------------------------------------------------\u001b[0m",
      "\u001b[1;31mValueError\u001b[0m                                Traceback (most recent call last)",
      "\u001b[1;32m~\\Anaconda3\\envs\\demo_kedro_mlflow\\lib\\site-packages\\kedro\\framework\\startup.py\u001b[0m in \u001b[0;36m_validate_source_path\u001b[1;34m(source_path, project_path)\u001b[0m\n\u001b[0;32m    155\u001b[0m     \u001b[1;32mtry\u001b[0m\u001b[1;33m:\u001b[0m\u001b[1;33m\u001b[0m\u001b[1;33m\u001b[0m\u001b[0m\n\u001b[1;32m--> 156\u001b[1;33m         \u001b[0msource_path\u001b[0m\u001b[1;33m.\u001b[0m\u001b[0mrelative_to\u001b[0m\u001b[1;33m(\u001b[0m\u001b[0mproject_path\u001b[0m\u001b[1;33m)\u001b[0m\u001b[1;33m\u001b[0m\u001b[1;33m\u001b[0m\u001b[0m\n\u001b[0m\u001b[0;32m    157\u001b[0m     \u001b[1;32mexcept\u001b[0m \u001b[0mValueError\u001b[0m \u001b[1;32mas\u001b[0m \u001b[0mexc\u001b[0m\u001b[1;33m:\u001b[0m\u001b[1;33m\u001b[0m\u001b[1;33m\u001b[0m\u001b[0m\n",
      "\u001b[1;32m~\\Anaconda3\\envs\\demo_kedro_mlflow\\lib\\pathlib.py\u001b[0m in \u001b[0;36mrelative_to\u001b[1;34m(self, *other)\u001b[0m\n\u001b[0;32m    899\u001b[0m             raise ValueError(\"{!r} does not start with {!r}\"\n\u001b[1;32m--> 900\u001b[1;33m                              .format(str(self), str(formatted)))\n\u001b[0m\u001b[0;32m    901\u001b[0m         return self._from_parsed_parts('', root if n == 1 else '',\n",
      "\u001b[1;31mValueError\u001b[0m: 'c:\\\\Users\\\\anle\\\\Desktop\\\\demo\\\\leads\\\\src' does not start with 'c:\\\\Users\\\\anle\\\\Desktop\\\\demo\\\\leads\\\\notebooks'",
      "\nThe above exception was the direct cause of the following exception:\n",
      "\u001b[1;31mValueError\u001b[0m                                Traceback (most recent call last)",
      "\u001b[1;32m<ipython-input-18-1d22be29d85b>\u001b[0m in \u001b[0;36m<module>\u001b[1;34m\u001b[0m\n\u001b[0;32m      1\u001b[0m \u001b[1;32mfrom\u001b[0m \u001b[0mkedro\u001b[0m\u001b[1;33m.\u001b[0m\u001b[0mframework\u001b[0m\u001b[1;33m.\u001b[0m\u001b[0mcli\u001b[0m\u001b[1;33m.\u001b[0m\u001b[0mutils\u001b[0m \u001b[1;32mimport\u001b[0m \u001b[0m_add_src_to_path\u001b[0m\u001b[1;33m\u001b[0m\u001b[1;33m\u001b[0m\u001b[0m\n\u001b[0;32m      2\u001b[0m \u001b[1;33m\u001b[0m\u001b[0m\n\u001b[1;32m----> 3\u001b[1;33m \u001b[0m_add_src_to_path\u001b[0m\u001b[1;33m(\u001b[0m\u001b[0mPath\u001b[0m\u001b[1;33m.\u001b[0m\u001b[0mcwd\u001b[0m\u001b[1;33m(\u001b[0m\u001b[1;33m)\u001b[0m\u001b[1;33m.\u001b[0m\u001b[0mparent\u001b[0m\u001b[1;33m/\u001b[0m\u001b[1;34m\"src\"\u001b[0m\u001b[1;33m,\u001b[0m \u001b[0mPath\u001b[0m\u001b[1;33m.\u001b[0m\u001b[0mcwd\u001b[0m\u001b[1;33m(\u001b[0m\u001b[1;33m)\u001b[0m\u001b[1;33m)\u001b[0m\u001b[1;33m\u001b[0m\u001b[1;33m\u001b[0m\u001b[0m\n\u001b[0m",
      "\u001b[1;32m~\\Anaconda3\\envs\\demo_kedro_mlflow\\lib\\site-packages\\kedro\\framework\\cli\\utils.py\u001b[0m in \u001b[0;36m_add_src_to_path\u001b[1;34m(source_dir, project_path)\u001b[0m\n\u001b[0;32m    396\u001b[0m     )\n\u001b[0;32m    397\u001b[0m     \u001b[0mwarnings\u001b[0m\u001b[1;33m.\u001b[0m\u001b[0mwarn\u001b[0m\u001b[1;33m(\u001b[0m\u001b[0mmsg\u001b[0m\u001b[1;33m,\u001b[0m \u001b[0mFutureWarning\u001b[0m\u001b[1;33m)\u001b[0m\u001b[1;33m\u001b[0m\u001b[1;33m\u001b[0m\u001b[0m\n\u001b[1;32m--> 398\u001b[1;33m     \u001b[0mreal_add_src_to_path\u001b[0m\u001b[1;33m(\u001b[0m\u001b[0msource_dir\u001b[0m\u001b[1;33m,\u001b[0m \u001b[0mproject_path\u001b[0m\u001b[1;33m)\u001b[0m\u001b[1;33m\u001b[0m\u001b[1;33m\u001b[0m\u001b[0m\n\u001b[0m\u001b[0;32m    399\u001b[0m \u001b[1;33m\u001b[0m\u001b[0m\n\u001b[0;32m    400\u001b[0m \u001b[1;33m\u001b[0m\u001b[0m\n",
      "\u001b[1;32m~\\Anaconda3\\envs\\demo_kedro_mlflow\\lib\\site-packages\\kedro\\framework\\startup.py\u001b[0m in \u001b[0;36m_add_src_to_path\u001b[1;34m(source_dir, project_path)\u001b[0m\n\u001b[0;32m    165\u001b[0m \u001b[1;33m\u001b[0m\u001b[0m\n\u001b[0;32m    166\u001b[0m \u001b[1;32mdef\u001b[0m \u001b[0m_add_src_to_path\u001b[0m\u001b[1;33m(\u001b[0m\u001b[0msource_dir\u001b[0m\u001b[1;33m:\u001b[0m \u001b[0mPath\u001b[0m\u001b[1;33m,\u001b[0m \u001b[0mproject_path\u001b[0m\u001b[1;33m:\u001b[0m \u001b[0mPath\u001b[0m\u001b[1;33m)\u001b[0m \u001b[1;33m->\u001b[0m \u001b[1;32mNone\u001b[0m\u001b[1;33m:\u001b[0m\u001b[1;33m\u001b[0m\u001b[1;33m\u001b[0m\u001b[0m\n\u001b[1;32m--> 167\u001b[1;33m     \u001b[0m_validate_source_path\u001b[0m\u001b[1;33m(\u001b[0m\u001b[0msource_dir\u001b[0m\u001b[1;33m,\u001b[0m \u001b[0mproject_path\u001b[0m\u001b[1;33m)\u001b[0m\u001b[1;33m\u001b[0m\u001b[1;33m\u001b[0m\u001b[0m\n\u001b[0m\u001b[0;32m    168\u001b[0m \u001b[1;33m\u001b[0m\u001b[0m\n\u001b[0;32m    169\u001b[0m     \u001b[1;32mif\u001b[0m \u001b[0mstr\u001b[0m\u001b[1;33m(\u001b[0m\u001b[0msource_dir\u001b[0m\u001b[1;33m)\u001b[0m \u001b[1;32mnot\u001b[0m \u001b[1;32min\u001b[0m \u001b[0msys\u001b[0m\u001b[1;33m.\u001b[0m\u001b[0mpath\u001b[0m\u001b[1;33m:\u001b[0m\u001b[1;33m\u001b[0m\u001b[1;33m\u001b[0m\u001b[0m\n",
      "\u001b[1;32m~\\Anaconda3\\envs\\demo_kedro_mlflow\\lib\\site-packages\\kedro\\framework\\startup.py\u001b[0m in \u001b[0;36m_validate_source_path\u001b[1;34m(source_path, project_path)\u001b[0m\n\u001b[0;32m    159\u001b[0m             \u001b[1;34mf\"Source path '{source_path}' has to be relative to \"\u001b[0m\u001b[1;33m\u001b[0m\u001b[1;33m\u001b[0m\u001b[0m\n\u001b[0;32m    160\u001b[0m             \u001b[1;34mf\"your project root '{project_path}'.\"\u001b[0m\u001b[1;33m\u001b[0m\u001b[1;33m\u001b[0m\u001b[0m\n\u001b[1;32m--> 161\u001b[1;33m         ) from exc\n\u001b[0m\u001b[0;32m    162\u001b[0m     \u001b[1;32mif\u001b[0m \u001b[1;32mnot\u001b[0m \u001b[0msource_path\u001b[0m\u001b[1;33m.\u001b[0m\u001b[0mexists\u001b[0m\u001b[1;33m(\u001b[0m\u001b[1;33m)\u001b[0m\u001b[1;33m:\u001b[0m\u001b[1;33m\u001b[0m\u001b[1;33m\u001b[0m\u001b[0m\n\u001b[0;32m    163\u001b[0m         \u001b[1;32mraise\u001b[0m \u001b[0mNotADirectoryError\u001b[0m\u001b[1;33m(\u001b[0m\u001b[1;34mf\"Source path '{source_path}' cannot be found.\"\u001b[0m\u001b[1;33m)\u001b[0m\u001b[1;33m\u001b[0m\u001b[1;33m\u001b[0m\u001b[0m\n",
      "\u001b[1;31mValueError\u001b[0m: Source path 'c:\\Users\\anle\\Desktop\\demo\\leads\\src' has to be relative to your project root 'c:\\Users\\anle\\Desktop\\demo\\leads\\notebooks'."
     ]
    }
   ],
   "source": [
    "from kedro.framework.cli.utils import _add_src_to_path\n",
    "\n",
    "_add_src_to_path(Path.cwd().parent/\"src\", Path.cwd())\n"
   ]
  },
  {
   "cell_type": "code",
   "execution_count": 20,
   "id": "2406dab1",
   "metadata": {},
   "outputs": [
    {
     "name": "stdout",
     "output_type": "stream",
     "text": [
      "Help on function _add_src_to_path in module kedro.framework.cli.utils:\n",
      "\n",
      "_add_src_to_path(source_dir: pathlib.Path, project_path: pathlib.Path) -> None\n",
      "\n"
     ]
    }
   ],
   "source": [
    "\n",
    "help(_add_src_to_path)"
   ]
  },
  {
   "cell_type": "code",
   "execution_count": 21,
   "id": "9809b5f6",
   "metadata": {},
   "outputs": [
    {
     "data": {
      "text/plain": [
       "WindowsPath('c:/Users/anle/Desktop/demo/leads')"
      ]
     },
     "execution_count": 21,
     "metadata": {},
     "output_type": "execute_result"
    }
   ],
   "source": [
    "Path.cwd().parent"
   ]
  },
  {
   "cell_type": "code",
   "execution_count": 26,
   "id": "bc6437b5",
   "metadata": {},
   "outputs": [
    {
     "ename": "ModuleNotFoundError",
     "evalue": "No module named 'lead'",
     "output_type": "error",
     "traceback": [
      "\u001b[1;31m---------------------------------------------------------------------------\u001b[0m",
      "\u001b[1;31mModuleNotFoundError\u001b[0m                       Traceback (most recent call last)",
      "\u001b[1;32m<ipython-input-26-945ed88ab9d8>\u001b[0m in \u001b[0;36m<module>\u001b[1;34m\u001b[0m\n\u001b[1;32m----> 1\u001b[1;33m \u001b[0msession\u001b[0m \u001b[1;33m=\u001b[0m \u001b[0mKedroSession\u001b[0m\u001b[1;33m.\u001b[0m\u001b[0mcreate\u001b[0m\u001b[1;33m(\u001b[0m\u001b[1;34m'lead'\u001b[0m\u001b[1;33m,\u001b[0m \u001b[0mproject_path\u001b[0m\u001b[1;33m=\u001b[0m\u001b[0mPath\u001b[0m\u001b[1;33m.\u001b[0m\u001b[0mcwd\u001b[0m\u001b[1;33m(\u001b[0m\u001b[1;33m)\u001b[0m\u001b[1;33m/\u001b[0m\u001b[1;34m\"src\"\u001b[0m\u001b[1;33m,\u001b[0m \u001b[0menv\u001b[0m\u001b[1;33m=\u001b[0m\u001b[1;34m'base'\u001b[0m\u001b[1;33m)\u001b[0m\u001b[1;33m\u001b[0m\u001b[1;33m\u001b[0m\u001b[0m\n\u001b[0m\u001b[0;32m      2\u001b[0m \u001b[0mproject_context\u001b[0m \u001b[1;33m=\u001b[0m \u001b[0msession\u001b[0m\u001b[1;33m.\u001b[0m\u001b[0mload_context\u001b[0m\u001b[1;33m(\u001b[0m\u001b[1;33m)\u001b[0m\u001b[1;33m\u001b[0m\u001b[1;33m\u001b[0m\u001b[0m\n",
      "\u001b[1;32m~\\Anaconda3\\envs\\demo_kedro_mlflow\\lib\\site-packages\\kedro\\framework\\session\\session.py\u001b[0m in \u001b[0;36mcreate\u001b[1;34m(cls, package_name, project_path, save_on_close, env, extra_params)\u001b[0m\n\u001b[0;32m    183\u001b[0m         \u001b[1;31m# and should be removed in 0.18.\u001b[0m\u001b[1;33m\u001b[0m\u001b[1;33m\u001b[0m\u001b[1;33m\u001b[0m\u001b[0m\n\u001b[0;32m    184\u001b[0m         \u001b[1;32mif\u001b[0m \u001b[0mpackage_name\u001b[0m \u001b[1;32mis\u001b[0m \u001b[1;32mnot\u001b[0m \u001b[1;32mNone\u001b[0m\u001b[1;33m:\u001b[0m\u001b[1;33m\u001b[0m\u001b[1;33m\u001b[0m\u001b[0m\n\u001b[1;32m--> 185\u001b[1;33m             \u001b[0mconfigure_project\u001b[0m\u001b[1;33m(\u001b[0m\u001b[0mpackage_name\u001b[0m\u001b[1;33m)\u001b[0m\u001b[1;33m\u001b[0m\u001b[1;33m\u001b[0m\u001b[0m\n\u001b[0m\u001b[0;32m    186\u001b[0m \u001b[1;33m\u001b[0m\u001b[0m\n\u001b[0;32m    187\u001b[0m         session = cls(\n",
      "\u001b[1;32m~\\Anaconda3\\envs\\demo_kedro_mlflow\\lib\\site-packages\\kedro\\framework\\project\\__init__.py\u001b[0m in \u001b[0;36mconfigure_project\u001b[1;34m(package_name)\u001b[0m\n\u001b[0;32m    216\u001b[0m     \"\"\"\n\u001b[0;32m    217\u001b[0m     \u001b[0msettings_module\u001b[0m \u001b[1;33m=\u001b[0m \u001b[1;34mf\"{package_name}.settings\"\u001b[0m\u001b[1;33m\u001b[0m\u001b[1;33m\u001b[0m\u001b[0m\n\u001b[1;32m--> 218\u001b[1;33m     \u001b[0m_validate_module\u001b[0m\u001b[1;33m(\u001b[0m\u001b[0msettings_module\u001b[0m\u001b[1;33m)\u001b[0m\u001b[1;33m\u001b[0m\u001b[1;33m\u001b[0m\u001b[0m\n\u001b[0m\u001b[0;32m    219\u001b[0m     \u001b[0msettings\u001b[0m\u001b[1;33m.\u001b[0m\u001b[0mconfigure\u001b[0m\u001b[1;33m(\u001b[0m\u001b[0msettings_module\u001b[0m\u001b[1;33m)\u001b[0m\u001b[1;33m\u001b[0m\u001b[1;33m\u001b[0m\u001b[0m\n\u001b[0;32m    220\u001b[0m \u001b[1;33m\u001b[0m\u001b[0m\n",
      "\u001b[1;32m~\\Anaconda3\\envs\\demo_kedro_mlflow\\lib\\site-packages\\kedro\\framework\\project\\__init__.py\u001b[0m in \u001b[0;36m_validate_module\u001b[1;34m(settings_module)\u001b[0m\n\u001b[0;32m    208\u001b[0m     \u001b[0mcorrect\u001b[0m \u001b[0mso\u001b[0m \u001b[0mthat\u001b[0m \u001b[0many\u001b[0m \u001b[1;32mimport\u001b[0m \u001b[0merrors\u001b[0m \u001b[0mare\u001b[0m \u001b[0msurfaced\u001b[0m \u001b[0mearly\u001b[0m\u001b[1;33m.\u001b[0m\u001b[1;33m\u001b[0m\u001b[1;33m\u001b[0m\u001b[0m\n\u001b[0;32m    209\u001b[0m     \"\"\"\n\u001b[1;32m--> 210\u001b[1;33m     \u001b[0mimportlib\u001b[0m\u001b[1;33m.\u001b[0m\u001b[0mimport_module\u001b[0m\u001b[1;33m(\u001b[0m\u001b[0msettings_module\u001b[0m\u001b[1;33m)\u001b[0m\u001b[1;33m\u001b[0m\u001b[1;33m\u001b[0m\u001b[0m\n\u001b[0m\u001b[0;32m    211\u001b[0m \u001b[1;33m\u001b[0m\u001b[0m\n\u001b[0;32m    212\u001b[0m \u001b[1;33m\u001b[0m\u001b[0m\n",
      "\u001b[1;32m~\\Anaconda3\\envs\\demo_kedro_mlflow\\lib\\importlib\\__init__.py\u001b[0m in \u001b[0;36mimport_module\u001b[1;34m(name, package)\u001b[0m\n\u001b[0;32m    125\u001b[0m                 \u001b[1;32mbreak\u001b[0m\u001b[1;33m\u001b[0m\u001b[1;33m\u001b[0m\u001b[0m\n\u001b[0;32m    126\u001b[0m             \u001b[0mlevel\u001b[0m \u001b[1;33m+=\u001b[0m \u001b[1;36m1\u001b[0m\u001b[1;33m\u001b[0m\u001b[1;33m\u001b[0m\u001b[0m\n\u001b[1;32m--> 127\u001b[1;33m     \u001b[1;32mreturn\u001b[0m \u001b[0m_bootstrap\u001b[0m\u001b[1;33m.\u001b[0m\u001b[0m_gcd_import\u001b[0m\u001b[1;33m(\u001b[0m\u001b[0mname\u001b[0m\u001b[1;33m[\u001b[0m\u001b[0mlevel\u001b[0m\u001b[1;33m:\u001b[0m\u001b[1;33m]\u001b[0m\u001b[1;33m,\u001b[0m \u001b[0mpackage\u001b[0m\u001b[1;33m,\u001b[0m \u001b[0mlevel\u001b[0m\u001b[1;33m)\u001b[0m\u001b[1;33m\u001b[0m\u001b[1;33m\u001b[0m\u001b[0m\n\u001b[0m\u001b[0;32m    128\u001b[0m \u001b[1;33m\u001b[0m\u001b[0m\n\u001b[0;32m    129\u001b[0m \u001b[1;33m\u001b[0m\u001b[0m\n",
      "\u001b[1;32m~\\Anaconda3\\envs\\demo_kedro_mlflow\\lib\\importlib\\_bootstrap.py\u001b[0m in \u001b[0;36m_gcd_import\u001b[1;34m(name, package, level)\u001b[0m\n",
      "\u001b[1;32m~\\Anaconda3\\envs\\demo_kedro_mlflow\\lib\\importlib\\_bootstrap.py\u001b[0m in \u001b[0;36m_find_and_load\u001b[1;34m(name, import_)\u001b[0m\n",
      "\u001b[1;32m~\\Anaconda3\\envs\\demo_kedro_mlflow\\lib\\importlib\\_bootstrap.py\u001b[0m in \u001b[0;36m_find_and_load_unlocked\u001b[1;34m(name, import_)\u001b[0m\n",
      "\u001b[1;32m~\\Anaconda3\\envs\\demo_kedro_mlflow\\lib\\importlib\\_bootstrap.py\u001b[0m in \u001b[0;36m_call_with_frames_removed\u001b[1;34m(f, *args, **kwds)\u001b[0m\n",
      "\u001b[1;32m~\\Anaconda3\\envs\\demo_kedro_mlflow\\lib\\importlib\\_bootstrap.py\u001b[0m in \u001b[0;36m_gcd_import\u001b[1;34m(name, package, level)\u001b[0m\n",
      "\u001b[1;32m~\\Anaconda3\\envs\\demo_kedro_mlflow\\lib\\importlib\\_bootstrap.py\u001b[0m in \u001b[0;36m_find_and_load\u001b[1;34m(name, import_)\u001b[0m\n",
      "\u001b[1;32m~\\Anaconda3\\envs\\demo_kedro_mlflow\\lib\\importlib\\_bootstrap.py\u001b[0m in \u001b[0;36m_find_and_load_unlocked\u001b[1;34m(name, import_)\u001b[0m\n",
      "\u001b[1;31mModuleNotFoundError\u001b[0m: No module named 'lead'"
     ]
    }
   ],
   "source": [
    "session = KedroSession.create('lead', project_path=Path.cwd()/\"src\", env='base')\n",
    "project_context = session.load_context() "
   ]
  },
  {
   "cell_type": "code",
   "execution_count": 23,
   "id": "bfc09a94",
   "metadata": {},
   "outputs": [
    {
     "name": "stdout",
     "output_type": "stream",
     "text": [
      "Help on method create in module kedro.framework.session.session:\n",
      "\n",
      "create(package_name: str = None, project_path: Union[pathlib.Path, str] = None, save_on_close: bool = True, env: str = None, extra_params: Dict[str, Any] = None) -> 'KedroSession' method of builtins.type instance\n",
      "    Create a new instance of ``KedroSession`` with the session data.\n",
      "    \n",
      "    Args:\n",
      "        package_name: Package name for the Kedro project the session is\n",
      "            created for.\n",
      "        project_path: Path to the project root directory. Default is\n",
      "            current working directory Path.cwd().\n",
      "        save_on_close: Whether or not to save the session when it's closed.\n",
      "        env: Environment for the KedroContext.\n",
      "        extra_params: Optional dictionary containing extra project parameters\n",
      "            for underlying KedroContext. If specified, will update (and therefore\n",
      "            take precedence over) the parameters retrieved from the project\n",
      "            configuration.\n",
      "    \n",
      "    Returns:\n",
      "        A new ``KedroSession`` instance.\n",
      "\n"
     ]
    }
   ],
   "source": [
    "help(KedroSession.create)"
   ]
  },
  {
   "cell_type": "code",
   "execution_count": null,
   "id": "dbfe45ec",
   "metadata": {},
   "outputs": [],
   "source": []
  },
  {
   "cell_type": "code",
   "execution_count": null,
   "id": "1e8a80f0",
   "metadata": {},
   "outputs": [],
   "source": []
  },
  {
   "cell_type": "code",
   "execution_count": 10,
   "id": "fa5b2d0a",
   "metadata": {},
   "outputs": [
    {
     "ename": "ModuleNotFoundError",
     "evalue": "No module named 'kedro.context'",
     "output_type": "error",
     "traceback": [
      "\u001b[1;31m---------------------------------------------------------------------------\u001b[0m",
      "\u001b[1;31mModuleNotFoundError\u001b[0m                       Traceback (most recent call last)",
      "\u001b[1;32m<ipython-input-10-7ca14fbad24a>\u001b[0m in \u001b[0;36m<module>\u001b[1;34m\u001b[0m\n\u001b[1;32m----> 1\u001b[1;33m \u001b[1;32mfrom\u001b[0m \u001b[0mkedro\u001b[0m\u001b[1;33m.\u001b[0m\u001b[0mcontext\u001b[0m \u001b[1;32mimport\u001b[0m \u001b[0mKedroContext\u001b[0m\u001b[1;33m,\u001b[0m \u001b[0mload_context\u001b[0m\u001b[1;33m\u001b[0m\u001b[1;33m\u001b[0m\u001b[0m\n\u001b[0m",
      "\u001b[1;31mModuleNotFoundError\u001b[0m: No module named 'kedro.context'"
     ]
    }
   ],
   "source": [
    "from kedro.context import KedroContext, load_context"
   ]
  },
  {
   "cell_type": "code",
   "execution_count": 9,
   "id": "29ec9a62",
   "metadata": {},
   "outputs": [
    {
     "ename": "KedroContextError",
     "evalue": "Expected an instance of `ConfigLoader`, got `NoneType` instead.",
     "output_type": "error",
     "traceback": [
      "\u001b[1;31m---------------------------------------------------------------------------\u001b[0m",
      "\u001b[1;31mKedroContextError\u001b[0m                         Traceback (most recent call last)",
      "\u001b[1;32m<ipython-input-9-767ee32b9fd9>\u001b[0m in \u001b[0;36m<module>\u001b[1;34m\u001b[0m\n\u001b[0;32m      1\u001b[0m \u001b[1;32mfrom\u001b[0m \u001b[0mkedro\u001b[0m\u001b[1;33m.\u001b[0m\u001b[0mframework\u001b[0m\u001b[1;33m.\u001b[0m\u001b[0msession\u001b[0m \u001b[1;32mimport\u001b[0m \u001b[0mKedroSession\u001b[0m\u001b[1;33m\u001b[0m\u001b[1;33m\u001b[0m\u001b[0m\n\u001b[0;32m      2\u001b[0m \u001b[1;33m\u001b[0m\u001b[0m\n\u001b[1;32m----> 3\u001b[1;33m \u001b[1;32mwith\u001b[0m \u001b[0mKedroSession\u001b[0m\u001b[1;33m.\u001b[0m\u001b[0mcreate\u001b[0m\u001b[1;33m(\u001b[0m\u001b[0mproject_path\u001b[0m\u001b[1;33m=\u001b[0m\u001b[1;34m'C://Users//anle//Desktop//demo_kedro_mlflow'\u001b[0m\u001b[1;33m,\u001b[0m \u001b[0menv\u001b[0m\u001b[1;33m=\u001b[0m\u001b[1;34m'base'\u001b[0m\u001b[1;33m)\u001b[0m \u001b[1;32mas\u001b[0m \u001b[0msession\u001b[0m\u001b[1;33m:\u001b[0m\u001b[1;33m\u001b[0m\u001b[1;33m\u001b[0m\u001b[0m\n\u001b[0m\u001b[0;32m      4\u001b[0m     \u001b[0msession\u001b[0m\u001b[1;33m.\u001b[0m\u001b[0mrun\u001b[0m\u001b[1;33m(\u001b[0m\u001b[1;33m)\u001b[0m\u001b[1;33m\u001b[0m\u001b[1;33m\u001b[0m\u001b[0m\n",
      "\u001b[1;32mc:\\users\\anle\\anaconda3\\envs\\demo_kedro_mlflow\\lib\\site-packages\\kedro\\framework\\session\\session.py\u001b[0m in \u001b[0;36mcreate\u001b[1;34m(cls, package_name, project_path, save_on_close, env, extra_params)\u001b[0m\n\u001b[0;32m    215\u001b[0m \u001b[1;33m\u001b[0m\u001b[0m\n\u001b[0;32m    216\u001b[0m         \u001b[1;31m# we need a ConfigLoader registered in order to be able to set up logging\u001b[0m\u001b[1;33m\u001b[0m\u001b[1;33m\u001b[0m\u001b[1;33m\u001b[0m\u001b[0m\n\u001b[1;32m--> 217\u001b[1;33m         \u001b[0msession\u001b[0m\u001b[1;33m.\u001b[0m\u001b[0m_setup_logging\u001b[0m\u001b[1;33m(\u001b[0m\u001b[1;33m)\u001b[0m\u001b[1;33m\u001b[0m\u001b[1;33m\u001b[0m\u001b[0m\n\u001b[0m\u001b[0;32m    218\u001b[0m         \u001b[1;32mreturn\u001b[0m \u001b[0msession\u001b[0m\u001b[1;33m\u001b[0m\u001b[1;33m\u001b[0m\u001b[0m\n\u001b[0;32m    219\u001b[0m \u001b[1;33m\u001b[0m\u001b[0m\n",
      "\u001b[1;32mc:\\users\\anle\\anaconda3\\envs\\demo_kedro_mlflow\\lib\\site-packages\\kedro\\framework\\session\\session.py\u001b[0m in \u001b[0;36m_setup_logging\u001b[1;34m(self)\u001b[0m\n\u001b[0;32m    233\u001b[0m     \u001b[1;32mdef\u001b[0m \u001b[0m_setup_logging\u001b[0m\u001b[1;33m(\u001b[0m\u001b[0mself\u001b[0m\u001b[1;33m)\u001b[0m \u001b[1;33m->\u001b[0m \u001b[1;32mNone\u001b[0m\u001b[1;33m:\u001b[0m\u001b[1;33m\u001b[0m\u001b[1;33m\u001b[0m\u001b[0m\n\u001b[0;32m    234\u001b[0m         \u001b[1;34m\"\"\"Register logging specified in logging directory.\"\"\"\u001b[0m\u001b[1;33m\u001b[0m\u001b[1;33m\u001b[0m\u001b[0m\n\u001b[1;32m--> 235\u001b[1;33m         \u001b[0mconf_logging\u001b[0m \u001b[1;33m=\u001b[0m \u001b[0mself\u001b[0m\u001b[1;33m.\u001b[0m\u001b[0m_get_logging_config\u001b[0m\u001b[1;33m(\u001b[0m\u001b[1;33m)\u001b[0m\u001b[1;33m\u001b[0m\u001b[1;33m\u001b[0m\u001b[0m\n\u001b[0m\u001b[0;32m    236\u001b[0m         \u001b[0mlogging\u001b[0m\u001b[1;33m.\u001b[0m\u001b[0mconfig\u001b[0m\u001b[1;33m.\u001b[0m\u001b[0mdictConfig\u001b[0m\u001b[1;33m(\u001b[0m\u001b[0mconf_logging\u001b[0m\u001b[1;33m)\u001b[0m\u001b[1;33m\u001b[0m\u001b[1;33m\u001b[0m\u001b[0m\n\u001b[0;32m    237\u001b[0m \u001b[1;33m\u001b[0m\u001b[0m\n",
      "\u001b[1;32mc:\\users\\anle\\anaconda3\\envs\\demo_kedro_mlflow\\lib\\site-packages\\kedro\\framework\\session\\session.py\u001b[0m in \u001b[0;36m_get_logging_config\u001b[1;34m(self)\u001b[0m\n\u001b[0;32m    221\u001b[0m         \u001b[0mcontext\u001b[0m \u001b[1;33m=\u001b[0m \u001b[0mself\u001b[0m\u001b[1;33m.\u001b[0m\u001b[0mload_context\u001b[0m\u001b[1;33m(\u001b[0m\u001b[1;33m)\u001b[0m\u001b[1;33m\u001b[0m\u001b[1;33m\u001b[0m\u001b[0m\n\u001b[0;32m    222\u001b[0m \u001b[1;33m\u001b[0m\u001b[0m\n\u001b[1;32m--> 223\u001b[1;33m         conf_logging = context.config_loader.get(\n\u001b[0m\u001b[0;32m    224\u001b[0m             \u001b[1;34m\"logging*\"\u001b[0m\u001b[1;33m,\u001b[0m \u001b[1;34m\"logging*/**\"\u001b[0m\u001b[1;33m,\u001b[0m \u001b[1;34m\"**/logging*\"\u001b[0m\u001b[1;33m\u001b[0m\u001b[1;33m\u001b[0m\u001b[0m\n\u001b[0;32m    225\u001b[0m         )\n",
      "\u001b[1;32mc:\\users\\anle\\anaconda3\\envs\\demo_kedro_mlflow\\lib\\site-packages\\kedro\\framework\\context\\context.py\u001b[0m in \u001b[0;36mconfig_loader\u001b[1;34m(self)\u001b[0m\n\u001b[0;32m    456\u001b[0m \u001b[1;33m\u001b[0m\u001b[0m\n\u001b[0;32m    457\u001b[0m         \"\"\"\n\u001b[1;32m--> 458\u001b[1;33m         \u001b[1;32mreturn\u001b[0m \u001b[0mself\u001b[0m\u001b[1;33m.\u001b[0m\u001b[0m_get_config_loader\u001b[0m\u001b[1;33m(\u001b[0m\u001b[1;33m)\u001b[0m\u001b[1;33m\u001b[0m\u001b[1;33m\u001b[0m\u001b[0m\n\u001b[0m\u001b[0;32m    459\u001b[0m \u001b[1;33m\u001b[0m\u001b[0m\n\u001b[0;32m    460\u001b[0m     \u001b[1;32mdef\u001b[0m \u001b[0m_get_feed_dict\u001b[0m\u001b[1;33m(\u001b[0m\u001b[0mself\u001b[0m\u001b[1;33m)\u001b[0m \u001b[1;33m->\u001b[0m \u001b[0mDict\u001b[0m\u001b[1;33m[\u001b[0m\u001b[0mstr\u001b[0m\u001b[1;33m,\u001b[0m \u001b[0mAny\u001b[0m\u001b[1;33m]\u001b[0m\u001b[1;33m:\u001b[0m\u001b[1;33m\u001b[0m\u001b[1;33m\u001b[0m\u001b[0m\n",
      "\u001b[1;32mc:\\users\\anle\\anaconda3\\envs\\demo_kedro_mlflow\\lib\\site-packages\\kedro\\framework\\context\\context.py\u001b[0m in \u001b[0;36m_get_config_loader\u001b[1;34m(self)\u001b[0m\n\u001b[0;32m    440\u001b[0m         \u001b[1;32mif\u001b[0m \u001b[1;32mnot\u001b[0m \u001b[0misinstance\u001b[0m\u001b[1;33m(\u001b[0m\u001b[0mconfig_loader\u001b[0m\u001b[1;33m,\u001b[0m \u001b[0mConfigLoader\u001b[0m\u001b[1;33m)\u001b[0m\u001b[1;33m:\u001b[0m\u001b[1;33m\u001b[0m\u001b[1;33m\u001b[0m\u001b[0m\n\u001b[0;32m    441\u001b[0m             raise KedroContextError(\n\u001b[1;32m--> 442\u001b[1;33m                 \u001b[1;34mf\"Expected an instance of `ConfigLoader`, \"\u001b[0m\u001b[1;33m\u001b[0m\u001b[1;33m\u001b[0m\u001b[0m\n\u001b[0m\u001b[0;32m    443\u001b[0m                 \u001b[1;34mf\"got `{type(config_loader).__name__}` instead.\"\u001b[0m\u001b[1;33m\u001b[0m\u001b[1;33m\u001b[0m\u001b[0m\n\u001b[0;32m    444\u001b[0m             )\n",
      "\u001b[1;31mKedroContextError\u001b[0m: Expected an instance of `ConfigLoader`, got `NoneType` instead."
     ]
    }
   ],
   "source": [
    "from kedro.framework.session import KedroSession\n",
    "\n",
    "with KedroSession.create(project_path='C://Users//anle//Desktop//demo_kedro_mlflow', env='base') as session:\n",
    "    session.run()"
   ]
  },
  {
   "cell_type": "markdown",
   "id": "79d5870b",
   "metadata": {},
   "source": [
    "## 2. Serving models with Azure ML"
   ]
  },
  {
   "cell_type": "code",
   "execution_count": 1,
   "id": "a03d2bfc",
   "metadata": {},
   "outputs": [
    {
     "name": "stderr",
     "output_type": "stream",
     "text": [
      "c:\\users\\anle\\anaconda3\\envs\\demo_kedro_mlflow\\lib\\site-packages\\azureml\\data\\dataset_type_definitions.py:69: DeprecationWarning: FileType Enum is Deprecated in > 1.0.39. Use strings instead.\n",
      "  category=DeprecationWarning)\n"
     ]
    }
   ],
   "source": [
    "import azureml\n",
    "from azureml.core import Workspace"
   ]
  },
  {
   "cell_type": "markdown",
   "id": "43663b5f",
   "metadata": {},
   "source": [
    "### Create or load an Azure ML Workspace"
   ]
  },
  {
   "cell_type": "code",
   "execution_count": 7,
   "id": "16234c70",
   "metadata": {},
   "outputs": [
    {
     "name": "stdout",
     "output_type": "stream",
     "text": [
      "Performing interactive authentication. Please follow the instructions on the terminal.\n",
      "2021-07-07 10:39:11,394 - azureml._vendor.azure_cli_core._profile - INFO - Open browser with url: https://login.microsoftonline.com/1aa51068-11a6-4bd2-8646-1fff31a30ffc/oauth2/authorize?response_type=code&client_id=04b07795-8ddb-461a-bbee-02f9e1bf7b46&redirect_uri=http://localhost:8400&state=code&resource=https://management.core.windows.net/&prompt=select_account\n",
      "2021-07-07 10:39:11,497 - azureml._vendor.azure_cli_core._profile - WARNING - Note, we have launched a browser for you to login. For old experience with device code, use \"az login --use-device-code\"\n",
      "2021-07-07 10:39:15,391 - adal-python - INFO - a55d37df-c178-4ccc-b4ac-93899cfa437d - TokenRequest:Getting token with auth code.\n",
      "You have logged in. Now let us find all the subscriptions to which you have access...\n",
      "Interactive authentication successfully completed.\n"
     ]
    }
   ],
   "source": [
    "from azureml.core.authentication import InteractiveLoginAuthentication\n",
    "forced_interactive_auth = InteractiveLoginAuthentication(tenant_id=\"1aa51068-11a6-4bd2-8646-1fff31a30ffc\", force=True)\n",
    "\n",
    "ws = Workspace(subscription_id=\"2f71beb8-0da7-42ec-9bb7-678bf7867567\",\n",
    "               resource_group=\"edadevarmrgp010\",\n",
    "               workspace_name=\"eaadevarmmlnuw2002\",\n",
    "               auth=forced_interactive_auth)\n",
    "#ws = Workspace.from_config()"
   ]
  },
  {
   "cell_type": "markdown",
   "id": "c5f5dc5f",
   "metadata": {},
   "source": [
    "### MLflow "
   ]
  },
  {
   "cell_type": "code",
   "execution_count": 15,
   "id": "aeb8c6d3",
   "metadata": {},
   "outputs": [],
   "source": [
    "import mlflow\n",
    "\n",
    "mlflow.set_tracking_uri('databricks://STEEPBANK')\n",
    "mlflow.set_experiment('/Users/anle@suncor.com/MLflow_experiment/iris')\n",
    "\n",
    "run_id = '4a0e18c58fc444df8f657c8b587b5fbd'\n",
    "model_uri = \"runs:/\" + run_id + \"/model\"\n",
    "model = mlflow.sklearn.load_model(model_uri)"
   ]
  },
  {
   "cell_type": "markdown",
   "id": "00e820b5",
   "metadata": {},
   "source": [
    "### Use MLflow to build a Container Image for the trained model"
   ]
  },
  {
   "cell_type": "code",
   "execution_count": 17,
   "id": "dd6d367a",
   "metadata": {},
   "outputs": [
    {
     "name": "stdout",
     "output_type": "stream",
     "text": [
      "2021-07-07 10:56:51,902 - azureml._restclient.clientbase - INFO - Created a worker pool for first use\n"
     ]
    },
    {
     "name": "stderr",
     "output_type": "stream",
     "text": [
      "c:\\users\\anle\\anaconda3\\envs\\demo_kedro_mlflow\\lib\\site-packages\\urllib3\\util\\retry.py:440: DeprecationWarning: Using 'method_whitelist' with Retry is deprecated and will be removed in v2.0. Use 'allowed_methods' instead\n",
      "  DeprecationWarning,\n"
     ]
    },
    {
     "name": "stdout",
     "output_type": "stream",
     "text": [
      "Registering model model\n"
     ]
    },
    {
     "name": "stderr",
     "output_type": "stream",
     "text": [
      "2021/07/07 10:56:55 INFO mlflow.azureml: Registered an Azure Model with name: `model` and version: `1`\n",
      "c:\\users\\anle\\anaconda3\\envs\\demo_kedro_mlflow\\lib\\site-packages\\mlflow\\azureml\\__init__.py:224: DeprecationWarning: ContainerImage class has been deprecated and will be removed in a future release. Please migrate to using Environments. https://docs.microsoft.com/en-us/azure/machine-learning/how-to-use-environments\n",
      "  tags=tags,\n",
      "c:\\users\\anle\\anaconda3\\envs\\demo_kedro_mlflow\\lib\\site-packages\\azureml\\core\\image\\container.py:161: DeprecationWarning: ContainerImageConfig class has been deprecated and will be removed in a future release. Please migrate to using Environments. https://docs.microsoft.com/en-us/azure/machine-learning/how-to-use-environments\n",
      "  base_image, base_image_registry, cuda_version=cuda_version)\n",
      "c:\\users\\anle\\anaconda3\\envs\\demo_kedro_mlflow\\lib\\site-packages\\mlflow\\azureml\\__init__.py:230: DeprecationWarning: Image class has been deprecated and will be removed in a future release. Please migrate to using Environments. https://docs.microsoft.com/en-us/azure/machine-learning/how-to-use-environments\n",
      "  models=[registered_model],\n"
     ]
    },
    {
     "name": "stdout",
     "output_type": "stream",
     "text": [
      "Creating image\n"
     ]
    },
    {
     "name": "stderr",
     "output_type": "stream",
     "text": [
      "c:\\users\\anle\\anaconda3\\envs\\demo_kedro_mlflow\\lib\\site-packages\\azureml\\core\\image\\image.py:407: DeprecationWarning: Image class has been deprecated and will be removed in a future release. Please migrate to using Environments. https://docs.microsoft.com/en-us/azure/machine-learning/how-to-use-environments\n",
      "  image = Image(workspace, id=image_id)\n",
      "2021/07/07 10:57:02 INFO mlflow.azureml: Building an Azure Container Image with name: `model` and version: `1`\n"
     ]
    }
   ],
   "source": [
    "import mlflow.azureml\n",
    " \n",
    "model_image, azure_model = mlflow.azureml.build_image(model_uri=model_uri, \n",
    "                                                      workspace=ws,\n",
    "                                                      model_name=\"model\",\n",
    "                                                      image_name=\"model\",\n",
    "                                                      description=\"SKLEARN random forest for iris model\",\n",
    "                                                      synchronous=False)"
   ]
  },
  {
   "cell_type": "code",
   "execution_count": 21,
   "id": "e010b89c",
   "metadata": {},
   "outputs": [
    {
     "name": "stdout",
     "output_type": "stream",
     "text": [
      "Succeeded\n"
     ]
    },
    {
     "name": "stderr",
     "output_type": "stream",
     "text": [
      "c:\\users\\anle\\anaconda3\\envs\\demo_kedro_mlflow\\lib\\site-packages\\azureml\\core\\image\\image.py:507: DeprecationWarning: Image class has been deprecated and will be removed in a future release. Please migrate to using Environments. https://docs.microsoft.com/en-us/azure/machine-learning/how-to-use-environments\n",
      "  image = Image(self.workspace, id=self.id)\n"
     ]
    },
    {
     "name": "stdout",
     "output_type": "stream",
     "text": [
      "Image creation operation finished for image model:1, operation \"Succeeded\"\n"
     ]
    }
   ],
   "source": [
    "model_image.wait_for_creation(show_output=True)"
   ]
  },
  {
   "cell_type": "markdown",
   "id": "2a97611d",
   "metadata": {},
   "source": [
    "### Deploy the model to \"dev\" using Azure Container Instances (ACI)\n",
    "The ACI platform is the recommended environment for staging and developmental model deployments.\n",
    "\n",
    "Create an ACI webservice deployment using the model's Container Image"
   ]
  },
  {
   "cell_type": "code",
   "execution_count": 22,
   "id": "5574807a",
   "metadata": {},
   "outputs": [
    {
     "name": "stderr",
     "output_type": "stream",
     "text": [
      "c:\\users\\anle\\anaconda3\\envs\\demo_kedro_mlflow\\lib\\site-packages\\ipykernel_launcher.py:5: DeprecationWarning: deploy_from_image has been deprecated and will be removed in a future release. Please migrate to using Environments. https://docs.microsoft.com/en-us/azure/machine-learning/how-to-use-environments\n",
      "  \"\"\"\n",
      "c:\\users\\anle\\anaconda3\\envs\\demo_kedro_mlflow\\lib\\site-packages\\azureml\\core\\image\\image.py:821: DeprecationWarning: Image class has been deprecated and will be removed in a future release. Please migrate to using Environments. https://docs.microsoft.com/en-us/azure/machine-learning/how-to-use-environments\n",
      "  image = cls(None)\n"
     ]
    }
   ],
   "source": [
    "from azureml.core.webservice import AciWebservice, Webservice\n",
    " \n",
    "dev_webservice_name = \"iris-model\"\n",
    "dev_webservice_deployment_config = AciWebservice.deploy_configuration()\n",
    "dev_webservice = Webservice.deploy_from_image(name=dev_webservice_name, image=model_image, deployment_config=dev_webservice_deployment_config, workspace=ws)"
   ]
  },
  {
   "cell_type": "code",
   "execution_count": 23,
   "id": "28937a7b",
   "metadata": {},
   "outputs": [
    {
     "name": "stdout",
     "output_type": "stream",
     "text": [
      "ACI service creation operation finished, operation \"Succeeded\"\n"
     ]
    }
   ],
   "source": [
    "dev_webservice.wait_for_deployment()"
   ]
  },
  {
   "cell_type": "code",
   "execution_count": null,
   "id": "ff9c3651",
   "metadata": {},
   "outputs": [],
   "source": []
  },
  {
   "cell_type": "code",
   "execution_count": null,
   "id": "404be92d",
   "metadata": {},
   "outputs": [],
   "source": []
  },
  {
   "cell_type": "code",
   "execution_count": null,
   "id": "8d431947",
   "metadata": {},
   "outputs": [],
   "source": []
  },
  {
   "cell_type": "code",
   "execution_count": null,
   "id": "6e7f799d",
   "metadata": {},
   "outputs": [],
   "source": []
  },
  {
   "cell_type": "code",
   "execution_count": null,
   "id": "63e7d9b2",
   "metadata": {},
   "outputs": [],
   "source": []
  },
  {
   "cell_type": "code",
   "execution_count": null,
   "id": "e0cc5007",
   "metadata": {},
   "outputs": [],
   "source": []
  },
  {
   "cell_type": "code",
   "execution_count": 2,
   "id": "674df523",
   "metadata": {},
   "outputs": [
    {
     "ename": "RuntimeError",
     "evalue": "There is no active Kedro session.",
     "output_type": "error",
     "traceback": [
      "\u001b[1;31m---------------------------------------------------------------------------\u001b[0m",
      "\u001b[1;31mRuntimeError\u001b[0m                              Traceback (most recent call last)",
      "\u001b[1;32m<ipython-input-2-345c8d0d43c3>\u001b[0m in \u001b[0;36m<module>\u001b[1;34m\u001b[0m\n\u001b[0;32m      1\u001b[0m \u001b[1;32mfrom\u001b[0m \u001b[0mkedro\u001b[0m\u001b[1;33m.\u001b[0m\u001b[0mframework\u001b[0m\u001b[1;33m.\u001b[0m\u001b[0msession\u001b[0m \u001b[1;32mimport\u001b[0m \u001b[0mget_current_session\u001b[0m\u001b[1;33m\u001b[0m\u001b[1;33m\u001b[0m\u001b[0m\n\u001b[0;32m      2\u001b[0m \u001b[1;33m\u001b[0m\u001b[0m\n\u001b[1;32m----> 3\u001b[1;33m \u001b[0msession\u001b[0m \u001b[1;33m=\u001b[0m \u001b[0mget_current_session\u001b[0m\u001b[1;33m(\u001b[0m\u001b[1;33m)\u001b[0m\u001b[1;33m\u001b[0m\u001b[1;33m\u001b[0m\u001b[0m\n\u001b[0m",
      "\u001b[1;32mc:\\users\\anle\\anaconda3\\envs\\demo_kedro_mlflow\\lib\\site-packages\\kedro\\framework\\session\\session.py\u001b[0m in \u001b[0;36mget_current_session\u001b[1;34m(silent)\u001b[0m\n\u001b[0;32m     69\u001b[0m     \"\"\"\n\u001b[0;32m     70\u001b[0m     \u001b[1;32mif\u001b[0m \u001b[1;32mnot\u001b[0m \u001b[0m_active_session\u001b[0m \u001b[1;32mand\u001b[0m \u001b[1;32mnot\u001b[0m \u001b[0msilent\u001b[0m\u001b[1;33m:\u001b[0m\u001b[1;33m\u001b[0m\u001b[1;33m\u001b[0m\u001b[0m\n\u001b[1;32m---> 71\u001b[1;33m         \u001b[1;32mraise\u001b[0m \u001b[0mRuntimeError\u001b[0m\u001b[1;33m(\u001b[0m\u001b[1;34m\"There is no active Kedro session.\"\u001b[0m\u001b[1;33m)\u001b[0m\u001b[1;33m\u001b[0m\u001b[1;33m\u001b[0m\u001b[0m\n\u001b[0m\u001b[0;32m     72\u001b[0m \u001b[1;33m\u001b[0m\u001b[0m\n\u001b[0;32m     73\u001b[0m     \u001b[1;32mreturn\u001b[0m \u001b[0m_active_session\u001b[0m\u001b[1;33m\u001b[0m\u001b[1;33m\u001b[0m\u001b[0m\n",
      "\u001b[1;31mRuntimeError\u001b[0m: There is no active Kedro session."
     ]
    }
   ],
   "source": [
    "from kedro.framework.session import get_current_session\n",
    "\n",
    "session = get_current_session()"
   ]
  },
  {
   "cell_type": "code",
   "execution_count": 5,
   "id": "53b50898",
   "metadata": {},
   "outputs": [
    {
     "name": "stdout",
     "output_type": "stream",
     "text": [
      "2021-07-08 20:36:35,704 - kedro.framework.session.store - INFO - `save()` not implemented for `BaseSessionStore`. Skipping the step.\n"
     ]
    }
   ],
   "source": [
    "session.close()"
   ]
  },
  {
   "cell_type": "code",
   "execution_count": null,
   "id": "2335cb33",
   "metadata": {},
   "outputs": [],
   "source": []
  }
 ],
 "metadata": {
  "kernelspec": {
   "display_name": "Python 3",
   "language": "python",
   "name": "python3"
  },
  "language_info": {
   "codemirror_mode": {
    "name": "ipython",
    "version": 3
   },
   "file_extension": ".py",
   "mimetype": "text/x-python",
   "name": "python",
   "nbconvert_exporter": "python",
   "pygments_lexer": "ipython3",
   "version": "3.7.10"
  }
 },
 "nbformat": 4,
 "nbformat_minor": 5
}
