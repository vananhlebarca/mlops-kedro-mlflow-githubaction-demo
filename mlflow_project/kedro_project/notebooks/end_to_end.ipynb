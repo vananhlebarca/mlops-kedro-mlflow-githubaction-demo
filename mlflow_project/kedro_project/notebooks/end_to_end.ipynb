{
 "cells": [
  {
   "cell_type": "markdown",
   "source": [
    "# Run pipelines"
   ],
   "metadata": {}
  },
  {
   "cell_type": "code",
   "execution_count": 7,
   "source": [
    "from kedro.framework.startup import _add_src_to_path\r\n",
    "from pathlib import Path\r\n",
    "\r\n",
    "_add_src_to_path(source_dir=Path('C:/Users/anle/Desktop/journal_club/demo_kedro_mlflow/src'), \r\n",
    "                 project_path=Path('C:/Users/anle/Desktop/journal_club/demo_kedro_mlflow'))"
   ],
   "outputs": [],
   "metadata": {}
  },
  {
   "cell_type": "code",
   "execution_count": 9,
   "source": [
    "dir(session)"
   ],
   "outputs": [
    {
     "output_type": "execute_result",
     "data": {
      "text/plain": [
       "['__class__',\n",
       " '__delattr__',\n",
       " '__dict__',\n",
       " '__dir__',\n",
       " '__doc__',\n",
       " '__enter__',\n",
       " '__eq__',\n",
       " '__exit__',\n",
       " '__format__',\n",
       " '__ge__',\n",
       " '__getattribute__',\n",
       " '__gt__',\n",
       " '__hash__',\n",
       " '__init__',\n",
       " '__init_subclass__',\n",
       " '__le__',\n",
       " '__lt__',\n",
       " '__module__',\n",
       " '__ne__',\n",
       " '__new__',\n",
       " '__reduce__',\n",
       " '__reduce_ex__',\n",
       " '__repr__',\n",
       " '__setattr__',\n",
       " '__sizeof__',\n",
       " '__str__',\n",
       " '__subclasshook__',\n",
       " '__weakref__',\n",
       " '_get_logging_config',\n",
       " '_init_store',\n",
       " '_log_exception',\n",
       " '_package_name',\n",
       " '_project_path',\n",
       " '_setup_logging',\n",
       " '_store',\n",
       " 'close',\n",
       " 'create',\n",
       " 'load_context',\n",
       " 'run',\n",
       " 'save_on_close',\n",
       " 'session_id',\n",
       " 'store']"
      ]
     },
     "metadata": {},
     "execution_count": 9
    }
   ],
   "metadata": {}
  },
  {
   "cell_type": "code",
   "execution_count": 8,
   "source": [
    "from kedro.framework.session import KedroSession\r\n",
    "\r\n",
    "session = KedroSession.create('leads', project_path='C:/Users/anle/Desktop/journal_club/demo_kedro_mlflow', env='base')\r\n",
    "project_context = session.load_context() \r\n",
    "\r\n",
    "# --------run  pipeline------------\r\n",
    "#project_context.run(pipeline_name=\"de\")\r\n",
    "\r\n",
    "project_context.run()"
   ],
   "outputs": [
    {
     "output_type": "stream",
     "name": "stderr",
     "text": [
      "C:\\Users\\anle\\Anaconda3\\envs\\demo_kedro_mlflow\\lib\\site-packages\\kedro\\config\\config.py:324: UserWarning: Duplicate environment detected! Skipping re-loading from configuration path: C:\\Users\\anle\\Desktop\\journal_club\\demo_kedro_mlflow\\conf\\base\n",
      "  f\"Duplicate environment detected! \"\n",
      "C:\\Users\\anle\\Anaconda3\\envs\\demo_kedro_mlflow\\lib\\site-packages\\kedro\\framework\\context\\context.py:595: DeprecationWarning: `kedro.framework.context.KedroContext.run` is now deprecated in favour of `KedroSession.run` and will be removed in Kedro 0.18.0.\n",
      "  DeprecationWarning,\n"
     ]
    },
    {
     "output_type": "stream",
     "name": "stdout",
     "text": [
      "2021-07-09 17:12:22,075 - root - INFO - ** Kedro project demo_kedro_mlflow\n"
     ]
    },
    {
     "output_type": "stream",
     "name": "stderr",
     "text": [
      "C:\\Users\\anle\\Anaconda3\\envs\\demo_kedro_mlflow\\lib\\site-packages\\azureml\\data\\dataset_type_definitions.py:69: DeprecationWarning: FileType Enum is Deprecated in > 1.0.39. Use strings instead.\n",
      "  category=DeprecationWarning)\n",
      "C:\\Users\\anle\\Anaconda3\\envs\\demo_kedro_mlflow\\lib\\site-packages\\pkg_resources\\__init__.py:1131: DeprecationWarning: Use of .. or absolute path in a resource path is not allowed and will raise exceptions in a future release.\n",
      "  self, resource_name\n",
      "C:\\Users\\anle\\Anaconda3\\envs\\demo_kedro_mlflow\\lib\\site-packages\\mlflow\\types\\schema.py:49: DeprecationWarning: `np.object` is a deprecated alias for the builtin `object`. To silence this warning, use `object` by itself. Doing this will not modify any behavior and is safe. \n",
      "Deprecated in NumPy 1.20; for more details and guidance: https://numpy.org/devdocs/release/1.20.0-notes.html#deprecations\n",
      "  binary = (7, np.dtype(\"bytes\"), \"BinaryType\", np.object)\n",
      "C:\\Users\\anle\\Anaconda3\\envs\\demo_kedro_mlflow\\lib\\site-packages\\kedro\\versioning\\journal.py:58: DeprecationWarning: `Journal` is now deprecated and will be removed in Kedro 0.18.0.For more information, please visit https://github.com/quantumblacklabs/kedro/blob/master/RELEASE.md\n",
      "  DeprecationWarning,\n"
     ]
    },
    {
     "output_type": "stream",
     "name": "stdout",
     "text": [
      "2021-07-09 17:12:37,438 - kedro.versioning.journal - WARNING - Unable to git describe C:\\Users\\anle\\Desktop\\journal_club\\demo_kedro_mlflow\n"
     ]
    },
    {
     "output_type": "stream",
     "name": "stderr",
     "text": [
      "C:\\Users\\anle\\Anaconda3\\envs\\demo_kedro_mlflow\\lib\\site-packages\\kedro\\config\\config.py:324: UserWarning: Duplicate environment detected! Skipping re-loading from configuration path: C:\\Users\\anle\\Desktop\\journal_club\\demo_kedro_mlflow\\conf\\base\n",
      "  f\"Duplicate environment detected! \"\n",
      "C:\\Users\\anle\\Anaconda3\\envs\\demo_kedro_mlflow\\lib\\site-packages\\kedro\\framework\\context\\context.py:497: UserWarning: Credentials not found in your Kedro project config.\n",
      "No files found in ['C:\\\\Users\\\\anle\\\\Desktop\\\\journal_club\\\\demo_kedro_mlflow\\\\conf\\\\base'] matching the glob pattern(s): ['credentials*', 'credentials*/**', '**/credentials*']\n",
      "  warn(f\"Credentials not found in your Kedro project config.\\n{str(exc)}\")\n",
      "C:\\Users\\anle\\Anaconda3\\envs\\demo_kedro_mlflow\\lib\\site-packages\\fsspec\\__init__.py:43: DeprecationWarning: SelectableGroups dict interface is deprecated. Use select.\n",
      "  for spec in entry_points.get(\"fsspec.specs\", []):\n"
     ]
    },
    {
     "output_type": "stream",
     "name": "stdout",
     "text": [
      "2021-07-09 17:12:38,358 - kedro.io.data_catalog - INFO - Loading data from `leads_dataset` (CSVDataSet)...\n",
      "2021-07-09 17:12:38,500 - kedro.io.data_catalog - INFO - Loading data from `params:leads_categorical_columns` (MemoryDataSet)...\n",
      "2021-07-09 17:12:38,502 - kedro.pipeline.node - INFO - Running node: lower_columns: lower_columns([leads_dataset,params:leads_categorical_columns]) -> [leads_dataset_clean]\n"
     ]
    },
    {
     "output_type": "stream",
     "name": "stderr",
     "text": [
      "C:\\Users\\anle\\Anaconda3\\envs\\demo_kedro_mlflow\\lib\\site-packages\\kedro\\config\\config.py:324: UserWarning: Duplicate environment detected! Skipping re-loading from configuration path: C:\\Users\\anle\\Desktop\\journal_club\\demo_kedro_mlflow\\conf\\base\n",
      "  f\"Duplicate environment detected! \"\n"
     ]
    },
    {
     "output_type": "stream",
     "name": "stdout",
     "text": [
      "2021-07-09 17:12:38,590 - kedro.io.data_catalog - INFO - Saving data to `leads_dataset_clean` (CSVDataSet)...\n",
      "2021-07-09 17:12:39,044 - kedro.runner.sequential_runner - INFO - Completed 1 out of 10 tasks\n",
      "2021-07-09 17:12:39,052 - kedro.io.data_catalog - INFO - Loading data from `leads_dataset_clean` (CSVDataSet)...\n",
      "2021-07-09 17:12:39,260 - kedro.io.data_catalog - INFO - Loading data from `params:leads_response_columns` (MemoryDataSet)...\n",
      "2021-07-09 17:12:39,263 - kedro.io.data_catalog - INFO - Loading data from `params:split_ratio` (MemoryDataSet)...\n",
      "2021-07-09 17:12:39,266 - kedro.pipeline.node - INFO - Running node: split_data: split_data([leads_dataset_clean,params:leads_response_columns,params:split_ratio]) -> [test_x,test_y,train_x,train_y]\n",
      "2021-07-09 17:12:39,296 - kedro.io.data_catalog - INFO - Saving data to `train_x` (CSVDataSet)...\n",
      "2021-07-09 17:12:39,587 - kedro.io.data_catalog - INFO - Saving data to `train_y` (CSVDataSet)...\n",
      "2021-07-09 17:12:39,638 - kedro.io.data_catalog - INFO - Saving data to `test_x` (CSVDataSet)...\n",
      "2021-07-09 17:12:39,787 - kedro.io.data_catalog - INFO - Saving data to `test_y` (CSVDataSet)...\n",
      "2021-07-09 17:12:39,822 - kedro.runner.sequential_runner - INFO - Completed 2 out of 10 tasks\n",
      "2021-07-09 17:12:39,825 - kedro.io.data_catalog - INFO - Loading data from `leads_dataset_clean` (CSVDataSet)...\n",
      "2021-07-09 17:12:40,024 - kedro.io.data_catalog - INFO - Loading data from `params:leads_categorical_columns` (MemoryDataSet)...\n",
      "2021-07-09 17:12:40,027 - kedro.pipeline.node - INFO - Running node: onehotencoder_fit: onehotencoder_fit([leads_dataset_clean,params:leads_categorical_columns]) -> [onehotencoder]\n",
      "2021-07-09 17:12:40,049 - kedro.io.data_catalog - INFO - Saving data to `onehotencoder` (PickleDataSet)...\n",
      "2021-07-09 17:12:40,096 - kedro.runner.sequential_runner - INFO - Completed 3 out of 10 tasks\n",
      "2021-07-09 17:12:40,103 - kedro.io.data_catalog - INFO - Loading data from `train_x` (CSVDataSet)...\n",
      "2021-07-09 17:12:40,304 - kedro.io.data_catalog - INFO - Loading data from `params:leads_numeric_columns` (MemoryDataSet)...\n",
      "2021-07-09 17:12:40,306 - kedro.pipeline.node - INFO - Running node: scaler_fit: scaler_fit([params:leads_numeric_columns,train_x]) -> [scaler]\n",
      "2021-07-09 17:12:40,323 - kedro.io.data_catalog - INFO - Saving data to `scaler` (PickleDataSet)...\n",
      "2021-07-09 17:12:40,333 - kedro.runner.sequential_runner - INFO - Completed 4 out of 10 tasks\n",
      "2021-07-09 17:12:40,335 - kedro.io.data_catalog - INFO - Loading data from `onehotencoder` (PickleDataSet)...\n",
      "2021-07-09 17:12:40,340 - kedro.io.data_catalog - INFO - Loading data from `scaler` (PickleDataSet)...\n",
      "2021-07-09 17:12:40,346 - kedro.io.data_catalog - INFO - Loading data from `test_x` (CSVDataSet)...\n",
      "2021-07-09 17:12:40,431 - kedro.io.data_catalog - INFO - Loading data from `params:leads_numeric_columns` (MemoryDataSet)...\n",
      "2021-07-09 17:12:40,438 - kedro.io.data_catalog - INFO - Loading data from `params:leads_categorical_columns` (MemoryDataSet)...\n",
      "2021-07-09 17:12:40,441 - kedro.pipeline.node - INFO - Running node: process_test_set: pre_process_leads_data([onehotencoder,params:leads_categorical_columns,params:leads_numeric_columns,scaler,test_x]) -> [test_x_clean]\n",
      "2021-07-09 17:12:40,507 - kedro.io.data_catalog - INFO - Saving data to `test_x_clean` (CSVDataSet)...\n",
      "2021-07-09 17:12:40,974 - kedro.runner.sequential_runner - INFO - Completed 5 out of 10 tasks\n",
      "2021-07-09 17:12:40,977 - kedro.io.data_catalog - INFO - Loading data from `onehotencoder` (PickleDataSet)...\n",
      "2021-07-09 17:12:40,986 - kedro.io.data_catalog - INFO - Loading data from `scaler` (PickleDataSet)...\n",
      "2021-07-09 17:12:40,991 - kedro.io.data_catalog - INFO - Loading data from `train_x` (CSVDataSet)...\n",
      "2021-07-09 17:12:41,121 - kedro.io.data_catalog - INFO - Loading data from `params:leads_numeric_columns` (MemoryDataSet)...\n",
      "2021-07-09 17:12:41,123 - kedro.io.data_catalog - INFO - Loading data from `params:leads_categorical_columns` (MemoryDataSet)...\n",
      "2021-07-09 17:12:41,126 - kedro.pipeline.node - INFO - Running node: process_train_set: pre_process_leads_data([onehotencoder,params:leads_categorical_columns,params:leads_numeric_columns,scaler,train_x]) -> [train_x_clean]\n",
      "2021-07-09 17:12:41,204 - kedro.io.data_catalog - INFO - Saving data to `train_x_clean` (CSVDataSet)...\n",
      "2021-07-09 17:12:42,113 - kedro.runner.sequential_runner - INFO - Completed 6 out of 10 tasks\n",
      "2021-07-09 17:12:42,115 - kedro.io.data_catalog - INFO - Loading data from `train_x_clean` (CSVDataSet)...\n",
      "2021-07-09 17:12:42,356 - kedro.io.data_catalog - INFO - Loading data from `train_y` (CSVDataSet)...\n",
      "2021-07-09 17:12:42,367 - kedro.io.data_catalog - INFO - Loading data from `parameters` (MemoryDataSet)...\n",
      "2021-07-09 17:12:42,370 - kedro.pipeline.node - INFO - Running node: train_rf: train_model_rf([parameters,train_x_clean,train_y]) -> [rf_model]\n"
     ]
    },
    {
     "output_type": "stream",
     "name": "stderr",
     "text": [
      "C:\\Users\\anle\\Desktop\\journal_club\\demo_kedro_mlflow\\src\\leads\\pipelines\\data_science\\nodes.py:55: DataConversionWarning: A column-vector y was passed when a 1d array was expected. Please change the shape of y to (n_samples,), for example using ravel().\n",
      "  model.fit(x, y)\n"
     ]
    },
    {
     "output_type": "stream",
     "name": "stdout",
     "text": [
      "2021-07-09 17:12:42,571 - kedro.io.data_catalog - INFO - Saving data to `rf_model` (PickleDataSet)...\n",
      "2021-07-09 17:12:42,593 - kedro.runner.sequential_runner - INFO - Completed 7 out of 10 tasks\n",
      "2021-07-09 17:12:42,597 - kedro.io.data_catalog - INFO - Loading data from `rf_model` (PickleDataSet)...\n",
      "2021-07-09 17:12:42,602 - kedro.io.data_catalog - INFO - Loading data from `test_x_clean` (CSVDataSet)...\n",
      "2021-07-09 17:12:42,703 - kedro.io.data_catalog - INFO - Loading data from `test_y` (CSVDataSet)...\n",
      "2021-07-09 17:12:42,715 - kedro.io.data_catalog - INFO - Loading data from `parameters` (MemoryDataSet)...\n",
      "2021-07-09 17:12:42,717 - kedro.io.data_catalog - INFO - Loading data from `params:mlflow_aml` (MemoryDataSet)...\n",
      "2021-07-09 17:12:42,720 - kedro.pipeline.node - INFO - Running node: mlflow_tracker_aml: mlflow_metrics_tracking_aml([parameters,params:mlflow_aml,rf_model,test_x_clean,test_y]) -> None\n",
      "2021-07-09 17:12:43,761 - adal-python - INFO - 5ff56e86-3d27-463d-8770-378312d1b68c - CacheDriver:Cached token is expired at 2021-07-09 16:28:43.580111.  Refreshing\n",
      "2021-07-09 17:12:43,763 - adal-python - INFO - 5ff56e86-3d27-463d-8770-378312d1b68c - TokenRequest:Getting a new token from a refresh token\n",
      "2021-07-09 17:12:44,533 - adal-python - INFO - 5ff56e86-3d27-463d-8770-378312d1b68c - CacheDriver:Returning token refreshed after expiry.\n",
      "2021-07-09 17:12:44,954 - azureml._restclient.clientbase - INFO - Created a worker pool for first use\n"
     ]
    },
    {
     "output_type": "stream",
     "name": "stderr",
     "text": [
      "C:\\Users\\anle\\Anaconda3\\envs\\demo_kedro_mlflow\\lib\\site-packages\\urllib3\\util\\retry.py:440: DeprecationWarning: Using 'method_whitelist' with Retry is deprecated and will be removed in v2.0. Use 'allowed_methods' instead\n",
      "  DeprecationWarning,\n"
     ]
    },
    {
     "output_type": "stream",
     "name": "stdout",
     "text": [
      "2021-07-09 17:12:46,497 - root - INFO - This experiment does exit! Continue set experiment and track!\n",
      "2021-07-09 17:12:49,887 - azureml.mlflow._internal.utils - INFO - Parsing artifact uri azureml://experiments/leads/runs/a87eb829-87b8-48b6-bb73-70e5e4e5034f/artifacts\n",
      "2021-07-09 17:12:49,891 - azureml.mlflow._internal.utils - INFO - Artifact uri azureml://experiments/leads/runs/a87eb829-87b8-48b6-bb73-70e5e4e5034f/artifacts info: {'experiment': 'leads', 'runid': 'a87eb829-87b8-48b6-bb73-70e5e4e5034f'}\n"
     ]
    },
    {
     "output_type": "stream",
     "name": "stderr",
     "text": [
      "C:\\Users\\anle\\Anaconda3\\envs\\demo_kedro_mlflow\\lib\\site-packages\\urllib3\\util\\retry.py:440: DeprecationWarning: Using 'method_whitelist' with Retry is deprecated and will be removed in v2.0. Use 'allowed_methods' instead\n",
      "  DeprecationWarning,\n"
     ]
    },
    {
     "output_type": "stream",
     "name": "stdout",
     "text": [
      "2021-07-09 17:12:53,186 - kedro.runner.sequential_runner - INFO - Completed 8 out of 10 tasks\n",
      "2021-07-09 17:12:53,189 - kedro.io.data_catalog - INFO - Loading data from `rf_model` (PickleDataSet)...\n",
      "2021-07-09 17:12:53,195 - kedro.io.data_catalog - INFO - Loading data from `test_x_clean` (CSVDataSet)...\n",
      "2021-07-09 17:12:53,306 - kedro.io.data_catalog - INFO - Loading data from `test_y` (CSVDataSet)...\n",
      "2021-07-09 17:12:53,314 - kedro.io.data_catalog - INFO - Loading data from `parameters` (MemoryDataSet)...\n",
      "2021-07-09 17:12:53,323 - kedro.io.data_catalog - INFO - Loading data from `params:mlflow_databricks` (MemoryDataSet)...\n",
      "2021-07-09 17:12:53,327 - kedro.pipeline.node - INFO - Running node: mlflow_tracker_databricks: mlflow_metrics_tracking([parameters,params:mlflow_databricks,rf_model,test_x_clean,test_y]) -> None\n",
      "2021-07-09 17:12:54,067 - root - INFO - This experiment does exit! Continue set experiment and track!\n",
      "2021-07-09 17:12:59,973 - kedro.runner.sequential_runner - INFO - Completed 9 out of 10 tasks\n",
      "2021-07-09 17:12:59,975 - kedro.io.data_catalog - INFO - Loading data from `rf_model` (PickleDataSet)...\n",
      "2021-07-09 17:12:59,984 - kedro.io.data_catalog - INFO - Loading data from `test_x_clean` (CSVDataSet)...\n",
      "2021-07-09 17:13:00,130 - kedro.io.data_catalog - INFO - Loading data from `test_y` (CSVDataSet)...\n",
      "2021-07-09 17:13:00,138 - kedro.io.data_catalog - INFO - Loading data from `parameters` (MemoryDataSet)...\n",
      "2021-07-09 17:13:00,141 - kedro.io.data_catalog - INFO - Loading data from `params:mlflow_local` (MemoryDataSet)...\n",
      "2021-07-09 17:13:00,145 - kedro.pipeline.node - INFO - Running node: mlflow_tracker_local: mlflow_metrics_tracking([parameters,params:mlflow_local,rf_model,test_x_clean,test_y]) -> None\n",
      "2021-07-09 17:13:00,363 - root - INFO - Create A new experiment! Experiment path: ./mlruns.\n",
      "2021-07-09 17:13:00,655 - kedro.runner.sequential_runner - INFO - Completed 10 out of 10 tasks\n",
      "2021-07-09 17:13:00,658 - kedro.runner.sequential_runner - INFO - Pipeline execution completed successfully.\n"
     ]
    },
    {
     "output_type": "execute_result",
     "data": {
      "text/plain": [
       "{}"
      ]
     },
     "metadata": {},
     "execution_count": 8
    }
   ],
   "metadata": {}
  },
  {
   "cell_type": "code",
   "execution_count": 10,
   "source": [
    "parameters = project_context.params"
   ],
   "outputs": [
    {
     "output_type": "stream",
     "name": "stderr",
     "text": [
      "C:\\Users\\anle\\Anaconda3\\envs\\demo_kedro_mlflow\\lib\\site-packages\\kedro\\config\\config.py:324: UserWarning: Duplicate environment detected! Skipping re-loading from configuration path: C:\\Users\\anle\\Desktop\\journal_club\\demo_kedro_mlflow\\conf\\base\n",
      "  f\"Duplicate environment detected! \"\n"
     ]
    }
   ],
   "metadata": {}
  },
  {
   "cell_type": "markdown",
   "source": [
    "# 1. MLflow tracking locally"
   ],
   "metadata": {}
  },
  {
   "cell_type": "code",
   "execution_count": 43,
   "source": [
    "import mlflow\r\n",
    "\r\n",
    "mlflow_params = parameters['mlflow_local']\r\n",
    "mlflow.set_tracking_uri(mlflow_params['tracking_uri'])\r\n",
    "mlflow.set_experiment(mlflow_params['experiment_name'])\r\n"
   ],
   "outputs": [],
   "metadata": {}
  },
  {
   "cell_type": "markdown",
   "source": [
    "## Query past runs"
   ],
   "metadata": {}
  },
  {
   "cell_type": "code",
   "execution_count": 44,
   "source": [
    "from mlflow.tracking import MlflowClient\r\n",
    "\r\n",
    "client = MlflowClient()\r\n",
    "\r\n",
    "client.list_experiments()"
   ],
   "outputs": [
    {
     "output_type": "execute_result",
     "data": {
      "text/plain": [
       "[<Experiment: artifact_location='./mlruns/0', experiment_id='0', lifecycle_stage='active', name='Default', tags={}>,\n",
       " <Experiment: artifact_location='./mlruns/1', experiment_id='1', lifecycle_stage='active', name='leads', tags={}>]"
      ]
     },
     "metadata": {},
     "execution_count": 44
    }
   ],
   "metadata": {}
  },
  {
   "cell_type": "markdown",
   "source": [
    "## Search_runs to find all runs for a given experiment."
   ],
   "metadata": {}
  },
  {
   "cell_type": "code",
   "execution_count": 46,
   "source": [
    "runs_df = mlflow.search_runs(experiment_ids=['1'])\r\n",
    "\r\n",
    "display(runs_df)"
   ],
   "outputs": [
    {
     "output_type": "display_data",
     "data": {
      "text/plain": [
       "                             run_id experiment_id    status  \\\n",
       "0  2fd194ed857e4012b4b02453def885df             1  FINISHED   \n",
       "\n",
       "                                        artifact_uri  \\\n",
       "0  ./mlruns/1/2fd194ed857e4012b4b02453def885df/ar...   \n",
       "\n",
       "                        start_time                         end_time  \\\n",
       "0 2021-07-09 23:13:00.388000+00:00 2021-07-09 23:13:00.640000+00:00   \n",
       "\n",
       "   metrics.accuracy  metrics.auc params.max_depth params.random_state  \\\n",
       "0          0.726037     0.856307                3                2021   \n",
       "\n",
       "  params.n_estimators tags.mlflow.source.type tags.mlflow.user  \\\n",
       "0                  20                   LOCAL             anle   \n",
       "\n",
       "                             tags.mlflow.source.name  tags.mlflow.runName  \\\n",
       "0  C:\\Users\\anle\\Anaconda3\\envs\\demo_kedro_mlflow...  20210709_1713_leads   \n",
       "\n",
       "                       tags.mlflow.log-model.history  \n",
       "0  [{\"run_id\": \"2fd194ed857e4012b4b02453def885df\"...  "
      ],
      "text/html": [
       "<div>\n",
       "<style scoped>\n",
       "    .dataframe tbody tr th:only-of-type {\n",
       "        vertical-align: middle;\n",
       "    }\n",
       "\n",
       "    .dataframe tbody tr th {\n",
       "        vertical-align: top;\n",
       "    }\n",
       "\n",
       "    .dataframe thead th {\n",
       "        text-align: right;\n",
       "    }\n",
       "</style>\n",
       "<table border=\"1\" class=\"dataframe\">\n",
       "  <thead>\n",
       "    <tr style=\"text-align: right;\">\n",
       "      <th></th>\n",
       "      <th>run_id</th>\n",
       "      <th>experiment_id</th>\n",
       "      <th>status</th>\n",
       "      <th>artifact_uri</th>\n",
       "      <th>start_time</th>\n",
       "      <th>end_time</th>\n",
       "      <th>metrics.accuracy</th>\n",
       "      <th>metrics.auc</th>\n",
       "      <th>params.max_depth</th>\n",
       "      <th>params.random_state</th>\n",
       "      <th>params.n_estimators</th>\n",
       "      <th>tags.mlflow.source.type</th>\n",
       "      <th>tags.mlflow.user</th>\n",
       "      <th>tags.mlflow.source.name</th>\n",
       "      <th>tags.mlflow.runName</th>\n",
       "      <th>tags.mlflow.log-model.history</th>\n",
       "    </tr>\n",
       "  </thead>\n",
       "  <tbody>\n",
       "    <tr>\n",
       "      <th>0</th>\n",
       "      <td>2fd194ed857e4012b4b02453def885df</td>\n",
       "      <td>1</td>\n",
       "      <td>FINISHED</td>\n",
       "      <td>./mlruns/1/2fd194ed857e4012b4b02453def885df/ar...</td>\n",
       "      <td>2021-07-09 23:13:00.388000+00:00</td>\n",
       "      <td>2021-07-09 23:13:00.640000+00:00</td>\n",
       "      <td>0.726037</td>\n",
       "      <td>0.856307</td>\n",
       "      <td>3</td>\n",
       "      <td>2021</td>\n",
       "      <td>20</td>\n",
       "      <td>LOCAL</td>\n",
       "      <td>anle</td>\n",
       "      <td>C:\\Users\\anle\\Anaconda3\\envs\\demo_kedro_mlflow...</td>\n",
       "      <td>20210709_1713_leads</td>\n",
       "      <td>[{\"run_id\": \"2fd194ed857e4012b4b02453def885df\"...</td>\n",
       "    </tr>\n",
       "  </tbody>\n",
       "</table>\n",
       "</div>"
      ]
     },
     "metadata": {}
    }
   ],
   "metadata": {}
  },
  {
   "cell_type": "markdown",
   "source": [
    "## Pull the last run and look at metrics."
   ],
   "metadata": {}
  },
  {
   "cell_type": "code",
   "execution_count": 49,
   "source": [
    "runs = client.search_runs(experiment_ids=['1'], order_by=[\"metrics.auc\"], max_results=1000)\r\n",
    "runs[-1].data.metrics"
   ],
   "outputs": [
    {
     "output_type": "execute_result",
     "data": {
      "text/plain": [
       "{'accuracy': 0.7260374586852736, 'auc': 0.8563066105540257}"
      ]
     },
     "metadata": {},
     "execution_count": 49
    }
   ],
   "metadata": {}
  },
  {
   "cell_type": "markdown",
   "source": [
    "## Serving models with Azure ML"
   ],
   "metadata": {}
  },
  {
   "cell_type": "code",
   "execution_count": 38,
   "source": [
    "import azureml\r\n",
    "from azureml.core import Workspace"
   ],
   "outputs": [],
   "metadata": {}
  },
  {
   "cell_type": "markdown",
   "source": [
    "### Create or load an Azure ML Workspace"
   ],
   "metadata": {}
  },
  {
   "cell_type": "code",
   "execution_count": 50,
   "source": [
    "from azureml.core.authentication import InteractiveLoginAuthentication\r\n",
    "#forced_interactive_auth = InteractiveLoginAuthentication(tenant_id=\"1aa51068-11a6-4bd2-8646-1fff31a30ffc\", force=True)\r\n",
    "\r\n",
    "ws = Workspace(subscription_id=\"2f71beb8-0da7-42ec-9bb7-678bf7867567\",\r\n",
    "               resource_group=\"edadevarmrgp010\",\r\n",
    "               workspace_name=\"eaadevarmmlnuw2002\")\r\n",
    "               #auth=forced_interactive_auth)\r\n",
    "#ws = Workspace.from_config()"
   ],
   "outputs": [
    {
     "output_type": "stream",
     "name": "stderr",
     "text": [
      "C:\\Users\\anle\\Anaconda3\\envs\\demo_kedro_mlflow\\lib\\site-packages\\urllib3\\util\\retry.py:440: DeprecationWarning: Using 'method_whitelist' with Retry is deprecated and will be removed in v2.0. Use 'allowed_methods' instead\n",
      "  DeprecationWarning,\n"
     ]
    }
   ],
   "metadata": {}
  },
  {
   "cell_type": "markdown",
   "source": [
    "### MLflow "
   ],
   "metadata": {}
  },
  {
   "cell_type": "code",
   "execution_count": 51,
   "source": [
    "#import mlflow\r\n",
    "\r\n",
    "#mlflow.set_tracking_uri('databricks://STEEPBANK')\r\n",
    "#mlflow.set_experiment('/Users/anle@suncor.com/MLflow_experiment/iris')\r\n",
    "\r\n",
    "run_id = '2fd194ed857e4012b4b02453def885df'\r\n",
    "model_uri = \"runs:/\" + run_id + \"/model\"\r\n",
    "model = mlflow.sklearn.load_model(model_uri)"
   ],
   "outputs": [],
   "metadata": {}
  },
  {
   "cell_type": "markdown",
   "source": [
    "### Use MLflow to build a Container Image for the trained model"
   ],
   "metadata": {}
  },
  {
   "cell_type": "code",
   "execution_count": 54,
   "source": [
    "import mlflow.azureml\r\n",
    " \r\n",
    "model_image, azure_model = mlflow.azureml.build_image(model_uri=model_uri, \r\n",
    "                                                      workspace=ws,\r\n",
    "                                                      model_name=\"lead-model\",\r\n",
    "                                                      image_name=\"lead-model\",\r\n",
    "                                                      description=\"SKLEARN random forest for leads\",\r\n",
    "                                                      synchronous=False)"
   ],
   "outputs": [
    {
     "output_type": "stream",
     "name": "stdout",
     "text": [
      "Registering model lead-model\n"
     ]
    },
    {
     "output_type": "stream",
     "name": "stderr",
     "text": [
      "2021/07/09 22:30:02 INFO mlflow.azureml: Registered an Azure Model with name: `lead-model` and version: `1`\n"
     ]
    },
    {
     "output_type": "stream",
     "name": "stdout",
     "text": [
      "Creating image\n"
     ]
    },
    {
     "output_type": "stream",
     "name": "stderr",
     "text": [
      "C:\\Users\\anle\\Anaconda3\\envs\\demo_kedro_mlflow\\lib\\site-packages\\azureml\\core\\image\\image.py:407: DeprecationWarning: Image class has been deprecated and will be removed in a future release. Please migrate to using Environments. https://docs.microsoft.com/en-us/azure/machine-learning/how-to-use-environments\n",
      "  image = Image(workspace, id=image_id)\n",
      "2021/07/09 22:30:07 INFO mlflow.azureml: Building an Azure Container Image with name: `lead-model` and version: `1`\n"
     ]
    }
   ],
   "metadata": {}
  },
  {
   "cell_type": "code",
   "execution_count": 55,
   "source": [
    "model_image.wait_for_creation(show_output=True)"
   ],
   "outputs": [
    {
     "output_type": "stream",
     "name": "stdout",
     "text": [
      "Running...................................................................\n",
      "Succeeded\n"
     ]
    },
    {
     "output_type": "stream",
     "name": "stderr",
     "text": [
      "C:\\Users\\anle\\Anaconda3\\envs\\demo_kedro_mlflow\\lib\\site-packages\\azureml\\core\\image\\image.py:507: DeprecationWarning: Image class has been deprecated and will be removed in a future release. Please migrate to using Environments. https://docs.microsoft.com/en-us/azure/machine-learning/how-to-use-environments\n",
      "  image = Image(self.workspace, id=self.id)\n"
     ]
    },
    {
     "output_type": "stream",
     "name": "stdout",
     "text": [
      "Image creation operation finished for image lead-model:1, operation \"Succeeded\"\n"
     ]
    }
   ],
   "metadata": {}
  },
  {
   "cell_type": "markdown",
   "source": [
    "### Deploy the model to \"dev\" using Azure Container Instances (ACI)\n",
    "The ACI platform is the recommended environment for staging and developmental model deployments.\n",
    "\n",
    "Create an ACI webservice deployment using the model's Container Image"
   ],
   "metadata": {}
  },
  {
   "cell_type": "code",
   "execution_count": 56,
   "source": [
    "from azureml.core.webservice import AciWebservice, Webservice\r\n",
    " \r\n",
    "dev_webservice_name = \"lead-model\"\r\n",
    "dev_webservice_deployment_config = AciWebservice.deploy_configuration()\r\n",
    "dev_webservice = Webservice.deploy_from_image(name=dev_webservice_name, image=model_image, deployment_config=dev_webservice_deployment_config, workspace=ws)\r\n",
    "\r\n",
    "dev_webservice.wait_for_deployment()"
   ],
   "outputs": [
    {
     "output_type": "stream",
     "name": "stderr",
     "text": [
      "C:\\Users\\anle\\Anaconda3\\envs\\demo_kedro_mlflow\\lib\\site-packages\\ipykernel_launcher.py:5: DeprecationWarning: deploy_from_image has been deprecated and will be removed in a future release. Please migrate to using Environments. https://docs.microsoft.com/en-us/azure/machine-learning/how-to-use-environments\n",
      "  \"\"\"\n",
      "C:\\Users\\anle\\Anaconda3\\envs\\demo_kedro_mlflow\\lib\\site-packages\\azureml\\core\\image\\image.py:821: DeprecationWarning: Image class has been deprecated and will be removed in a future release. Please migrate to using Environments. https://docs.microsoft.com/en-us/azure/machine-learning/how-to-use-environments\n",
      "  image = cls(None)\n"
     ]
    },
    {
     "output_type": "stream",
     "name": "stdout",
     "text": [
      "ACI service creation operation finished, operation \"Succeeded\"\n"
     ]
    }
   ],
   "metadata": {}
  },
  {
   "cell_type": "code",
   "execution_count": null,
   "source": [],
   "outputs": [],
   "metadata": {}
  },
  {
   "cell_type": "code",
   "execution_count": null,
   "source": [],
   "outputs": [],
   "metadata": {}
  },
  {
   "cell_type": "code",
   "execution_count": null,
   "source": [],
   "outputs": [],
   "metadata": {}
  },
  {
   "cell_type": "code",
   "execution_count": null,
   "source": [],
   "outputs": [],
   "metadata": {}
  },
  {
   "cell_type": "code",
   "execution_count": null,
   "source": [],
   "outputs": [],
   "metadata": {}
  },
  {
   "cell_type": "code",
   "execution_count": null,
   "source": [],
   "outputs": [],
   "metadata": {}
  },
  {
   "cell_type": "code",
   "execution_count": 17,
   "source": [
    "from kedro.framework.session import get_current_session\r\n",
    "\r\n",
    "session = get_current_session()\r\n",
    "session.close()"
   ],
   "outputs": [
    {
     "output_type": "stream",
     "name": "stdout",
     "text": [
      "2021-07-09 10:41:53,256 - kedro.framework.session.store - INFO - `save()` not implemented for `BaseSessionStore`. Skipping the step.\n"
     ]
    }
   ],
   "metadata": {}
  },
  {
   "cell_type": "code",
   "execution_count": null,
   "source": [],
   "outputs": [],
   "metadata": {}
  }
 ],
 "metadata": {
  "kernelspec": {
   "display_name": "Python 3",
   "language": "python",
   "name": "python3"
  },
  "language_info": {
   "codemirror_mode": {
    "name": "ipython",
    "version": 3
   },
   "file_extension": ".py",
   "mimetype": "text/x-python",
   "name": "python",
   "nbconvert_exporter": "python",
   "pygments_lexer": "ipython3",
   "version": "3.7.10"
  }
 },
 "nbformat": 4,
 "nbformat_minor": 5
}